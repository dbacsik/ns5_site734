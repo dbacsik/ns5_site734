{
 "cells": [
  {
   "cell_type": "markdown",
   "metadata": {},
   "source": [
    "# Codon Frequencies\n",
    "This notebook parses FASTQ files and calculates the frequency of codons at site 734 in Zika Virus NS5 protein.\n",
    "\n",
    "FASTQ files for each cell population are specified in `samplesheet.csv`"
   ]
  },
  {
   "cell_type": "markdown",
   "metadata": {},
   "source": [
    "## Notebook setup\n",
    "Imports"
   ]
  },
  {
   "cell_type": "code",
   "execution_count": 1,
   "metadata": {},
   "outputs": [
    {
     "name": "stdout",
     "output_type": "stream",
     "text": [
      "numpy==1.19.1\n",
      "pandas==1.3.2\n",
      "plotnine==0.8.0\n",
      "regex==2.5.83\n"
     ]
    }
   ],
   "source": [
    "import gzip\n",
    "import os.path\n",
    "import numpy as np\n",
    "import pandas as pd\n",
    "import plotnine as p9\n",
    "import regex\n",
    "from Bio import SeqIO\n",
    "\n",
    "# print imports and versions\n",
    "# copied from https://stackoverflow.com/questions/40428931/package-for-listing-version-of-packages-used-in-a-jupyter-notebook\n",
    "print('\\n'.join(f'{m.__name__}=={m.__version__}' \\\n",
    "                for m in globals().values() if getattr(m, '__version__', None)))"
   ]
  },
  {
   "cell_type": "markdown",
   "metadata": {},
   "source": [
    "Input data"
   ]
  },
  {
   "cell_type": "code",
   "execution_count": 2,
   "metadata": {},
   "outputs": [],
   "source": [
    "samplesheet = 'tmp.csv'\n",
    "reference_file = 'ns5.fasta'\n",
    "codons_file = 'codons.csv.gz'"
   ]
  },
  {
   "cell_type": "markdown",
   "metadata": {},
   "source": [
    "Analysis parameters"
   ]
  },
  {
   "cell_type": "code",
   "execution_count": 3,
   "metadata": {},
   "outputs": [],
   "source": [
    "codon_start = 2203  # nposition in reference for first codon nt\n",
    "upstream_length = 15  # length of sequence before codon to search for\n",
    "downstream_length = 15  # length of sequence after codon to search for\n",
    "mismatches = 1  # number of mismatches allowed (per upstream/downstream sequence)\n",
    "nucleotides_allowed = 'ACGT'"
   ]
  },
  {
   "cell_type": "markdown",
   "metadata": {},
   "source": [
    "Notebook aesthetics"
   ]
  },
  {
   "cell_type": "code",
   "execution_count": 4,
   "metadata": {},
   "outputs": [],
   "source": [
    "p9.theme_set(p9.theme_classic())\n",
    "CBPALETTE_RICH = ['#648FFF', '#FFB000', '#DC267F', '#785EF0', '#FE6100']"
   ]
  },
  {
   "cell_type": "markdown",
   "metadata": {},
   "source": [
    "## Load data\n",
    "Load samples"
   ]
  },
  {
   "cell_type": "code",
   "execution_count": 5,
   "metadata": {},
   "outputs": [
    {
     "data": {
      "text/html": [
       "<div>\n",
       "<style scoped>\n",
       "    .dataframe tbody tr th:only-of-type {\n",
       "        vertical-align: middle;\n",
       "    }\n",
       "\n",
       "    .dataframe tbody tr th {\n",
       "        vertical-align: top;\n",
       "    }\n",
       "\n",
       "    .dataframe thead th {\n",
       "        text-align: right;\n",
       "    }\n",
       "</style>\n",
       "<table border=\"1\" class=\"dataframe\">\n",
       "  <thead>\n",
       "    <tr style=\"text-align: right;\">\n",
       "      <th></th>\n",
       "      <th>sample_name</th>\n",
       "      <th>infected</th>\n",
       "      <th>IFN</th>\n",
       "      <th>read</th>\n",
       "      <th>fastq_file</th>\n",
       "    </tr>\n",
       "  </thead>\n",
       "  <tbody>\n",
       "    <tr>\n",
       "      <th>0</th>\n",
       "      <td>WT_NS5_Sample</td>\n",
       "      <td>True</td>\n",
       "      <td>None</td>\n",
       "      <td>R1</td>\n",
       "      <td>/shared/ngs/illumina/bloom_lab/210917_M04866_0...</td>\n",
       "    </tr>\n",
       "    <tr>\n",
       "      <th>1</th>\n",
       "      <td>WT_NS5_Sample</td>\n",
       "      <td>True</td>\n",
       "      <td>None</td>\n",
       "      <td>R2</td>\n",
       "      <td>/shared/ngs/illumina/bloom_lab/210917_M04866_0...</td>\n",
       "    </tr>\n",
       "  </tbody>\n",
       "</table>\n",
       "</div>"
      ],
      "text/plain": [
       "     sample_name  infected   IFN read  \\\n",
       "0  WT_NS5_Sample      True  None   R1   \n",
       "1  WT_NS5_Sample      True  None   R2   \n",
       "\n",
       "                                          fastq_file  \n",
       "0  /shared/ngs/illumina/bloom_lab/210917_M04866_0...  \n",
       "1  /shared/ngs/illumina/bloom_lab/210917_M04866_0...  "
      ]
     },
     "metadata": {},
     "output_type": "display_data"
    }
   ],
   "source": [
    "samples = pd.read_csv(samplesheet)\n",
    "display(samples)"
   ]
  },
  {
   "cell_type": "markdown",
   "metadata": {},
   "source": [
    "Load reference sequence"
   ]
  },
  {
   "cell_type": "code",
   "execution_count": 6,
   "metadata": {},
   "outputs": [
    {
     "name": "stdout",
     "output_type": "stream",
     "text": [
      "NS5\n",
      "CGTGGAGGTGGGACGGGAGAGACTCTGGGAGAGAAGTGGAAAGCTCGTCTGAATCAGATGTCGGCCCTGGAGTTCTACTCTTATAAAAAGTCAGGTATCACTGAAGTGTGTAGAGAGGAGGCTCGCCGTGCCCTCAAGGATGGAGTGGCCACAGGAGGACATGCCGTATCCCGGGGAAGTGCAAAGCTCAGATGGTTGGTGGAGAGAGGATATCTGCAGCCCTATGGGAAGGTTGTTGACCTCGGATGTGGCAGAGGGGGCTGGAGCTATTATGCCGCCACCATCCGCAAAGTGCAGGAGGTGAGAGGATACACAAAGGGAGGTCCCGGTCATGAAGAACCCATGCTGGTGCAAAGCTATGGGTGGAACATAGTTCGTCTCAAGAGTGGAGTGGACGTCTTCCACATGGCGGCTGAGCCGTGTGACACTCTGCTGTGTGACATAGGTGAGTCATCATCTAGTCCTGAAGTGGAAGAGACACGAACACTCAGAGTGCTCTCTATGGTGGGGGACTGGCTTGAAAAAAGACCAGGGGCCTTCTGTATAAAGGTGCTGTGCCCATACACCAGCACTATGATGGAAACCATGGAGCGACTGCAACGTAGGCATGGGGGAGGATTAGTCAGAGTGCCATTGTCTCGCAACTCCACACATGAGATGTACTGGGTCTCTGGGGCAAAGAGCAACATCATAAAAAGTGTGTCCACCACAAGTCAGCTCCTCCTGGGACGCATGGATGGCCCCAGGAGGCCAGTGAAATATGAGGAGGATGTGAACCTCGGCTCGGGTACACGAGCTGTGGCAAGCTGTGCTGAGGCTCCTAACATGAAAATCATCGGCAGGCGCATTGAGAGAATCCGCAATGAACATGCAGAAACATGGTTTCTTGATGAAAACCACCCATACAGGACATGGGCCTACCATGGGAGCTACGAAGCCCCCACGCAAGGATCAGCGTCTTCCCTCGTGAACGGGGTTGTTAGACTCCTGTCAAAGCCTTGGGACGTGGTGACTGGAGTTACAGGAATAGCCATGACTGACACCACACCATACGGCCAACAAAGAGTCTTCAAAGAAAAAGTGGACACCAGGGTGCCAGATCCCCAAGAAGGCACTCGCCAGGTAATGAACATAGTCTCTTCCTGGCTGTGGAAGGAGCTGGGGAAACGCAAGCGGCCACGCGTCTGCACCAAAGAAGAGTTTATCAACAAGGTGCGCAGCAATGCAGCACTGGGAGCAATATTTGAAGAGGAAAAAGAATGGAAGACGGCTGTGGAAGCTGTGAATGATCCAAGGTTTTGGGCCCTAGTGGATAGGGAGAGAGAACACCACCTGAGAGGAGAGTGTCACAGCTGTGTGTACAACATGATGGGAAAAAGAGAAAAGAAGCAAGGAGAGTTCGGGAAAGCAAAAGGTAGCCGCGCCATCTGGTACATGTGGTTGGGAGCCAGATTCTTGGAGTTTGAAGCTCTTGGATTCTTGAACGAGGACCATTGGATGGGAAGAGAAAACTCAGGAGGTGGAGTCGAAGGGTTAGGATTGCAAAGACTTGGATACATTCTAGAAGAAATGAATCGGGCACCAGGAGGAAAGATGTACGCAGATGACACTGCTGGCTGGGACACCCGCATTAGTAAGTTTGATCTGGAGAATGAAGCTCTGATTACCAACCAAATGGAGGAAGGGCACAGAACTCTGGCGTTGGCCGTGATTAAATACACATACCAAAACAAAGTGGTGAAGGTTCTCAGACCAGCTGAAGGAGGAAAAACAGTTATGGACATCATTTCAAGACAAGACCAGAGAGGGAGTGGACAAGTTGTCACTTATGCTCTCAACACATTCACCAACTTGGTGGTGCAGCTTATCCGGAACATGGAAGCTGAGGAAGTGTTAGAGATGCAAGACTTATGGTTGTTGAGGAAGCCAGAGAAAGTGACCAGATGGTTGCAGAGCAATGGATGGGATAGACTCAAACGAATGGCGGTCAGTGGAGATGACTGCGTTGTGAAGCCAATCGATGATAGGTTTGCACATGCCCTCAGGTTCTTGAATGACATGGGAAAAGTTAGGAAAGACACACAGGAGTGGAAACCCTCGACTGGATGGAGCAATTGGGAAGAAGTCCCGTTCTGCTCCCACCACTTCAACAAGCTGTACCTCAAGGATGGGAGATCCATTGTGGTCCCTTGCCGCCACCAAGATGAACTGATTGGCCGAGCTCGCGTCTCACCAGGGGCAGGATGGAGCATCCGGGAGACTGCCTGTCTTGCAAAATCATATGCGCAGATGTGGCAGCTCCTTTATTTCCACAGAAGAGACCTTCGACTGATGGCTAATGCCATTTGCTCGGCTGTGCCAGTTGACTGGGTACCAACTGGGAGAACCACCTGGTCAATCCATGGAAAGGGAGAATGGATGACCACTGAGGACATGCTCATGGTGTGGAATAGAGTGTGGATTGAGGAGAACGACCATATGGAGGACAAGACTCCTGTAACAAAATGGACAGACATTCCCTATCTAGGAAAAAGGGAGGACTTATGGTGTGGATCCCTTATAGGGCACAGACCCCGCACCACTTGGGCTGAAAACATCAAAGACACAGTCAACATGGTGCGCAGGATCATAGGTGATGAAGAAAAGTACATGGACTATCTATCCACCCAAGTCCGCTACTTGGGTGAGGAAGGGTCCACACCCGGAGTGTTGTAA\n"
     ]
    }
   ],
   "source": [
    "reference = SeqIO.read(reference_file, 'fasta')\n",
    "print(reference.id)\n",
    "print(reference.seq)"
   ]
  },
  {
   "cell_type": "markdown",
   "metadata": {},
   "source": [
    "## Parse codon sequence\n",
    "Parse sequences if codons file is not already given in root directory."
   ]
  },
  {
   "cell_type": "markdown",
   "metadata": {},
   "source": [
    "Open codons file if present"
   ]
  },
  {
   "cell_type": "code",
   "execution_count": 7,
   "metadata": {},
   "outputs": [],
   "source": [
    "if os.path.isfile(codons_file):\n",
    "    print(f'Loading results from {codons_file}')\n",
    "    results = pd.read_csv(codons_file)\n",
    "    print('Done.')\n",
    "else:\n",
    "    pass"
   ]
  },
  {
   "cell_type": "markdown",
   "metadata": {},
   "source": [
    "Extract sequences upstream and downstream of codon"
   ]
  },
  {
   "cell_type": "code",
   "execution_count": 8,
   "metadata": {},
   "outputs": [
    {
     "name": "stdout",
     "output_type": "stream",
     "text": [
      "The codon starts at position 2203 and ends at position 2205 in the reference.\n",
      "The codon sequence in the reference is: GAT\n",
      "\n",
      "The upstream search sequence starts at position 2188 and ends at position 2202 in the reference.\n",
      "The upstream search sequence is: CCTTGCCGCCACCAA\n",
      "\n",
      "The downstream search sequence starts at position 2206 and ends at position 2220 in the reference.\n",
      "The downstream search sequence is: GAACTGATTGGCCGA\n"
     ]
    }
   ],
   "source": [
    "if os.path.isfile(codons_file):\n",
    "    pass\n",
    "else:\n",
    "    # feature positions in reference sequence\n",
    "    codon_end = codon_start + 2\n",
    "    upstream_start = codon_start - upstream_length\n",
    "    upstream_end = codon_start - 1\n",
    "    downstream_start = codon_end + 1\n",
    "    downstream_end = codon_end + downstream_length\n",
    "\n",
    "    # feature values\n",
    "    # python indexing is not inclusive of first coordinate, so\n",
    "    # all start positions are adjusted by -1\n",
    "    codon_reference = reference.seq[(codon_start-1):codon_end]\n",
    "    upstream = reference.seq[(upstream_start-1):upstream_end]\n",
    "    downstream = reference.seq[(downstream_start-1):downstream_end]\n",
    "\n",
    "    # print\n",
    "    print(f'The codon starts at position {codon_start} and '\n",
    "          f'ends at position {codon_end} in the reference.')\n",
    "    print(f'The codon sequence in the reference is: {codon_reference}\\n')\n",
    "    print(f'The upstream search sequence starts at position {upstream_start} '\n",
    "          f'and ends at position {upstream_end} in the reference.')\n",
    "    print(f'The upstream search sequence is: {upstream}\\n')\n",
    "    print(f'The downstream search sequence starts at position {downstream_start} '\n",
    "          f'and ends at position {downstream_end} in the reference.')\n",
    "    print(f'The downstream search sequence is: {downstream}')"
   ]
  },
  {
   "cell_type": "markdown",
   "metadata": {},
   "source": [
    "Build regex search"
   ]
  },
  {
   "cell_type": "code",
   "execution_count": 9,
   "metadata": {},
   "outputs": [
    {
     "name": "stdout",
     "output_type": "stream",
     "text": [
      "The search pattern for will be:\n",
      "(?:CCTTGCCGCCACCAA){e<=1}([ACGT]{3})(?:GAACTGATTGGCCGA){e<=1}\n"
     ]
    }
   ],
   "source": [
    "if os.path.isfile(codons_file):\n",
    "    pass\n",
    "else:\n",
    "    pattern = (f'(?:{upstream}){{e<={mismatches}}}' +  # match upstream\n",
    "                  f'([{nucleotides_allowed}]{{3}})' +  # match and capture codon\n",
    "                  f'(?:{downstream}){{e<={mismatches}}}')  # match downstream\n",
    "    print(f'The search pattern for will be:\\n{pattern}')"
   ]
  },
  {
   "cell_type": "markdown",
   "metadata": {},
   "source": [
    "Iterate through reads and store codons:"
   ]
  },
  {
   "cell_type": "code",
   "execution_count": 10,
   "metadata": {},
   "outputs": [
    {
     "name": "stdout",
     "output_type": "stream",
     "text": [
      "Parsing data for WT_NS5_Sample R1\n",
      "File is:  /shared/ngs/illumina/bloom_lab/210917_M04866_0509_000000000-JW58W/Data/Intensities/BaseCalls/WT-NS5-Sample_S1_L001_R1_001.fastq.gz\n",
      "\n",
      "\n",
      "Parsing data for WT_NS5_Sample R2\n",
      "File is:  /shared/ngs/illumina/bloom_lab/210917_M04866_0509_000000000-JW58W/Data/Intensities/BaseCalls/WT-NS5-Sample_S1_L001_R2_001.fastq.gz\n",
      "\n",
      "\n",
      "Saving results to codons.csv.gz\n"
     ]
    }
   ],
   "source": [
    "if os.path.isfile(codons_file):\n",
    "    pass\n",
    "else:\n",
    "    results = list()\n",
    "\n",
    "    for index, sample in samples.iterrows():\n",
    "        assert sample['read'] in ['R1', 'R2'], \"unrecognized read\"\n",
    "        with gzip.open(sample['fastq_file'], mode='rt') as handle:\n",
    "            print(f'Parsing data for {sample[\"sample_name\"]} {sample[\"read\"]}')\n",
    "            print(f'File is:  {sample[\"fastq_file\"]}')\n",
    "            seqs = SeqIO.parse(handle, 'fastq')\n",
    "            for sequence in seqs:\n",
    "                if(sample['read'] == 'R1'):\n",
    "                    search_seq = sequence.seq\n",
    "                elif(sample['read'] == 'R2'):\n",
    "                    search_seq = sequence.seq.reverse_complement()\n",
    "                result = regex.search(pattern, str(search_seq))\n",
    "                if result == None:\n",
    "                    match = 'failed_parse'\n",
    "                    codon = 'failed_parse'\n",
    "                else:\n",
    "                    match = result.group(0)\n",
    "                    codon = result.group(1)\n",
    "                results.append((sample['sample_name'],\n",
    "                                sample['read'],\n",
    "                                sequence.id,\n",
    "                                match,\n",
    "                                codon))\n",
    "            print('\\n')\n",
    "\n",
    "    results = pd.DataFrame(results)\n",
    "    results.columns = ['sample_name','read','read_id','match_string','codon']\n",
    "    print(f'Saving results to {codons_file}')\n",
    "    results.to_csv(codons_file)"
   ]
  },
  {
   "cell_type": "code",
   "execution_count": 20,
   "metadata": {},
   "outputs": [
    {
     "data": {
      "text/html": [
       "<div>\n",
       "<style scoped>\n",
       "    .dataframe tbody tr th:only-of-type {\n",
       "        vertical-align: middle;\n",
       "    }\n",
       "\n",
       "    .dataframe tbody tr th {\n",
       "        vertical-align: top;\n",
       "    }\n",
       "\n",
       "    .dataframe thead th {\n",
       "        text-align: right;\n",
       "    }\n",
       "</style>\n",
       "<table border=\"1\" class=\"dataframe\">\n",
       "  <thead>\n",
       "    <tr style=\"text-align: right;\">\n",
       "      <th></th>\n",
       "      <th>sample_name</th>\n",
       "      <th>read</th>\n",
       "      <th>read_id</th>\n",
       "      <th>match_string</th>\n",
       "      <th>codon</th>\n",
       "    </tr>\n",
       "  </thead>\n",
       "  <tbody>\n",
       "    <tr>\n",
       "      <th>0</th>\n",
       "      <td>WT_NS5_Sample</td>\n",
       "      <td>R1</td>\n",
       "      <td>M04866:509:000000000-JW58W:1:1101:17362:1802</td>\n",
       "      <td>CCCTTGCCGCCACCAATTTGAACTGATTGGCCGA</td>\n",
       "      <td>TTT</td>\n",
       "    </tr>\n",
       "    <tr>\n",
       "      <th>1</th>\n",
       "      <td>WT_NS5_Sample</td>\n",
       "      <td>R1</td>\n",
       "      <td>M04866:509:000000000-JW58W:1:1101:18222:1836</td>\n",
       "      <td>CCCTTGCCGCCACCAATTTGAACTGATTGGCCGA</td>\n",
       "      <td>TTT</td>\n",
       "    </tr>\n",
       "    <tr>\n",
       "      <th>2</th>\n",
       "      <td>WT_NS5_Sample</td>\n",
       "      <td>R1</td>\n",
       "      <td>M04866:509:000000000-JW58W:1:1101:17286:1855</td>\n",
       "      <td>CCCTTGCCGCCACCAACATGAACTGATTGGCCGA</td>\n",
       "      <td>CAT</td>\n",
       "    </tr>\n",
       "    <tr>\n",
       "      <th>3</th>\n",
       "      <td>WT_NS5_Sample</td>\n",
       "      <td>R1</td>\n",
       "      <td>M04866:509:000000000-JW58W:1:1101:16342:1902</td>\n",
       "      <td>CCCTTGCCGCCACCAATATGAACTGATTGGCCGA</td>\n",
       "      <td>TAT</td>\n",
       "    </tr>\n",
       "    <tr>\n",
       "      <th>4</th>\n",
       "      <td>WT_NS5_Sample</td>\n",
       "      <td>R1</td>\n",
       "      <td>M04866:509:000000000-JW58W:1:1101:16389:1914</td>\n",
       "      <td>CCCTTGCCGCCACCAATTTGAACTGATTGGCCGA</td>\n",
       "      <td>TTT</td>\n",
       "    </tr>\n",
       "    <tr>\n",
       "      <th>...</th>\n",
       "      <td>...</td>\n",
       "      <td>...</td>\n",
       "      <td>...</td>\n",
       "      <td>...</td>\n",
       "      <td>...</td>\n",
       "    </tr>\n",
       "    <tr>\n",
       "      <th>3676543</th>\n",
       "      <td>WT_NS5_Sample</td>\n",
       "      <td>R2</td>\n",
       "      <td>M04866:509:000000000-JW58W:1:2114:16337:29206</td>\n",
       "      <td>CCCTTGCCGCCACCAAGATGAACTGATTGGCCGA</td>\n",
       "      <td>GAT</td>\n",
       "    </tr>\n",
       "    <tr>\n",
       "      <th>3676544</th>\n",
       "      <td>WT_NS5_Sample</td>\n",
       "      <td>R2</td>\n",
       "      <td>M04866:509:000000000-JW58W:1:2114:16858:29210</td>\n",
       "      <td>CCCTTGCCGCCACCAAGATGAACTGATTGGCCGA</td>\n",
       "      <td>GAT</td>\n",
       "    </tr>\n",
       "    <tr>\n",
       "      <th>3676545</th>\n",
       "      <td>WT_NS5_Sample</td>\n",
       "      <td>R2</td>\n",
       "      <td>M04866:509:000000000-JW58W:1:2114:14480:29213</td>\n",
       "      <td>CCCTTGCCGCCACCAAGATGAACTGAGTGGCCGA</td>\n",
       "      <td>GAT</td>\n",
       "    </tr>\n",
       "    <tr>\n",
       "      <th>3676546</th>\n",
       "      <td>WT_NS5_Sample</td>\n",
       "      <td>R2</td>\n",
       "      <td>M04866:509:000000000-JW58W:1:2114:13993:29216</td>\n",
       "      <td>CCCTTGCCGCCACCAAAATGAACTGATTGGCCGA</td>\n",
       "      <td>AAT</td>\n",
       "    </tr>\n",
       "    <tr>\n",
       "      <th>3676547</th>\n",
       "      <td>WT_NS5_Sample</td>\n",
       "      <td>R2</td>\n",
       "      <td>M04866:509:000000000-JW58W:1:2114:16300:29219</td>\n",
       "      <td>CCCTTGCCGCCACCAAGATGAACTGATTGGCCGA</td>\n",
       "      <td>GAT</td>\n",
       "    </tr>\n",
       "  </tbody>\n",
       "</table>\n",
       "<p>3676548 rows × 5 columns</p>\n",
       "</div>"
      ],
      "text/plain": [
       "           sample_name read                                        read_id  \\\n",
       "0        WT_NS5_Sample   R1   M04866:509:000000000-JW58W:1:1101:17362:1802   \n",
       "1        WT_NS5_Sample   R1   M04866:509:000000000-JW58W:1:1101:18222:1836   \n",
       "2        WT_NS5_Sample   R1   M04866:509:000000000-JW58W:1:1101:17286:1855   \n",
       "3        WT_NS5_Sample   R1   M04866:509:000000000-JW58W:1:1101:16342:1902   \n",
       "4        WT_NS5_Sample   R1   M04866:509:000000000-JW58W:1:1101:16389:1914   \n",
       "...                ...  ...                                            ...   \n",
       "3676543  WT_NS5_Sample   R2  M04866:509:000000000-JW58W:1:2114:16337:29206   \n",
       "3676544  WT_NS5_Sample   R2  M04866:509:000000000-JW58W:1:2114:16858:29210   \n",
       "3676545  WT_NS5_Sample   R2  M04866:509:000000000-JW58W:1:2114:14480:29213   \n",
       "3676546  WT_NS5_Sample   R2  M04866:509:000000000-JW58W:1:2114:13993:29216   \n",
       "3676547  WT_NS5_Sample   R2  M04866:509:000000000-JW58W:1:2114:16300:29219   \n",
       "\n",
       "                               match_string codon  \n",
       "0        CCCTTGCCGCCACCAATTTGAACTGATTGGCCGA   TTT  \n",
       "1        CCCTTGCCGCCACCAATTTGAACTGATTGGCCGA   TTT  \n",
       "2        CCCTTGCCGCCACCAACATGAACTGATTGGCCGA   CAT  \n",
       "3        CCCTTGCCGCCACCAATATGAACTGATTGGCCGA   TAT  \n",
       "4        CCCTTGCCGCCACCAATTTGAACTGATTGGCCGA   TTT  \n",
       "...                                     ...   ...  \n",
       "3676543  CCCTTGCCGCCACCAAGATGAACTGATTGGCCGA   GAT  \n",
       "3676544  CCCTTGCCGCCACCAAGATGAACTGATTGGCCGA   GAT  \n",
       "3676545  CCCTTGCCGCCACCAAGATGAACTGAGTGGCCGA   GAT  \n",
       "3676546  CCCTTGCCGCCACCAAAATGAACTGATTGGCCGA   AAT  \n",
       "3676547  CCCTTGCCGCCACCAAGATGAACTGATTGGCCGA   GAT  \n",
       "\n",
       "[3676548 rows x 5 columns]"
      ]
     },
     "metadata": {},
     "output_type": "display_data"
    }
   ],
   "source": [
    "display(results)"
   ]
  },
  {
   "cell_type": "markdown",
   "metadata": {},
   "source": [
    "## Plot quality control"
   ]
  },
  {
   "cell_type": "markdown",
   "metadata": {},
   "source": [
    "Number of reads with codon successfully parsed per sample:"
   ]
  },
  {
   "cell_type": "code",
   "execution_count": 76,
   "metadata": {},
   "outputs": [
    {
     "data": {
      "image/png": "[encoded data removed]",
      "text/plain": [
       "<Figure size 600x400 with 2 Axes>"
      ]
     },
     "metadata": {},
     "output_type": "display_data"
    },
    {
     "data": {
      "text/plain": [
       "<ggplot: (8757510980587)>"
      ]
     },
     "metadata": {},
     "output_type": "display_data"
    }
   ],
   "source": [
    "parsing_qc = (p9.ggplot(results) +\n",
    "              p9.aes(x='sample_name',\n",
    "                     fill='codon != \"failed_parse\"') +\n",
    "              p9.geom_bar(stat='count') +\n",
    "              p9.facet_grid('read~') +\n",
    "              p9.ggtitle('Codon parsing') +\n",
    "              p9.labs(x='sample',\n",
    "                      y='reads',\n",
    "                      fill='codon successfully parsed') +\n",
    "              p9.theme(figure_size=(6, 4),\n",
    "                       plot_title=p9.element_text(size=11),\n",
    "                       axis_title=p9.element_text(size=10),\n",
    "                       axis_text_x=p9.element_text(rotation=45, hjust=1),\n",
    "                       legend_position='right',\n",
    "                       legend_title=p9.element_text(size=10),\n",
    "                       legend_title_align='center') +\n",
    "              p9.scale_fill_manual(CBPALETTE_RICH[0:])\n",
    "              )\n",
    "\n",
    "display(parsing_qc)"
   ]
  },
  {
   "cell_type": "markdown",
   "metadata": {},
   "source": [
    "Pair reads by read_id"
   ]
  },
  {
   "cell_type": "code",
   "execution_count": 75,
   "metadata": {},
   "outputs": [
    {
     "data": {
      "text/html": [
       "<div>\n",
       "<style scoped>\n",
       "    .dataframe tbody tr th:only-of-type {\n",
       "        vertical-align: middle;\n",
       "    }\n",
       "\n",
       "    .dataframe tbody tr th {\n",
       "        vertical-align: top;\n",
       "    }\n",
       "\n",
       "    .dataframe thead th {\n",
       "        text-align: right;\n",
       "    }\n",
       "</style>\n",
       "<table border=\"1\" class=\"dataframe\">\n",
       "  <thead>\n",
       "    <tr style=\"text-align: right;\">\n",
       "      <th>read</th>\n",
       "      <th>sample_name</th>\n",
       "      <th>read_id</th>\n",
       "      <th>R1</th>\n",
       "      <th>R2</th>\n",
       "      <th>missing_mate</th>\n",
       "      <th>pair_mismatch</th>\n",
       "    </tr>\n",
       "  </thead>\n",
       "  <tbody>\n",
       "    <tr>\n",
       "      <th>0</th>\n",
       "      <td>WT_NS5_Sample</td>\n",
       "      <td>M04866:509:000000000-JW58W:1:1101:10000:11899</td>\n",
       "      <td>GAT</td>\n",
       "      <td>GAT</td>\n",
       "      <td>False</td>\n",
       "      <td>False</td>\n",
       "    </tr>\n",
       "    <tr>\n",
       "      <th>1</th>\n",
       "      <td>WT_NS5_Sample</td>\n",
       "      <td>M04866:509:000000000-JW58W:1:1101:10000:9731</td>\n",
       "      <td>GAT</td>\n",
       "      <td>GAT</td>\n",
       "      <td>False</td>\n",
       "      <td>False</td>\n",
       "    </tr>\n",
       "    <tr>\n",
       "      <th>2</th>\n",
       "      <td>WT_NS5_Sample</td>\n",
       "      <td>M04866:509:000000000-JW58W:1:1101:10001:23608</td>\n",
       "      <td>failed_parse</td>\n",
       "      <td>failed_parse</td>\n",
       "      <td>False</td>\n",
       "      <td>False</td>\n",
       "    </tr>\n",
       "    <tr>\n",
       "      <th>3</th>\n",
       "      <td>WT_NS5_Sample</td>\n",
       "      <td>M04866:509:000000000-JW58W:1:1101:10001:23633</td>\n",
       "      <td>GAT</td>\n",
       "      <td>GAT</td>\n",
       "      <td>False</td>\n",
       "      <td>False</td>\n",
       "    </tr>\n",
       "    <tr>\n",
       "      <th>4</th>\n",
       "      <td>WT_NS5_Sample</td>\n",
       "      <td>M04866:509:000000000-JW58W:1:1101:10001:3645</td>\n",
       "      <td>GAT</td>\n",
       "      <td>GAT</td>\n",
       "      <td>False</td>\n",
       "      <td>False</td>\n",
       "    </tr>\n",
       "    <tr>\n",
       "      <th>...</th>\n",
       "      <td>...</td>\n",
       "      <td>...</td>\n",
       "      <td>...</td>\n",
       "      <td>...</td>\n",
       "      <td>...</td>\n",
       "      <td>...</td>\n",
       "    </tr>\n",
       "    <tr>\n",
       "      <th>1838269</th>\n",
       "      <td>WT_NS5_Sample</td>\n",
       "      <td>M04866:509:000000000-JW58W:1:2114:9998:27740</td>\n",
       "      <td>GAT</td>\n",
       "      <td>GAT</td>\n",
       "      <td>False</td>\n",
       "      <td>False</td>\n",
       "    </tr>\n",
       "    <tr>\n",
       "      <th>1838270</th>\n",
       "      <td>WT_NS5_Sample</td>\n",
       "      <td>M04866:509:000000000-JW58W:1:2114:9998:9015</td>\n",
       "      <td>GAT</td>\n",
       "      <td>GAT</td>\n",
       "      <td>False</td>\n",
       "      <td>False</td>\n",
       "    </tr>\n",
       "    <tr>\n",
       "      <th>1838271</th>\n",
       "      <td>WT_NS5_Sample</td>\n",
       "      <td>M04866:509:000000000-JW58W:1:2114:9999:21056</td>\n",
       "      <td>GAT</td>\n",
       "      <td>GAT</td>\n",
       "      <td>False</td>\n",
       "      <td>False</td>\n",
       "    </tr>\n",
       "    <tr>\n",
       "      <th>1838272</th>\n",
       "      <td>WT_NS5_Sample</td>\n",
       "      <td>M04866:509:000000000-JW58W:1:2114:9999:23438</td>\n",
       "      <td>GAT</td>\n",
       "      <td>GAT</td>\n",
       "      <td>False</td>\n",
       "      <td>False</td>\n",
       "    </tr>\n",
       "    <tr>\n",
       "      <th>1838273</th>\n",
       "      <td>WT_NS5_Sample</td>\n",
       "      <td>M04866:509:000000000-JW58W:1:2114:9999:27693</td>\n",
       "      <td>GAT</td>\n",
       "      <td>failed_parse</td>\n",
       "      <td>False</td>\n",
       "      <td>True</td>\n",
       "    </tr>\n",
       "  </tbody>\n",
       "</table>\n",
       "<p>1838274 rows × 6 columns</p>\n",
       "</div>"
      ],
      "text/plain": [
       "read       sample_name                                        read_id  \\\n",
       "0        WT_NS5_Sample  M04866:509:000000000-JW58W:1:1101:10000:11899   \n",
       "1        WT_NS5_Sample   M04866:509:000000000-JW58W:1:1101:10000:9731   \n",
       "2        WT_NS5_Sample  M04866:509:000000000-JW58W:1:1101:10001:23608   \n",
       "3        WT_NS5_Sample  M04866:509:000000000-JW58W:1:1101:10001:23633   \n",
       "4        WT_NS5_Sample   M04866:509:000000000-JW58W:1:1101:10001:3645   \n",
       "...                ...                                            ...   \n",
       "1838269  WT_NS5_Sample   M04866:509:000000000-JW58W:1:2114:9998:27740   \n",
       "1838270  WT_NS5_Sample    M04866:509:000000000-JW58W:1:2114:9998:9015   \n",
       "1838271  WT_NS5_Sample   M04866:509:000000000-JW58W:1:2114:9999:21056   \n",
       "1838272  WT_NS5_Sample   M04866:509:000000000-JW58W:1:2114:9999:23438   \n",
       "1838273  WT_NS5_Sample   M04866:509:000000000-JW58W:1:2114:9999:27693   \n",
       "\n",
       "read               R1            R2  missing_mate  pair_mismatch  \n",
       "0                 GAT           GAT         False          False  \n",
       "1                 GAT           GAT         False          False  \n",
       "2        failed_parse  failed_parse         False          False  \n",
       "3                 GAT           GAT         False          False  \n",
       "4                 GAT           GAT         False          False  \n",
       "...               ...           ...           ...            ...  \n",
       "1838269           GAT           GAT         False          False  \n",
       "1838270           GAT           GAT         False          False  \n",
       "1838271           GAT           GAT         False          False  \n",
       "1838272           GAT           GAT         False          False  \n",
       "1838273           GAT  failed_parse         False           True  \n",
       "\n",
       "[1838274 rows x 6 columns]"
      ]
     },
     "metadata": {},
     "output_type": "display_data"
    }
   ],
   "source": [
    "results_pairs = (\n",
    "    results\n",
    "    .pivot(index=['sample_name','read_id'], columns='read', values='codon')\n",
    "    .reset_index())\n",
    "\n",
    "#  Check for missing mate\n",
    "results_pairs['missing_mate'] = (\n",
    "    results_pairs['R1'].isnull() | results_pairs['R2'].isnull()\n",
    ")\n",
    "\n",
    "#  Check for mismatch\n",
    "results_pairs['pair_mismatch'] = (\n",
    "    results_pairs['R1'] != results_pairs['R2']\n",
    ")\n",
    "\n",
    "display(results_pairs)"
   ]
  },
  {
   "cell_type": "markdown",
   "metadata": {},
   "source": [
    "Plot missing mates"
   ]
  },
  {
   "cell_type": "code",
   "execution_count": 79,
   "metadata": {},
   "outputs": [
    {
     "data": {
      "image/png": "[encoded data removed]",
      "text/plain": [
       "<Figure size 600x200 with 1 Axes>"
      ]
     },
     "metadata": {},
     "output_type": "display_data"
    },
    {
     "data": {
      "text/plain": [
       "<ggplot: (8757505598449)>"
      ]
     },
     "metadata": {},
     "output_type": "display_data"
    }
   ],
   "source": [
    "mate_pair_qc = (p9.ggplot(results_pairs) +\n",
    "              p9.aes(x='sample_name',\n",
    "                     fill='missing_mate') +\n",
    "              p9.geom_bar(stat='count') +\n",
    "              p9.ggtitle('Missing read mate pairs') +\n",
    "              p9.labs(x='sample',\n",
    "                      y='reads',\n",
    "                      fill='missing mate pair') +\n",
    "              p9.theme(figure_size=(6, 2),\n",
    "                       plot_title=p9.element_text(size=11),\n",
    "                       axis_title=p9.element_text(size=10),\n",
    "                       axis_text_x=p9.element_text(rotation=45, hjust=1),\n",
    "                       legend_position='right',\n",
    "                       legend_title=p9.element_text(size=10),\n",
    "                       legend_title_align='center') +\n",
    "              p9.scale_fill_manual(CBPALETTE_RICH[0:])\n",
    "              )\n",
    "\n",
    "display(mate_pair_qc)"
   ]
  },
  {
   "cell_type": "markdown",
   "metadata": {},
   "source": [
    "Plot mismatched codon values from paired reads"
   ]
  },
  {
   "cell_type": "code",
   "execution_count": 80,
   "metadata": {},
   "outputs": [
    {
     "data": {
      "image/png": "[encoded data removed]",
      "text/plain": [
       "<Figure size 600x200 with 1 Axes>"
      ]
     },
     "metadata": {},
     "output_type": "display_data"
    },
    {
     "data": {
      "text/plain": [
       "<ggplot: (8757506123722)>"
      ]
     },
     "metadata": {},
     "output_type": "display_data"
    }
   ],
   "source": [
    "mismatched_pairs_qc = (p9.ggplot(results_pairs) +\n",
    "              p9.aes(x='sample_name',\n",
    "                     fill='pair_mismatch') +\n",
    "              p9.geom_bar(stat='count') +\n",
    "              p9.ggtitle('Mismatched read mate pairs') +\n",
    "              p9.labs(x='sample',\n",
    "                      y='reads',\n",
    "                      fill='mismatched mate pair') +\n",
    "              p9.theme(figure_size=(6, 2),\n",
    "                       plot_title=p9.element_text(size=11),\n",
    "                       axis_title=p9.element_text(size=10),\n",
    "                       axis_text_x=p9.element_text(rotation=45, hjust=1),\n",
    "                       legend_position='right',\n",
    "                       legend_title=p9.element_text(size=10),\n",
    "                       legend_title_align='center') +\n",
    "              p9.scale_fill_manual(CBPALETTE_RICH[0:])\n",
    "              )\n",
    "\n",
    "display(mismatched_pairs_qc)"
   ]
  },
  {
   "cell_type": "markdown",
   "metadata": {},
   "source": [
    "## Filter data\n",
    "Filter the data based on the QC metrics above."
   ]
  },
  {
   "cell_type": "code",
   "execution_count": 86,
   "metadata": {},
   "outputs": [
    {
     "data": {
      "text/html": [
       "<div>\n",
       "<style scoped>\n",
       "    .dataframe tbody tr th:only-of-type {\n",
       "        vertical-align: middle;\n",
       "    }\n",
       "\n",
       "    .dataframe tbody tr th {\n",
       "        vertical-align: top;\n",
       "    }\n",
       "\n",
       "    .dataframe thead th {\n",
       "        text-align: right;\n",
       "    }\n",
       "</style>\n",
       "<table border=\"1\" class=\"dataframe\">\n",
       "  <thead>\n",
       "    <tr style=\"text-align: right;\">\n",
       "      <th>read</th>\n",
       "      <th>sample_name</th>\n",
       "      <th>read_id</th>\n",
       "      <th>codon</th>\n",
       "    </tr>\n",
       "  </thead>\n",
       "  <tbody>\n",
       "    <tr>\n",
       "      <th>0</th>\n",
       "      <td>WT_NS5_Sample</td>\n",
       "      <td>M04866:509:000000000-JW58W:1:1101:10000:11899</td>\n",
       "      <td>GAT</td>\n",
       "    </tr>\n",
       "    <tr>\n",
       "      <th>1</th>\n",
       "      <td>WT_NS5_Sample</td>\n",
       "      <td>M04866:509:000000000-JW58W:1:1101:10000:9731</td>\n",
       "      <td>GAT</td>\n",
       "    </tr>\n",
       "    <tr>\n",
       "      <th>3</th>\n",
       "      <td>WT_NS5_Sample</td>\n",
       "      <td>M04866:509:000000000-JW58W:1:1101:10001:23633</td>\n",
       "      <td>GAT</td>\n",
       "    </tr>\n",
       "    <tr>\n",
       "      <th>4</th>\n",
       "      <td>WT_NS5_Sample</td>\n",
       "      <td>M04866:509:000000000-JW58W:1:1101:10001:3645</td>\n",
       "      <td>GAT</td>\n",
       "    </tr>\n",
       "    <tr>\n",
       "      <th>5</th>\n",
       "      <td>WT_NS5_Sample</td>\n",
       "      <td>M04866:509:000000000-JW58W:1:1101:10002:19760</td>\n",
       "      <td>GAT</td>\n",
       "    </tr>\n",
       "    <tr>\n",
       "      <th>...</th>\n",
       "      <td>...</td>\n",
       "      <td>...</td>\n",
       "      <td>...</td>\n",
       "    </tr>\n",
       "    <tr>\n",
       "      <th>1838268</th>\n",
       "      <td>WT_NS5_Sample</td>\n",
       "      <td>M04866:509:000000000-JW58W:1:2114:9998:23016</td>\n",
       "      <td>GAT</td>\n",
       "    </tr>\n",
       "    <tr>\n",
       "      <th>1838269</th>\n",
       "      <td>WT_NS5_Sample</td>\n",
       "      <td>M04866:509:000000000-JW58W:1:2114:9998:27740</td>\n",
       "      <td>GAT</td>\n",
       "    </tr>\n",
       "    <tr>\n",
       "      <th>1838270</th>\n",
       "      <td>WT_NS5_Sample</td>\n",
       "      <td>M04866:509:000000000-JW58W:1:2114:9998:9015</td>\n",
       "      <td>GAT</td>\n",
       "    </tr>\n",
       "    <tr>\n",
       "      <th>1838271</th>\n",
       "      <td>WT_NS5_Sample</td>\n",
       "      <td>M04866:509:000000000-JW58W:1:2114:9999:21056</td>\n",
       "      <td>GAT</td>\n",
       "    </tr>\n",
       "    <tr>\n",
       "      <th>1838272</th>\n",
       "      <td>WT_NS5_Sample</td>\n",
       "      <td>M04866:509:000000000-JW58W:1:2114:9999:23438</td>\n",
       "      <td>GAT</td>\n",
       "    </tr>\n",
       "  </tbody>\n",
       "</table>\n",
       "<p>1570693 rows × 3 columns</p>\n",
       "</div>"
      ],
      "text/plain": [
       "read       sample_name                                        read_id codon\n",
       "0        WT_NS5_Sample  M04866:509:000000000-JW58W:1:1101:10000:11899   GAT\n",
       "1        WT_NS5_Sample   M04866:509:000000000-JW58W:1:1101:10000:9731   GAT\n",
       "3        WT_NS5_Sample  M04866:509:000000000-JW58W:1:1101:10001:23633   GAT\n",
       "4        WT_NS5_Sample   M04866:509:000000000-JW58W:1:1101:10001:3645   GAT\n",
       "5        WT_NS5_Sample  M04866:509:000000000-JW58W:1:1101:10002:19760   GAT\n",
       "...                ...                                            ...   ...\n",
       "1838268  WT_NS5_Sample   M04866:509:000000000-JW58W:1:2114:9998:23016   GAT\n",
       "1838269  WT_NS5_Sample   M04866:509:000000000-JW58W:1:2114:9998:27740   GAT\n",
       "1838270  WT_NS5_Sample    M04866:509:000000000-JW58W:1:2114:9998:9015   GAT\n",
       "1838271  WT_NS5_Sample   M04866:509:000000000-JW58W:1:2114:9999:21056   GAT\n",
       "1838272  WT_NS5_Sample   M04866:509:000000000-JW58W:1:2114:9999:23438   GAT\n",
       "\n",
       "[1570693 rows x 3 columns]"
      ]
     },
     "metadata": {},
     "output_type": "display_data"
    }
   ],
   "source": [
    "results_filtered = (\n",
    "    results_pairs\n",
    "    .query(\n",
    "        'missing_mate == False & '\n",
    "        'pair_mismatch == False & '\n",
    "        'R1 != \"failed_parse\" & '\n",
    "        'R2 != \"failed_parse\"')\n",
    "    [['sample_name', 'read_id', 'R1']]\n",
    "    .rename(columns={'R1': 'codon'})\n",
    ")\n",
    "\n",
    "display(results_filtered)"
   ]
  },
  {
   "cell_type": "markdown",
   "metadata": {},
   "source": [
    "## Plot codon frequencies"
   ]
  },
  {
   "cell_type": "markdown",
   "metadata": {},
   "source": [
    "Bring in experiment info"
   ]
  },
  {
   "cell_type": "code",
   "execution_count": 93,
   "metadata": {},
   "outputs": [
    {
     "data": {
      "text/html": [
       "<div>\n",
       "<style scoped>\n",
       "    .dataframe tbody tr th:only-of-type {\n",
       "        vertical-align: middle;\n",
       "    }\n",
       "\n",
       "    .dataframe tbody tr th {\n",
       "        vertical-align: top;\n",
       "    }\n",
       "\n",
       "    .dataframe thead th {\n",
       "        text-align: right;\n",
       "    }\n",
       "</style>\n",
       "<table border=\"1\" class=\"dataframe\">\n",
       "  <thead>\n",
       "    <tr style=\"text-align: right;\">\n",
       "      <th></th>\n",
       "      <th>sample_name</th>\n",
       "      <th>infected</th>\n",
       "      <th>IFN</th>\n",
       "      <th>read_id</th>\n",
       "      <th>codon</th>\n",
       "    </tr>\n",
       "  </thead>\n",
       "  <tbody>\n",
       "    <tr>\n",
       "      <th>0</th>\n",
       "      <td>WT_NS5_Sample</td>\n",
       "      <td>True</td>\n",
       "      <td>None</td>\n",
       "      <td>M04866:509:000000000-JW58W:1:1101:10000:11899</td>\n",
       "      <td>GAT</td>\n",
       "    </tr>\n",
       "    <tr>\n",
       "      <th>1</th>\n",
       "      <td>WT_NS5_Sample</td>\n",
       "      <td>True</td>\n",
       "      <td>None</td>\n",
       "      <td>M04866:509:000000000-JW58W:1:1101:10000:9731</td>\n",
       "      <td>GAT</td>\n",
       "    </tr>\n",
       "    <tr>\n",
       "      <th>2</th>\n",
       "      <td>WT_NS5_Sample</td>\n",
       "      <td>True</td>\n",
       "      <td>None</td>\n",
       "      <td>M04866:509:000000000-JW58W:1:1101:10001:23633</td>\n",
       "      <td>GAT</td>\n",
       "    </tr>\n",
       "    <tr>\n",
       "      <th>3</th>\n",
       "      <td>WT_NS5_Sample</td>\n",
       "      <td>True</td>\n",
       "      <td>None</td>\n",
       "      <td>M04866:509:000000000-JW58W:1:1101:10001:3645</td>\n",
       "      <td>GAT</td>\n",
       "    </tr>\n",
       "    <tr>\n",
       "      <th>4</th>\n",
       "      <td>WT_NS5_Sample</td>\n",
       "      <td>True</td>\n",
       "      <td>None</td>\n",
       "      <td>M04866:509:000000000-JW58W:1:1101:10002:19760</td>\n",
       "      <td>GAT</td>\n",
       "    </tr>\n",
       "    <tr>\n",
       "      <th>...</th>\n",
       "      <td>...</td>\n",
       "      <td>...</td>\n",
       "      <td>...</td>\n",
       "      <td>...</td>\n",
       "      <td>...</td>\n",
       "    </tr>\n",
       "    <tr>\n",
       "      <th>1570688</th>\n",
       "      <td>WT_NS5_Sample</td>\n",
       "      <td>True</td>\n",
       "      <td>None</td>\n",
       "      <td>M04866:509:000000000-JW58W:1:2114:9998:23016</td>\n",
       "      <td>GAT</td>\n",
       "    </tr>\n",
       "    <tr>\n",
       "      <th>1570689</th>\n",
       "      <td>WT_NS5_Sample</td>\n",
       "      <td>True</td>\n",
       "      <td>None</td>\n",
       "      <td>M04866:509:000000000-JW58W:1:2114:9998:27740</td>\n",
       "      <td>GAT</td>\n",
       "    </tr>\n",
       "    <tr>\n",
       "      <th>1570690</th>\n",
       "      <td>WT_NS5_Sample</td>\n",
       "      <td>True</td>\n",
       "      <td>None</td>\n",
       "      <td>M04866:509:000000000-JW58W:1:2114:9998:9015</td>\n",
       "      <td>GAT</td>\n",
       "    </tr>\n",
       "    <tr>\n",
       "      <th>1570691</th>\n",
       "      <td>WT_NS5_Sample</td>\n",
       "      <td>True</td>\n",
       "      <td>None</td>\n",
       "      <td>M04866:509:000000000-JW58W:1:2114:9999:21056</td>\n",
       "      <td>GAT</td>\n",
       "    </tr>\n",
       "    <tr>\n",
       "      <th>1570692</th>\n",
       "      <td>WT_NS5_Sample</td>\n",
       "      <td>True</td>\n",
       "      <td>None</td>\n",
       "      <td>M04866:509:000000000-JW58W:1:2114:9999:23438</td>\n",
       "      <td>GAT</td>\n",
       "    </tr>\n",
       "  </tbody>\n",
       "</table>\n",
       "<p>1570693 rows × 5 columns</p>\n",
       "</div>"
      ],
      "text/plain": [
       "           sample_name  infected   IFN  \\\n",
       "0        WT_NS5_Sample      True  None   \n",
       "1        WT_NS5_Sample      True  None   \n",
       "2        WT_NS5_Sample      True  None   \n",
       "3        WT_NS5_Sample      True  None   \n",
       "4        WT_NS5_Sample      True  None   \n",
       "...                ...       ...   ...   \n",
       "1570688  WT_NS5_Sample      True  None   \n",
       "1570689  WT_NS5_Sample      True  None   \n",
       "1570690  WT_NS5_Sample      True  None   \n",
       "1570691  WT_NS5_Sample      True  None   \n",
       "1570692  WT_NS5_Sample      True  None   \n",
       "\n",
       "                                               read_id codon  \n",
       "0        M04866:509:000000000-JW58W:1:1101:10000:11899   GAT  \n",
       "1         M04866:509:000000000-JW58W:1:1101:10000:9731   GAT  \n",
       "2        M04866:509:000000000-JW58W:1:1101:10001:23633   GAT  \n",
       "3         M04866:509:000000000-JW58W:1:1101:10001:3645   GAT  \n",
       "4        M04866:509:000000000-JW58W:1:1101:10002:19760   GAT  \n",
       "...                                                ...   ...  \n",
       "1570688   M04866:509:000000000-JW58W:1:2114:9998:23016   GAT  \n",
       "1570689   M04866:509:000000000-JW58W:1:2114:9998:27740   GAT  \n",
       "1570690    M04866:509:000000000-JW58W:1:2114:9998:9015   GAT  \n",
       "1570691   M04866:509:000000000-JW58W:1:2114:9999:21056   GAT  \n",
       "1570692   M04866:509:000000000-JW58W:1:2114:9999:23438   GAT  \n",
       "\n",
       "[1570693 rows x 5 columns]"
      ]
     },
     "metadata": {},
     "output_type": "display_data"
    }
   ],
   "source": [
    "results_annotated = pd.merge(\n",
    "    left=samples[['sample_name', 'infected', 'IFN']].drop_duplicates(),\n",
    "    right=results_filtered,\n",
    "    on='sample_name',\n",
    "    how='right',\n",
    "    validate='one_to_many'\n",
    ")\n",
    "\n",
    "display(results_annotated)"
   ]
  },
  {
   "cell_type": "markdown",
   "metadata": {},
   "source": [
    "Label WT codons"
   ]
  },
  {
   "cell_type": "code",
   "execution_count": 95,
   "metadata": {},
   "outputs": [
    {
     "data": {
      "text/html": [
       "<div>\n",
       "<style scoped>\n",
       "    .dataframe tbody tr th:only-of-type {\n",
       "        vertical-align: middle;\n",
       "    }\n",
       "\n",
       "    .dataframe tbody tr th {\n",
       "        vertical-align: top;\n",
       "    }\n",
       "\n",
       "    .dataframe thead th {\n",
       "        text-align: right;\n",
       "    }\n",
       "</style>\n",
       "<table border=\"1\" class=\"dataframe\">\n",
       "  <thead>\n",
       "    <tr style=\"text-align: right;\">\n",
       "      <th></th>\n",
       "      <th>sample_name</th>\n",
       "      <th>infected</th>\n",
       "      <th>IFN</th>\n",
       "      <th>read_id</th>\n",
       "      <th>codon</th>\n",
       "      <th>wt</th>\n",
       "    </tr>\n",
       "  </thead>\n",
       "  <tbody>\n",
       "    <tr>\n",
       "      <th>0</th>\n",
       "      <td>WT_NS5_Sample</td>\n",
       "      <td>True</td>\n",
       "      <td>None</td>\n",
       "      <td>M04866:509:000000000-JW58W:1:1101:10000:11899</td>\n",
       "      <td>GAT</td>\n",
       "      <td>True</td>\n",
       "    </tr>\n",
       "    <tr>\n",
       "      <th>1</th>\n",
       "      <td>WT_NS5_Sample</td>\n",
       "      <td>True</td>\n",
       "      <td>None</td>\n",
       "      <td>M04866:509:000000000-JW58W:1:1101:10000:9731</td>\n",
       "      <td>GAT</td>\n",
       "      <td>True</td>\n",
       "    </tr>\n",
       "    <tr>\n",
       "      <th>2</th>\n",
       "      <td>WT_NS5_Sample</td>\n",
       "      <td>True</td>\n",
       "      <td>None</td>\n",
       "      <td>M04866:509:000000000-JW58W:1:1101:10001:23633</td>\n",
       "      <td>GAT</td>\n",
       "      <td>True</td>\n",
       "    </tr>\n",
       "    <tr>\n",
       "      <th>3</th>\n",
       "      <td>WT_NS5_Sample</td>\n",
       "      <td>True</td>\n",
       "      <td>None</td>\n",
       "      <td>M04866:509:000000000-JW58W:1:1101:10001:3645</td>\n",
       "      <td>GAT</td>\n",
       "      <td>True</td>\n",
       "    </tr>\n",
       "    <tr>\n",
       "      <th>4</th>\n",
       "      <td>WT_NS5_Sample</td>\n",
       "      <td>True</td>\n",
       "      <td>None</td>\n",
       "      <td>M04866:509:000000000-JW58W:1:1101:10002:19760</td>\n",
       "      <td>GAT</td>\n",
       "      <td>True</td>\n",
       "    </tr>\n",
       "    <tr>\n",
       "      <th>...</th>\n",
       "      <td>...</td>\n",
       "      <td>...</td>\n",
       "      <td>...</td>\n",
       "      <td>...</td>\n",
       "      <td>...</td>\n",
       "      <td>...</td>\n",
       "    </tr>\n",
       "    <tr>\n",
       "      <th>1570688</th>\n",
       "      <td>WT_NS5_Sample</td>\n",
       "      <td>True</td>\n",
       "      <td>None</td>\n",
       "      <td>M04866:509:000000000-JW58W:1:2114:9998:23016</td>\n",
       "      <td>GAT</td>\n",
       "      <td>True</td>\n",
       "    </tr>\n",
       "    <tr>\n",
       "      <th>1570689</th>\n",
       "      <td>WT_NS5_Sample</td>\n",
       "      <td>True</td>\n",
       "      <td>None</td>\n",
       "      <td>M04866:509:000000000-JW58W:1:2114:9998:27740</td>\n",
       "      <td>GAT</td>\n",
       "      <td>True</td>\n",
       "    </tr>\n",
       "    <tr>\n",
       "      <th>1570690</th>\n",
       "      <td>WT_NS5_Sample</td>\n",
       "      <td>True</td>\n",
       "      <td>None</td>\n",
       "      <td>M04866:509:000000000-JW58W:1:2114:9998:9015</td>\n",
       "      <td>GAT</td>\n",
       "      <td>True</td>\n",
       "    </tr>\n",
       "    <tr>\n",
       "      <th>1570691</th>\n",
       "      <td>WT_NS5_Sample</td>\n",
       "      <td>True</td>\n",
       "      <td>None</td>\n",
       "      <td>M04866:509:000000000-JW58W:1:2114:9999:21056</td>\n",
       "      <td>GAT</td>\n",
       "      <td>True</td>\n",
       "    </tr>\n",
       "    <tr>\n",
       "      <th>1570692</th>\n",
       "      <td>WT_NS5_Sample</td>\n",
       "      <td>True</td>\n",
       "      <td>None</td>\n",
       "      <td>M04866:509:000000000-JW58W:1:2114:9999:23438</td>\n",
       "      <td>GAT</td>\n",
       "      <td>True</td>\n",
       "    </tr>\n",
       "  </tbody>\n",
       "</table>\n",
       "<p>1570693 rows × 6 columns</p>\n",
       "</div>"
      ],
      "text/plain": [
       "           sample_name  infected   IFN  \\\n",
       "0        WT_NS5_Sample      True  None   \n",
       "1        WT_NS5_Sample      True  None   \n",
       "2        WT_NS5_Sample      True  None   \n",
       "3        WT_NS5_Sample      True  None   \n",
       "4        WT_NS5_Sample      True  None   \n",
       "...                ...       ...   ...   \n",
       "1570688  WT_NS5_Sample      True  None   \n",
       "1570689  WT_NS5_Sample      True  None   \n",
       "1570690  WT_NS5_Sample      True  None   \n",
       "1570691  WT_NS5_Sample      True  None   \n",
       "1570692  WT_NS5_Sample      True  None   \n",
       "\n",
       "                                               read_id codon    wt  \n",
       "0        M04866:509:000000000-JW58W:1:1101:10000:11899   GAT  True  \n",
       "1         M04866:509:000000000-JW58W:1:1101:10000:9731   GAT  True  \n",
       "2        M04866:509:000000000-JW58W:1:1101:10001:23633   GAT  True  \n",
       "3         M04866:509:000000000-JW58W:1:1101:10001:3645   GAT  True  \n",
       "4        M04866:509:000000000-JW58W:1:1101:10002:19760   GAT  True  \n",
       "...                                                ...   ...   ...  \n",
       "1570688   M04866:509:000000000-JW58W:1:2114:9998:23016   GAT  True  \n",
       "1570689   M04866:509:000000000-JW58W:1:2114:9998:27740   GAT  True  \n",
       "1570690    M04866:509:000000000-JW58W:1:2114:9998:9015   GAT  True  \n",
       "1570691   M04866:509:000000000-JW58W:1:2114:9999:21056   GAT  True  \n",
       "1570692   M04866:509:000000000-JW58W:1:2114:9999:23438   GAT  True  \n",
       "\n",
       "[1570693 rows x 6 columns]"
      ]
     },
     "metadata": {},
     "output_type": "display_data"
    }
   ],
   "source": [
    "results_annotated['wt'] = (results_annotated['codon'] == 'GAT')\n",
    "display(results_annotated)"
   ]
  },
  {
   "cell_type": "markdown",
   "metadata": {},
   "source": [
    "WT vs mutant codons"
   ]
  },
  {
   "cell_type": "code",
   "execution_count": 96,
   "metadata": {},
   "outputs": [
    {
     "data": {
      "image/png": "[encoded data removed]",
      "text/plain": [
       "<Figure size 600x200 with 1 Axes>"
      ]
     },
     "metadata": {},
     "output_type": "display_data"
    },
    {
     "data": {
      "text/plain": [
       "<ggplot: (8757506072077)>"
      ]
     },
     "metadata": {},
     "output_type": "display_data"
    }
   ],
   "source": [
    "wt_freq = (p9.ggplot(results_annotated) +\n",
    "              p9.aes(x='sample_name',\n",
    "                     fill='wt') +\n",
    "              p9.geom_bar(stat='count') +\n",
    "              p9.ggtitle('WT Codon frequency') +\n",
    "              p9.labs(x='sample',\n",
    "                      y='reads',\n",
    "                      fill='WT Codon') +\n",
    "              p9.theme(figure_size=(6, 2),\n",
    "                       plot_title=p9.element_text(size=11),\n",
    "                       axis_title=p9.element_text(size=10),\n",
    "                       axis_text_x=p9.element_text(rotation=45, hjust=1),\n",
    "                       legend_position='right',\n",
    "                       legend_title=p9.element_text(size=10),\n",
    "                       legend_title_align='center') +\n",
    "              p9.scale_fill_manual(CBPALETTE_RICH[0:])\n",
    "              )\n",
    "\n",
    "display(wt_freq)"
   ]
  },
  {
   "cell_type": "markdown",
   "metadata": {},
   "source": [
    "Codon counts per sample"
   ]
  },
  {
   "cell_type": "code",
   "execution_count": null,
   "metadata": {},
   "outputs": [],
   "source": [
    "codon_counts = (p9.ggplot(results_annotated) +\n",
    "                p9.aes(x='codon',) +\n",
    "                p9.geom_bar(stat='count') +\n",
    "                p9.facet_grid('sample_name~') +\n",
    "                p9.ggtitle('Codon counts') +\n",
    "                p9.labs(x='codon',\n",
    "                        y='reads') +\n",
    "                p9.theme(figure_size=(10, 8),\n",
    "                         plot_title=p9.element_text(size=11),\n",
    "                         axis_title=p9.element_text(size=10),\n",
    "                         axis_text_x=p9.element_text(rotation=90),\n",
    "                         strip_text_y=p9.element_text(angle = 0))\n",
    "               )\n",
    "\n",
    "display(codon_counts)"
   ]
  },
  {
   "cell_type": "code",
   "execution_count": null,
   "metadata": {},
   "outputs": [],
   "source": []
  }
 ],
 "metadata": {
  "kernelspec": {
   "display_name": "Python 3",
   "language": "python",
   "name": "python3"
  },
  "language_info": {
   "codemirror_mode": {
    "name": "ipython",
    "version": 3
   },
   "file_extension": ".py",
   "mimetype": "text/x-python",
   "name": "python",
   "nbconvert_exporter": "python",
   "pygments_lexer": "ipython3",
   "version": "3.8.5"
  }
 },
 "nbformat": 4,
 "nbformat_minor": 5
}
