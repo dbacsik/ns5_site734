{
 "cells": [
  {
   "cell_type": "markdown",
   "metadata": {},
   "source": [
    "# Codon Frequencies\n",
    "This notebook parses FASTQ files and calculates the frequency of codons at site 734 in Zika Virus NS5 protein.\n",
    "\n",
    "FASTQ files for each cell population are specified in `samplesheet.csv`"
   ]
  },
  {
   "cell_type": "markdown",
   "metadata": {},
   "source": [
    "## Notebook setup\n",
    "Imports"
   ]
  },
  {
   "cell_type": "code",
   "execution_count": 1,
   "metadata": {},
   "outputs": [
    {
     "name": "stdout",
     "output_type": "stream",
     "text": [
      "numpy==1.19.1\n",
      "pandas==1.3.2\n",
      "plotnine==0.8.0\n",
      "regex==2.5.83\n"
     ]
    }
   ],
   "source": [
    "import gzip\n",
    "import os.path\n",
    "import numpy as np\n",
    "import pandas as pd\n",
    "import plotnine as p9\n",
    "import regex\n",
    "from Bio import SeqIO\n",
    "\n",
    "# print imports and versions\n",
    "# copied from https://stackoverflow.com/questions/40428931/package-for-listing-version-of-packages-used-in-a-jupyter-notebook\n",
    "print('\\n'.join(f'{m.__name__}=={m.__version__}' \\\n",
    "                for m in globals().values() if getattr(m, '__version__', None)))"
   ]
  },
  {
   "cell_type": "markdown",
   "metadata": {},
   "source": [
    "Input data"
   ]
  },
  {
   "cell_type": "code",
   "execution_count": 2,
   "metadata": {},
   "outputs": [],
   "source": [
    "samplesheet = 'tmp.csv'\n",
    "reference_file = 'ns5.fasta'\n",
    "codons_file = 'codons.csv.gz'"
   ]
  },
  {
   "cell_type": "markdown",
   "metadata": {},
   "source": [
    "Analysis parameters"
   ]
  },
  {
   "cell_type": "code",
   "execution_count": 3,
   "metadata": {},
   "outputs": [],
   "source": [
    "codon_start = 2203  # nposition in reference for first codon nt\n",
    "upstream_length = 15  # length of sequence before codon to search for\n",
    "downstream_length = 15  # length of sequence after codon to search for\n",
    "mismatches = 1  # number of mismatches allowed (per upstream/downstream sequence)\n",
    "nucleotides_allowed = 'ACGT'"
   ]
  },
  {
   "cell_type": "markdown",
   "metadata": {},
   "source": [
    "Notebook aesthetics"
   ]
  },
  {
   "cell_type": "code",
   "execution_count": 4,
   "metadata": {},
   "outputs": [],
   "source": [
    "p9.theme_set(p9.theme_classic())\n",
    "CBPALETTE_RICH = ['#648FFF', '#FFB000', '#DC267F', '#785EF0', '#FE6100']"
   ]
  },
  {
   "cell_type": "markdown",
   "metadata": {},
   "source": [
    "## Load data\n",
    "Load samples"
   ]
  },
  {
   "cell_type": "code",
   "execution_count": 5,
   "metadata": {},
   "outputs": [
    {
     "data": {
      "text/html": [
       "<div>\n",
       "<style scoped>\n",
       "    .dataframe tbody tr th:only-of-type {\n",
       "        vertical-align: middle;\n",
       "    }\n",
       "\n",
       "    .dataframe tbody tr th {\n",
       "        vertical-align: top;\n",
       "    }\n",
       "\n",
       "    .dataframe thead th {\n",
       "        text-align: right;\n",
       "    }\n",
       "</style>\n",
       "<table border=\"1\" class=\"dataframe\">\n",
       "  <thead>\n",
       "    <tr style=\"text-align: right;\">\n",
       "      <th></th>\n",
       "      <th>sample_name</th>\n",
       "      <th>infected</th>\n",
       "      <th>IFN</th>\n",
       "      <th>read</th>\n",
       "      <th>fastq_file</th>\n",
       "    </tr>\n",
       "  </thead>\n",
       "  <tbody>\n",
       "    <tr>\n",
       "      <th>0</th>\n",
       "      <td>Mut_NS5_Sample</td>\n",
       "      <td>True</td>\n",
       "      <td>None</td>\n",
       "      <td>R1</td>\n",
       "      <td>/shared/ngs/illumina/bloom_lab/210917_M04866_0...</td>\n",
       "    </tr>\n",
       "    <tr>\n",
       "      <th>1</th>\n",
       "      <td>Mut_NS5_Sample</td>\n",
       "      <td>True</td>\n",
       "      <td>None</td>\n",
       "      <td>R2</td>\n",
       "      <td>/shared/ngs/illumina/bloom_lab/210917_M04866_0...</td>\n",
       "    </tr>\n",
       "    <tr>\n",
       "      <th>2</th>\n",
       "      <td>Mut_Rnd1_mCherry_neg</td>\n",
       "      <td>True</td>\n",
       "      <td>False</td>\n",
       "      <td>R1</td>\n",
       "      <td>/shared/ngs/illumina/bloom_lab/210917_M04866_0...</td>\n",
       "    </tr>\n",
       "    <tr>\n",
       "      <th>3</th>\n",
       "      <td>Mut_Rnd1_mCherry_neg</td>\n",
       "      <td>True</td>\n",
       "      <td>False</td>\n",
       "      <td>R2</td>\n",
       "      <td>/shared/ngs/illumina/bloom_lab/210917_M04866_0...</td>\n",
       "    </tr>\n",
       "    <tr>\n",
       "      <th>4</th>\n",
       "      <td>Mut_Rnd1_mCherry_pos</td>\n",
       "      <td>True</td>\n",
       "      <td>True</td>\n",
       "      <td>R1</td>\n",
       "      <td>/shared/ngs/illumina/bloom_lab/210917_M04866_0...</td>\n",
       "    </tr>\n",
       "    <tr>\n",
       "      <th>5</th>\n",
       "      <td>Mut_Rnd1_mCherry_pos</td>\n",
       "      <td>True</td>\n",
       "      <td>True</td>\n",
       "      <td>R2</td>\n",
       "      <td>/shared/ngs/illumina/bloom_lab/210917_M04866_0...</td>\n",
       "    </tr>\n",
       "  </tbody>\n",
       "</table>\n",
       "</div>"
      ],
      "text/plain": [
       "            sample_name  infected    IFN read  \\\n",
       "0        Mut_NS5_Sample      True   None   R1   \n",
       "1        Mut_NS5_Sample      True   None   R2   \n",
       "2  Mut_Rnd1_mCherry_neg      True  False   R1   \n",
       "3  Mut_Rnd1_mCherry_neg      True  False   R2   \n",
       "4  Mut_Rnd1_mCherry_pos      True   True   R1   \n",
       "5  Mut_Rnd1_mCherry_pos      True   True   R2   \n",
       "\n",
       "                                          fastq_file  \n",
       "0  /shared/ngs/illumina/bloom_lab/210917_M04866_0...  \n",
       "1  /shared/ngs/illumina/bloom_lab/210917_M04866_0...  \n",
       "2  /shared/ngs/illumina/bloom_lab/210917_M04866_0...  \n",
       "3  /shared/ngs/illumina/bloom_lab/210917_M04866_0...  \n",
       "4  /shared/ngs/illumina/bloom_lab/210917_M04866_0...  \n",
       "5  /shared/ngs/illumina/bloom_lab/210917_M04866_0...  "
      ]
     },
     "metadata": {},
     "output_type": "display_data"
    }
   ],
   "source": [
    "samples = pd.read_csv(samplesheet)\n",
    "display(samples)"
   ]
  },
  {
   "cell_type": "markdown",
   "metadata": {},
   "source": [
    "Load reference sequence"
   ]
  },
  {
   "cell_type": "code",
   "execution_count": 6,
   "metadata": {},
   "outputs": [
    {
     "name": "stdout",
     "output_type": "stream",
     "text": [
      "NS5\n",
      "CGTGGAGGTGGGACGGGAGAGACTCTGGGAGAGAAGTGGAAAGCTCGTCTGAATCAGATGTCGGCCCTGGAGTTCTACTCTTATAAAAAGTCAGGTATCACTGAAGTGTGTAGAGAGGAGGCTCGCCGTGCCCTCAAGGATGGAGTGGCCACAGGAGGACATGCCGTATCCCGGGGAAGTGCAAAGCTCAGATGGTTGGTGGAGAGAGGATATCTGCAGCCCTATGGGAAGGTTGTTGACCTCGGATGTGGCAGAGGGGGCTGGAGCTATTATGCCGCCACCATCCGCAAAGTGCAGGAGGTGAGAGGATACACAAAGGGAGGTCCCGGTCATGAAGAACCCATGCTGGTGCAAAGCTATGGGTGGAACATAGTTCGTCTCAAGAGTGGAGTGGACGTCTTCCACATGGCGGCTGAGCCGTGTGACACTCTGCTGTGTGACATAGGTGAGTCATCATCTAGTCCTGAAGTGGAAGAGACACGAACACTCAGAGTGCTCTCTATGGTGGGGGACTGGCTTGAAAAAAGACCAGGGGCCTTCTGTATAAAGGTGCTGTGCCCATACACCAGCACTATGATGGAAACCATGGAGCGACTGCAACGTAGGCATGGGGGAGGATTAGTCAGAGTGCCATTGTCTCGCAACTCCACACATGAGATGTACTGGGTCTCTGGGGCAAAGAGCAACATCATAAAAAGTGTGTCCACCACAAGTCAGCTCCTCCTGGGACGCATGGATGGCCCCAGGAGGCCAGTGAAATATGAGGAGGATGTGAACCTCGGCTCGGGTACACGAGCTGTGGCAAGCTGTGCTGAGGCTCCTAACATGAAAATCATCGGCAGGCGCATTGAGAGAATCCGCAATGAACATGCAGAAACATGGTTTCTTGATGAAAACCACCCATACAGGACATGGGCCTACCATGGGAGCTACGAAGCCCCCACGCAAGGATCAGCGTCTTCCCTCGTGAACGGGGTTGTTAGACTCCTGTCAAAGCCTTGGGACGTGGTGACTGGAGTTACAGGAATAGCCATGACTGACACCACACCATACGGCCAACAAAGAGTCTTCAAAGAAAAAGTGGACACCAGGGTGCCAGATCCCCAAGAAGGCACTCGCCAGGTAATGAACATAGTCTCTTCCTGGCTGTGGAAGGAGCTGGGGAAACGCAAGCGGCCACGCGTCTGCACCAAAGAAGAGTTTATCAACAAGGTGCGCAGCAATGCAGCACTGGGAGCAATATTTGAAGAGGAAAAAGAATGGAAGACGGCTGTGGAAGCTGTGAATGATCCAAGGTTTTGGGCCCTAGTGGATAGGGAGAGAGAACACCACCTGAGAGGAGAGTGTCACAGCTGTGTGTACAACATGATGGGAAAAAGAGAAAAGAAGCAAGGAGAGTTCGGGAAAGCAAAAGGTAGCCGCGCCATCTGGTACATGTGGTTGGGAGCCAGATTCTTGGAGTTTGAAGCTCTTGGATTCTTGAACGAGGACCATTGGATGGGAAGAGAAAACTCAGGAGGTGGAGTCGAAGGGTTAGGATTGCAAAGACTTGGATACATTCTAGAAGAAATGAATCGGGCACCAGGAGGAAAGATGTACGCAGATGACACTGCTGGCTGGGACACCCGCATTAGTAAGTTTGATCTGGAGAATGAAGCTCTGATTACCAACCAAATGGAGGAAGGGCACAGAACTCTGGCGTTGGCCGTGATTAAATACACATACCAAAACAAAGTGGTGAAGGTTCTCAGACCAGCTGAAGGAGGAAAAACAGTTATGGACATCATTTCAAGACAAGACCAGAGAGGGAGTGGACAAGTTGTCACTTATGCTCTCAACACATTCACCAACTTGGTGGTGCAGCTTATCCGGAACATGGAAGCTGAGGAAGTGTTAGAGATGCAAGACTTATGGTTGTTGAGGAAGCCAGAGAAAGTGACCAGATGGTTGCAGAGCAATGGATGGGATAGACTCAAACGAATGGCGGTCAGTGGAGATGACTGCGTTGTGAAGCCAATCGATGATAGGTTTGCACATGCCCTCAGGTTCTTGAATGACATGGGAAAAGTTAGGAAAGACACACAGGAGTGGAAACCCTCGACTGGATGGAGCAATTGGGAAGAAGTCCCGTTCTGCTCCCACCACTTCAACAAGCTGTACCTCAAGGATGGGAGATCCATTGTGGTCCCTTGCCGCCACCAAGATGAACTGATTGGCCGAGCTCGCGTCTCACCAGGGGCAGGATGGAGCATCCGGGAGACTGCCTGTCTTGCAAAATCATATGCGCAGATGTGGCAGCTCCTTTATTTCCACAGAAGAGACCTTCGACTGATGGCTAATGCCATTTGCTCGGCTGTGCCAGTTGACTGGGTACCAACTGGGAGAACCACCTGGTCAATCCATGGAAAGGGAGAATGGATGACCACTGAGGACATGCTCATGGTGTGGAATAGAGTGTGGATTGAGGAGAACGACCATATGGAGGACAAGACTCCTGTAACAAAATGGACAGACATTCCCTATCTAGGAAAAAGGGAGGACTTATGGTGTGGATCCCTTATAGGGCACAGACCCCGCACCACTTGGGCTGAAAACATCAAAGACACAGTCAACATGGTGCGCAGGATCATAGGTGATGAAGAAAAGTACATGGACTATCTATCCACCCAAGTCCGCTACTTGGGTGAGGAAGGGTCCACACCCGGAGTGTTGTAA\n"
     ]
    }
   ],
   "source": [
    "reference = SeqIO.read(reference_file, 'fasta')\n",
    "print(reference.id)\n",
    "print(reference.seq)"
   ]
  },
  {
   "cell_type": "markdown",
   "metadata": {},
   "source": [
    "## Parse codon sequence\n",
    "Parse sequences if codons file is not already given in root directory."
   ]
  },
  {
   "cell_type": "markdown",
   "metadata": {},
   "source": [
    "Open codons file if present"
   ]
  },
  {
   "cell_type": "code",
   "execution_count": 7,
   "metadata": {},
   "outputs": [],
   "source": [
    "if os.path.isfile(codons_file):\n",
    "    print(f'Loading results from {codons_file}')\n",
    "    results = pd.read_csv(codons_file)\n",
    "    print('Done.')\n",
    "else:\n",
    "    pass"
   ]
  },
  {
   "cell_type": "markdown",
   "metadata": {},
   "source": [
    "Extract sequences upstream and downstream of codon"
   ]
  },
  {
   "cell_type": "code",
   "execution_count": 8,
   "metadata": {},
   "outputs": [
    {
     "name": "stdout",
     "output_type": "stream",
     "text": [
      "The codon starts at position 2203 and ends at position 2205 in the reference.\n",
      "The WT codon sequence in the reference is: GAT\n",
      "\n",
      "The upstream search sequence starts at position 2188 and ends at position 2202 in the reference.\n",
      "The upstream search sequence is: CCTTGCCGCCACCAA\n",
      "\n",
      "The downstream search sequence starts at position 2206 and ends at position 2220 in the reference.\n",
      "The downstream search sequence is: GAACTGATTGGCCGA\n"
     ]
    }
   ],
   "source": [
    "if os.path.isfile(codons_file):\n",
    "    pass\n",
    "else:\n",
    "    # feature positions in reference sequence\n",
    "    codon_end = codon_start + 2\n",
    "    upstream_start = codon_start - upstream_length\n",
    "    upstream_end = codon_start - 1\n",
    "    downstream_start = codon_end + 1\n",
    "    downstream_end = codon_end + downstream_length\n",
    "\n",
    "    # feature values\n",
    "    # python indexing is not inclusive of first coordinate, so\n",
    "    # all start positions are adjusted by -1\n",
    "    codon_reference = reference.seq[(codon_start-1):codon_end]\n",
    "    upstream = reference.seq[(upstream_start-1):upstream_end]\n",
    "    downstream = reference.seq[(downstream_start-1):downstream_end]\n",
    "\n",
    "    # print\n",
    "    print(f'The codon starts at position {codon_start} and '\n",
    "          f'ends at position {codon_end} in the reference.')\n",
    "    print(f'The WT codon sequence in the reference is: {codon_reference}\\n')\n",
    "    print(f'The upstream search sequence starts at position {upstream_start} '\n",
    "          f'and ends at position {upstream_end} in the reference.')\n",
    "    print(f'The upstream search sequence is: {upstream}\\n')\n",
    "    print(f'The downstream search sequence starts at position {downstream_start} '\n",
    "          f'and ends at position {downstream_end} in the reference.')\n",
    "    print(f'The downstream search sequence is: {downstream}')"
   ]
  },
  {
   "cell_type": "markdown",
   "metadata": {},
   "source": [
    "Build regex search"
   ]
  },
  {
   "cell_type": "code",
   "execution_count": 9,
   "metadata": {},
   "outputs": [
    {
     "name": "stdout",
     "output_type": "stream",
     "text": [
      "The search pattern for will be:\n",
      "(?:CCTTGCCGCCACCAA){e<=1}([ACGT]{3})(?:GAACTGATTGGCCGA){e<=1}\n"
     ]
    }
   ],
   "source": [
    "if os.path.isfile(codons_file):\n",
    "    pass\n",
    "else:\n",
    "    pattern = (f'(?:{upstream}){{e<={mismatches}}}' +  # match upstream\n",
    "                  f'([{nucleotides_allowed}]{{3}})' +  # match and capture codon\n",
    "                  f'(?:{downstream}){{e<={mismatches}}}')  # match downstream\n",
    "    print(f'The search pattern for will be:\\n{pattern}')"
   ]
  },
  {
   "cell_type": "markdown",
   "metadata": {},
   "source": [
    "Iterate through reads and store codons:"
   ]
  },
  {
   "cell_type": "code",
   "execution_count": 10,
   "metadata": {},
   "outputs": [
    {
     "name": "stdout",
     "output_type": "stream",
     "text": [
      "Parsing data for Mut_NS5_Sample R1\n",
      "File is:  /shared/ngs/illumina/bloom_lab/210917_M04866_0509_000000000-JW58W/Data/Intensities/BaseCalls/Mut-NS5-Sample_S2_L001_R1_001.fastq.gz\n",
      "\n",
      "\n",
      "Parsing data for Mut_NS5_Sample R2\n",
      "File is:  /shared/ngs/illumina/bloom_lab/210917_M04866_0509_000000000-JW58W/Data/Intensities/BaseCalls/Mut-NS5-Sample_S2_L001_R2_001.fastq.gz\n",
      "\n",
      "\n",
      "Parsing data for Mut_Rnd1_mCherry_neg R1\n",
      "File is:  /shared/ngs/illumina/bloom_lab/210917_M04866_0509_000000000-JW58W/Data/Intensities/BaseCalls/Mut-Rnd1-mCherry-neg_S3_L001_R1_001.fastq.gz\n",
      "\n",
      "\n",
      "Parsing data for Mut_Rnd1_mCherry_neg R2\n",
      "File is:  /shared/ngs/illumina/bloom_lab/210917_M04866_0509_000000000-JW58W/Data/Intensities/BaseCalls/Mut-Rnd1-mCherry-neg_S3_L001_R2_001.fastq.gz\n",
      "\n",
      "\n",
      "Parsing data for Mut_Rnd1_mCherry_pos R1\n",
      "File is:  /shared/ngs/illumina/bloom_lab/210917_M04866_0509_000000000-JW58W/Data/Intensities/BaseCalls/Mut-Rnd1-mCherry-pos_S4_L001_R1_001.fastq.gz\n",
      "\n",
      "\n",
      "Parsing data for Mut_Rnd1_mCherry_pos R2\n",
      "File is:  /shared/ngs/illumina/bloom_lab/210917_M04866_0509_000000000-JW58W/Data/Intensities/BaseCalls/Mut-Rnd1-mCherry-pos_S4_L001_R2_001.fastq.gz\n",
      "\n",
      "\n",
      "Saving results to codons.csv.gz\n"
     ]
    }
   ],
   "source": [
    "if os.path.isfile(codons_file):\n",
    "    pass\n",
    "else:\n",
    "    results = list()\n",
    "\n",
    "    for index, sample in samples.iterrows():\n",
    "        assert sample['read'] in ['R1', 'R2'], \"unrecognized read\"\n",
    "        with gzip.open(sample['fastq_file'], mode='rt') as handle:\n",
    "            print(f'Parsing data for {sample[\"sample_name\"]} {sample[\"read\"]}')\n",
    "            print(f'File is:  {sample[\"fastq_file\"]}')\n",
    "            seqs = SeqIO.parse(handle, 'fastq')\n",
    "            for sequence in seqs:\n",
    "                if(sample['read'] == 'R1'):\n",
    "                    search_seq = sequence.seq\n",
    "                elif(sample['read'] == 'R2'):\n",
    "                    search_seq = sequence.seq.reverse_complement()\n",
    "                result = regex.search(pattern, str(search_seq))\n",
    "                if result == None:\n",
    "                    match = 'failed_parse'\n",
    "                    codon = 'failed_parse'\n",
    "                else:\n",
    "                    match = result.group(0)\n",
    "                    codon = result.group(1)\n",
    "                results.append((sample['sample_name'],\n",
    "                                sample['read'],\n",
    "                                sequence.id,\n",
    "                                match,\n",
    "                                codon))\n",
    "            print('\\n')\n",
    "\n",
    "    results = pd.DataFrame(results)\n",
    "    results.columns = ['sample_name','read','read_id','match_string','codon']\n",
    "    print(f'Saving results to {codons_file}')\n",
    "    results.to_csv(codons_file)"
   ]
  },
  {
   "cell_type": "code",
   "execution_count": 11,
   "metadata": {},
   "outputs": [
    {
     "data": {
      "text/html": [
       "<div>\n",
       "<style scoped>\n",
       "    .dataframe tbody tr th:only-of-type {\n",
       "        vertical-align: middle;\n",
       "    }\n",
       "\n",
       "    .dataframe tbody tr th {\n",
       "        vertical-align: top;\n",
       "    }\n",
       "\n",
       "    .dataframe thead th {\n",
       "        text-align: right;\n",
       "    }\n",
       "</style>\n",
       "<table border=\"1\" class=\"dataframe\">\n",
       "  <thead>\n",
       "    <tr style=\"text-align: right;\">\n",
       "      <th></th>\n",
       "      <th>sample_name</th>\n",
       "      <th>read</th>\n",
       "      <th>read_id</th>\n",
       "      <th>match_string</th>\n",
       "      <th>codon</th>\n",
       "    </tr>\n",
       "  </thead>\n",
       "  <tbody>\n",
       "    <tr>\n",
       "      <th>0</th>\n",
       "      <td>Mut_NS5_Sample</td>\n",
       "      <td>R1</td>\n",
       "      <td>M04866:509:000000000-JW58W:1:1101:17676:1836</td>\n",
       "      <td>CCTTGCCGCCACCACTGTGAACTGATTGGCCGA</td>\n",
       "      <td>TGT</td>\n",
       "    </tr>\n",
       "    <tr>\n",
       "      <th>1</th>\n",
       "      <td>Mut_NS5_Sample</td>\n",
       "      <td>R1</td>\n",
       "      <td>M04866:509:000000000-JW58W:1:1101:17487:1897</td>\n",
       "      <td>CCCTTGCCGCCACCAACTTGGACTGATTGGCCGA</td>\n",
       "      <td>CTT</td>\n",
       "    </tr>\n",
       "    <tr>\n",
       "      <th>2</th>\n",
       "      <td>Mut_NS5_Sample</td>\n",
       "      <td>R1</td>\n",
       "      <td>M04866:509:000000000-JW58W:1:1101:17997:1916</td>\n",
       "      <td>CCCTTGCCGCCACCAATTTGAACTGATTGGCCGA</td>\n",
       "      <td>TTT</td>\n",
       "    </tr>\n",
       "    <tr>\n",
       "      <th>3</th>\n",
       "      <td>Mut_NS5_Sample</td>\n",
       "      <td>R1</td>\n",
       "      <td>M04866:509:000000000-JW58W:1:1101:17798:1919</td>\n",
       "      <td>CCCTTGCCGCCACCAATTGGAACTGATTGGCCGA</td>\n",
       "      <td>TTG</td>\n",
       "    </tr>\n",
       "    <tr>\n",
       "      <th>4</th>\n",
       "      <td>Mut_NS5_Sample</td>\n",
       "      <td>R1</td>\n",
       "      <td>M04866:509:000000000-JW58W:1:1101:17039:1925</td>\n",
       "      <td>CCCTTGCCGCCACCAATTTGAACTGATTGGCCGA</td>\n",
       "      <td>TTT</td>\n",
       "    </tr>\n",
       "    <tr>\n",
       "      <th>...</th>\n",
       "      <td>...</td>\n",
       "      <td>...</td>\n",
       "      <td>...</td>\n",
       "      <td>...</td>\n",
       "      <td>...</td>\n",
       "    </tr>\n",
       "    <tr>\n",
       "      <th>10547365</th>\n",
       "      <td>Mut_Rnd1_mCherry_pos</td>\n",
       "      <td>R2</td>\n",
       "      <td>M04866:509:000000000-JW58W:1:2114:14221:29232</td>\n",
       "      <td>CCCTTGCCGCCACCAAGATGAACTGATTGGCCGA</td>\n",
       "      <td>GAT</td>\n",
       "    </tr>\n",
       "    <tr>\n",
       "      <th>10547366</th>\n",
       "      <td>Mut_Rnd1_mCherry_pos</td>\n",
       "      <td>R2</td>\n",
       "      <td>M04866:509:000000000-JW58W:1:2114:16347:29236</td>\n",
       "      <td>CCCTTGCCGCCACCAATGGGAACTGATTGGCCGA</td>\n",
       "      <td>TGG</td>\n",
       "    </tr>\n",
       "    <tr>\n",
       "      <th>10547367</th>\n",
       "      <td>Mut_Rnd1_mCherry_pos</td>\n",
       "      <td>R2</td>\n",
       "      <td>M04866:509:000000000-JW58W:1:2114:15328:29238</td>\n",
       "      <td>CCCTGCCGCCACCAAACTGAACTGATTGGCCGA</td>\n",
       "      <td>ACT</td>\n",
       "    </tr>\n",
       "    <tr>\n",
       "      <th>10547368</th>\n",
       "      <td>Mut_Rnd1_mCherry_pos</td>\n",
       "      <td>R2</td>\n",
       "      <td>M04866:509:000000000-JW58W:1:2114:14454:29245</td>\n",
       "      <td>CCCTTGCCGCCACCAAACTGAACTGATTGGCCGA</td>\n",
       "      <td>ACT</td>\n",
       "    </tr>\n",
       "    <tr>\n",
       "      <th>10547369</th>\n",
       "      <td>Mut_Rnd1_mCherry_pos</td>\n",
       "      <td>R2</td>\n",
       "      <td>M04866:509:000000000-JW58W:1:2114:16202:29283</td>\n",
       "      <td>CCCTTGCCGCCACCAAGATGAACTGATTGGCCGA</td>\n",
       "      <td>GAT</td>\n",
       "    </tr>\n",
       "  </tbody>\n",
       "</table>\n",
       "<p>10547370 rows × 5 columns</p>\n",
       "</div>"
      ],
      "text/plain": [
       "                   sample_name read  \\\n",
       "0               Mut_NS5_Sample   R1   \n",
       "1               Mut_NS5_Sample   R1   \n",
       "2               Mut_NS5_Sample   R1   \n",
       "3               Mut_NS5_Sample   R1   \n",
       "4               Mut_NS5_Sample   R1   \n",
       "...                        ...  ...   \n",
       "10547365  Mut_Rnd1_mCherry_pos   R2   \n",
       "10547366  Mut_Rnd1_mCherry_pos   R2   \n",
       "10547367  Mut_Rnd1_mCherry_pos   R2   \n",
       "10547368  Mut_Rnd1_mCherry_pos   R2   \n",
       "10547369  Mut_Rnd1_mCherry_pos   R2   \n",
       "\n",
       "                                                read_id  \\\n",
       "0          M04866:509:000000000-JW58W:1:1101:17676:1836   \n",
       "1          M04866:509:000000000-JW58W:1:1101:17487:1897   \n",
       "2          M04866:509:000000000-JW58W:1:1101:17997:1916   \n",
       "3          M04866:509:000000000-JW58W:1:1101:17798:1919   \n",
       "4          M04866:509:000000000-JW58W:1:1101:17039:1925   \n",
       "...                                                 ...   \n",
       "10547365  M04866:509:000000000-JW58W:1:2114:14221:29232   \n",
       "10547366  M04866:509:000000000-JW58W:1:2114:16347:29236   \n",
       "10547367  M04866:509:000000000-JW58W:1:2114:15328:29238   \n",
       "10547368  M04866:509:000000000-JW58W:1:2114:14454:29245   \n",
       "10547369  M04866:509:000000000-JW58W:1:2114:16202:29283   \n",
       "\n",
       "                                match_string codon  \n",
       "0          CCTTGCCGCCACCACTGTGAACTGATTGGCCGA   TGT  \n",
       "1         CCCTTGCCGCCACCAACTTGGACTGATTGGCCGA   CTT  \n",
       "2         CCCTTGCCGCCACCAATTTGAACTGATTGGCCGA   TTT  \n",
       "3         CCCTTGCCGCCACCAATTGGAACTGATTGGCCGA   TTG  \n",
       "4         CCCTTGCCGCCACCAATTTGAACTGATTGGCCGA   TTT  \n",
       "...                                      ...   ...  \n",
       "10547365  CCCTTGCCGCCACCAAGATGAACTGATTGGCCGA   GAT  \n",
       "10547366  CCCTTGCCGCCACCAATGGGAACTGATTGGCCGA   TGG  \n",
       "10547367   CCCTGCCGCCACCAAACTGAACTGATTGGCCGA   ACT  \n",
       "10547368  CCCTTGCCGCCACCAAACTGAACTGATTGGCCGA   ACT  \n",
       "10547369  CCCTTGCCGCCACCAAGATGAACTGATTGGCCGA   GAT  \n",
       "\n",
       "[10547370 rows x 5 columns]"
      ]
     },
     "metadata": {},
     "output_type": "display_data"
    }
   ],
   "source": [
    "display(results)"
   ]
  },
  {
   "cell_type": "markdown",
   "metadata": {},
   "source": [
    "## Plot quality control"
   ]
  },
  {
   "cell_type": "markdown",
   "metadata": {},
   "source": [
    "Number of reads with codon successfully parsed per sample:"
   ]
  },
  {
   "cell_type": "code",
   "execution_count": 12,
   "metadata": {},
   "outputs": [
    {
     "data": {
      "image/png": "[encoded data removed]",
      "text/plain": [
       "<Figure size 600x400 with 2 Axes>"
      ]
     },
     "metadata": {},
     "output_type": "display_data"
    },
    {
     "data": {
      "text/plain": [
       "<ggplot: (8745726817434)>"
      ]
     },
     "metadata": {},
     "output_type": "display_data"
    }
   ],
   "source": [
    "parsing_qc = (p9.ggplot(results) +\n",
    "              p9.aes(x='sample_name',\n",
    "                     fill='codon != \"failed_parse\"') +\n",
    "              p9.geom_bar(stat='count') +\n",
    "              p9.facet_grid('read~') +\n",
    "              p9.ggtitle('Codon parsing') +\n",
    "              p9.labs(x='sample',\n",
    "                      y='reads',\n",
    "                      fill='codon successfully parsed') +\n",
    "              p9.theme(figure_size=(6, 4),\n",
    "                       plot_title=p9.element_text(size=11),\n",
    "                       axis_title=p9.element_text(size=10),\n",
    "                       axis_text_x=p9.element_text(rotation=45, hjust=1),\n",
    "                       legend_position='right',\n",
    "                       legend_title=p9.element_text(size=10),\n",
    "                       legend_title_align='center') +\n",
    "              p9.scale_fill_manual(CBPALETTE_RICH[0:])\n",
    "              )\n",
    "\n",
    "display(parsing_qc)"
   ]
  },
  {
   "cell_type": "markdown",
   "metadata": {},
   "source": [
    "Pair reads by read_id"
   ]
  },
  {
   "cell_type": "code",
   "execution_count": 13,
   "metadata": {},
   "outputs": [
    {
     "data": {
      "text/html": [
       "<div>\n",
       "<style scoped>\n",
       "    .dataframe tbody tr th:only-of-type {\n",
       "        vertical-align: middle;\n",
       "    }\n",
       "\n",
       "    .dataframe tbody tr th {\n",
       "        vertical-align: top;\n",
       "    }\n",
       "\n",
       "    .dataframe thead th {\n",
       "        text-align: right;\n",
       "    }\n",
       "</style>\n",
       "<table border=\"1\" class=\"dataframe\">\n",
       "  <thead>\n",
       "    <tr style=\"text-align: right;\">\n",
       "      <th>read</th>\n",
       "      <th>sample_name</th>\n",
       "      <th>read_id</th>\n",
       "      <th>R1</th>\n",
       "      <th>R2</th>\n",
       "      <th>missing_mate</th>\n",
       "      <th>pair_mismatch</th>\n",
       "    </tr>\n",
       "  </thead>\n",
       "  <tbody>\n",
       "    <tr>\n",
       "      <th>0</th>\n",
       "      <td>Mut_NS5_Sample</td>\n",
       "      <td>M04866:509:000000000-JW58W:1:1101:10000:22059</td>\n",
       "      <td>CGC</td>\n",
       "      <td>CGC</td>\n",
       "      <td>False</td>\n",
       "      <td>False</td>\n",
       "    </tr>\n",
       "    <tr>\n",
       "      <th>1</th>\n",
       "      <td>Mut_NS5_Sample</td>\n",
       "      <td>M04866:509:000000000-JW58W:1:1101:10000:26661</td>\n",
       "      <td>CCT</td>\n",
       "      <td>CCT</td>\n",
       "      <td>False</td>\n",
       "      <td>False</td>\n",
       "    </tr>\n",
       "    <tr>\n",
       "      <th>2</th>\n",
       "      <td>Mut_NS5_Sample</td>\n",
       "      <td>M04866:509:000000000-JW58W:1:1101:10000:26942</td>\n",
       "      <td>ATG</td>\n",
       "      <td>ATG</td>\n",
       "      <td>False</td>\n",
       "      <td>False</td>\n",
       "    </tr>\n",
       "    <tr>\n",
       "      <th>3</th>\n",
       "      <td>Mut_NS5_Sample</td>\n",
       "      <td>M04866:509:000000000-JW58W:1:1101:10000:4907</td>\n",
       "      <td>CAC</td>\n",
       "      <td>CAC</td>\n",
       "      <td>False</td>\n",
       "      <td>False</td>\n",
       "    </tr>\n",
       "    <tr>\n",
       "      <th>4</th>\n",
       "      <td>Mut_NS5_Sample</td>\n",
       "      <td>M04866:509:000000000-JW58W:1:1101:10000:6247</td>\n",
       "      <td>CCT</td>\n",
       "      <td>CCT</td>\n",
       "      <td>False</td>\n",
       "      <td>False</td>\n",
       "    </tr>\n",
       "    <tr>\n",
       "      <th>...</th>\n",
       "      <td>...</td>\n",
       "      <td>...</td>\n",
       "      <td>...</td>\n",
       "      <td>...</td>\n",
       "      <td>...</td>\n",
       "      <td>...</td>\n",
       "    </tr>\n",
       "    <tr>\n",
       "      <th>5273680</th>\n",
       "      <td>Mut_Rnd1_mCherry_pos</td>\n",
       "      <td>M04866:509:000000000-JW58W:1:2114:9999:22490</td>\n",
       "      <td>CGC</td>\n",
       "      <td>CGC</td>\n",
       "      <td>False</td>\n",
       "      <td>False</td>\n",
       "    </tr>\n",
       "    <tr>\n",
       "      <th>5273681</th>\n",
       "      <td>Mut_Rnd1_mCherry_pos</td>\n",
       "      <td>M04866:509:000000000-JW58W:1:2114:9999:24398</td>\n",
       "      <td>CTT</td>\n",
       "      <td>CTT</td>\n",
       "      <td>False</td>\n",
       "      <td>False</td>\n",
       "    </tr>\n",
       "    <tr>\n",
       "      <th>5273682</th>\n",
       "      <td>Mut_Rnd1_mCherry_pos</td>\n",
       "      <td>M04866:509:000000000-JW58W:1:2114:9999:26742</td>\n",
       "      <td>GGT</td>\n",
       "      <td>CAT</td>\n",
       "      <td>False</td>\n",
       "      <td>True</td>\n",
       "    </tr>\n",
       "    <tr>\n",
       "      <th>5273683</th>\n",
       "      <td>Mut_Rnd1_mCherry_pos</td>\n",
       "      <td>M04866:509:000000000-JW58W:1:2114:9999:2979</td>\n",
       "      <td>AGA</td>\n",
       "      <td>AGA</td>\n",
       "      <td>False</td>\n",
       "      <td>False</td>\n",
       "    </tr>\n",
       "    <tr>\n",
       "      <th>5273684</th>\n",
       "      <td>Mut_Rnd1_mCherry_pos</td>\n",
       "      <td>M04866:509:000000000-JW58W:1:2114:9999:9226</td>\n",
       "      <td>GAG</td>\n",
       "      <td>GAG</td>\n",
       "      <td>False</td>\n",
       "      <td>False</td>\n",
       "    </tr>\n",
       "  </tbody>\n",
       "</table>\n",
       "<p>5273685 rows × 6 columns</p>\n",
       "</div>"
      ],
      "text/plain": [
       "read              sample_name                                        read_id  \\\n",
       "0              Mut_NS5_Sample  M04866:509:000000000-JW58W:1:1101:10000:22059   \n",
       "1              Mut_NS5_Sample  M04866:509:000000000-JW58W:1:1101:10000:26661   \n",
       "2              Mut_NS5_Sample  M04866:509:000000000-JW58W:1:1101:10000:26942   \n",
       "3              Mut_NS5_Sample   M04866:509:000000000-JW58W:1:1101:10000:4907   \n",
       "4              Mut_NS5_Sample   M04866:509:000000000-JW58W:1:1101:10000:6247   \n",
       "...                       ...                                            ...   \n",
       "5273680  Mut_Rnd1_mCherry_pos   M04866:509:000000000-JW58W:1:2114:9999:22490   \n",
       "5273681  Mut_Rnd1_mCherry_pos   M04866:509:000000000-JW58W:1:2114:9999:24398   \n",
       "5273682  Mut_Rnd1_mCherry_pos   M04866:509:000000000-JW58W:1:2114:9999:26742   \n",
       "5273683  Mut_Rnd1_mCherry_pos    M04866:509:000000000-JW58W:1:2114:9999:2979   \n",
       "5273684  Mut_Rnd1_mCherry_pos    M04866:509:000000000-JW58W:1:2114:9999:9226   \n",
       "\n",
       "read      R1   R2  missing_mate  pair_mismatch  \n",
       "0        CGC  CGC         False          False  \n",
       "1        CCT  CCT         False          False  \n",
       "2        ATG  ATG         False          False  \n",
       "3        CAC  CAC         False          False  \n",
       "4        CCT  CCT         False          False  \n",
       "...      ...  ...           ...            ...  \n",
       "5273680  CGC  CGC         False          False  \n",
       "5273681  CTT  CTT         False          False  \n",
       "5273682  GGT  CAT         False           True  \n",
       "5273683  AGA  AGA         False          False  \n",
       "5273684  GAG  GAG         False          False  \n",
       "\n",
       "[5273685 rows x 6 columns]"
      ]
     },
     "metadata": {},
     "output_type": "display_data"
    }
   ],
   "source": [
    "results_pairs = (\n",
    "    results\n",
    "    .pivot(index=['sample_name','read_id'], columns='read', values='codon')\n",
    "    .reset_index())\n",
    "\n",
    "#  Check for missing mate\n",
    "results_pairs['missing_mate'] = (\n",
    "    results_pairs['R1'].isnull() | results_pairs['R2'].isnull()\n",
    ")\n",
    "\n",
    "#  Check for mismatch\n",
    "results_pairs['pair_mismatch'] = (\n",
    "    results_pairs['R1'] != results_pairs['R2']\n",
    ")\n",
    "\n",
    "display(results_pairs)"
   ]
  },
  {
   "cell_type": "markdown",
   "metadata": {},
   "source": [
    "Plot missing mates"
   ]
  },
  {
   "cell_type": "code",
   "execution_count": 14,
   "metadata": {},
   "outputs": [
    {
     "data": {
      "image/png": "[encoded data removed]",
      "text/plain": [
       "<Figure size 600x200 with 1 Axes>"
      ]
     },
     "metadata": {},
     "output_type": "display_data"
    },
    {
     "data": {
      "text/plain": [
       "<ggplot: (8745725556938)>"
      ]
     },
     "metadata": {},
     "output_type": "display_data"
    }
   ],
   "source": [
    "mate_pair_qc = (p9.ggplot(results_pairs) +\n",
    "              p9.aes(x='sample_name',\n",
    "                     fill='missing_mate') +\n",
    "              p9.geom_bar(stat='count') +\n",
    "              p9.ggtitle('Missing read mate pairs') +\n",
    "              p9.labs(x='sample',\n",
    "                      y='reads',\n",
    "                      fill='missing mate pair') +\n",
    "              p9.theme(figure_size=(6, 2),\n",
    "                       plot_title=p9.element_text(size=11),\n",
    "                       axis_title=p9.element_text(size=10),\n",
    "                       axis_text_x=p9.element_text(rotation=45, hjust=1),\n",
    "                       legend_position='right',\n",
    "                       legend_title=p9.element_text(size=10),\n",
    "                       legend_title_align='center') +\n",
    "              p9.scale_fill_manual(CBPALETTE_RICH[0:])\n",
    "              )\n",
    "\n",
    "display(mate_pair_qc)"
   ]
  },
  {
   "cell_type": "markdown",
   "metadata": {},
   "source": [
    "Plot mismatched codon values from paired reads"
   ]
  },
  {
   "cell_type": "code",
   "execution_count": 15,
   "metadata": {},
   "outputs": [
    {
     "data": {
      "image/png": "[encoded data removed]",
      "text/plain": [
       "<Figure size 600x200 with 1 Axes>"
      ]
     },
     "metadata": {},
     "output_type": "display_data"
    },
    {
     "data": {
      "text/plain": [
       "<ggplot: (8745914951051)>"
      ]
     },
     "metadata": {},
     "output_type": "display_data"
    }
   ],
   "source": [
    "mismatched_pairs_qc = (p9.ggplot(results_pairs) +\n",
    "              p9.aes(x='sample_name',\n",
    "                     fill='pair_mismatch') +\n",
    "              p9.geom_bar(stat='count') +\n",
    "              p9.ggtitle('Mismatched read mate pairs') +\n",
    "              p9.labs(x='sample',\n",
    "                      y='reads',\n",
    "                      fill='mismatched mate pair') +\n",
    "              p9.theme(figure_size=(6, 2),\n",
    "                       plot_title=p9.element_text(size=11),\n",
    "                       axis_title=p9.element_text(size=10),\n",
    "                       axis_text_x=p9.element_text(rotation=45, hjust=1),\n",
    "                       legend_position='right',\n",
    "                       legend_title=p9.element_text(size=10),\n",
    "                       legend_title_align='center') +\n",
    "              p9.scale_fill_manual(CBPALETTE_RICH[0:])\n",
    "              )\n",
    "\n",
    "display(mismatched_pairs_qc)"
   ]
  },
  {
   "cell_type": "markdown",
   "metadata": {},
   "source": [
    "## Filter data\n",
    "Filter the data based on the QC metrics above."
   ]
  },
  {
   "cell_type": "code",
   "execution_count": 16,
   "metadata": {},
   "outputs": [
    {
     "data": {
      "text/html": [
       "<div>\n",
       "<style scoped>\n",
       "    .dataframe tbody tr th:only-of-type {\n",
       "        vertical-align: middle;\n",
       "    }\n",
       "\n",
       "    .dataframe tbody tr th {\n",
       "        vertical-align: top;\n",
       "    }\n",
       "\n",
       "    .dataframe thead th {\n",
       "        text-align: right;\n",
       "    }\n",
       "</style>\n",
       "<table border=\"1\" class=\"dataframe\">\n",
       "  <thead>\n",
       "    <tr style=\"text-align: right;\">\n",
       "      <th>read</th>\n",
       "      <th>sample_name</th>\n",
       "      <th>read_id</th>\n",
       "      <th>codon</th>\n",
       "    </tr>\n",
       "  </thead>\n",
       "  <tbody>\n",
       "    <tr>\n",
       "      <th>0</th>\n",
       "      <td>Mut_NS5_Sample</td>\n",
       "      <td>M04866:509:000000000-JW58W:1:1101:10000:22059</td>\n",
       "      <td>CGC</td>\n",
       "    </tr>\n",
       "    <tr>\n",
       "      <th>1</th>\n",
       "      <td>Mut_NS5_Sample</td>\n",
       "      <td>M04866:509:000000000-JW58W:1:1101:10000:26661</td>\n",
       "      <td>CCT</td>\n",
       "    </tr>\n",
       "    <tr>\n",
       "      <th>2</th>\n",
       "      <td>Mut_NS5_Sample</td>\n",
       "      <td>M04866:509:000000000-JW58W:1:1101:10000:26942</td>\n",
       "      <td>ATG</td>\n",
       "    </tr>\n",
       "    <tr>\n",
       "      <th>3</th>\n",
       "      <td>Mut_NS5_Sample</td>\n",
       "      <td>M04866:509:000000000-JW58W:1:1101:10000:4907</td>\n",
       "      <td>CAC</td>\n",
       "    </tr>\n",
       "    <tr>\n",
       "      <th>4</th>\n",
       "      <td>Mut_NS5_Sample</td>\n",
       "      <td>M04866:509:000000000-JW58W:1:1101:10000:6247</td>\n",
       "      <td>CCT</td>\n",
       "    </tr>\n",
       "    <tr>\n",
       "      <th>...</th>\n",
       "      <td>...</td>\n",
       "      <td>...</td>\n",
       "      <td>...</td>\n",
       "    </tr>\n",
       "    <tr>\n",
       "      <th>5273679</th>\n",
       "      <td>Mut_Rnd1_mCherry_pos</td>\n",
       "      <td>M04866:509:000000000-JW58W:1:2114:9999:11275</td>\n",
       "      <td>CCT</td>\n",
       "    </tr>\n",
       "    <tr>\n",
       "      <th>5273680</th>\n",
       "      <td>Mut_Rnd1_mCherry_pos</td>\n",
       "      <td>M04866:509:000000000-JW58W:1:2114:9999:22490</td>\n",
       "      <td>CGC</td>\n",
       "    </tr>\n",
       "    <tr>\n",
       "      <th>5273681</th>\n",
       "      <td>Mut_Rnd1_mCherry_pos</td>\n",
       "      <td>M04866:509:000000000-JW58W:1:2114:9999:24398</td>\n",
       "      <td>CTT</td>\n",
       "    </tr>\n",
       "    <tr>\n",
       "      <th>5273683</th>\n",
       "      <td>Mut_Rnd1_mCherry_pos</td>\n",
       "      <td>M04866:509:000000000-JW58W:1:2114:9999:2979</td>\n",
       "      <td>AGA</td>\n",
       "    </tr>\n",
       "    <tr>\n",
       "      <th>5273684</th>\n",
       "      <td>Mut_Rnd1_mCherry_pos</td>\n",
       "      <td>M04866:509:000000000-JW58W:1:2114:9999:9226</td>\n",
       "      <td>GAG</td>\n",
       "    </tr>\n",
       "  </tbody>\n",
       "</table>\n",
       "<p>4511427 rows × 3 columns</p>\n",
       "</div>"
      ],
      "text/plain": [
       "read              sample_name                                        read_id  \\\n",
       "0              Mut_NS5_Sample  M04866:509:000000000-JW58W:1:1101:10000:22059   \n",
       "1              Mut_NS5_Sample  M04866:509:000000000-JW58W:1:1101:10000:26661   \n",
       "2              Mut_NS5_Sample  M04866:509:000000000-JW58W:1:1101:10000:26942   \n",
       "3              Mut_NS5_Sample   M04866:509:000000000-JW58W:1:1101:10000:4907   \n",
       "4              Mut_NS5_Sample   M04866:509:000000000-JW58W:1:1101:10000:6247   \n",
       "...                       ...                                            ...   \n",
       "5273679  Mut_Rnd1_mCherry_pos   M04866:509:000000000-JW58W:1:2114:9999:11275   \n",
       "5273680  Mut_Rnd1_mCherry_pos   M04866:509:000000000-JW58W:1:2114:9999:22490   \n",
       "5273681  Mut_Rnd1_mCherry_pos   M04866:509:000000000-JW58W:1:2114:9999:24398   \n",
       "5273683  Mut_Rnd1_mCherry_pos    M04866:509:000000000-JW58W:1:2114:9999:2979   \n",
       "5273684  Mut_Rnd1_mCherry_pos    M04866:509:000000000-JW58W:1:2114:9999:9226   \n",
       "\n",
       "read    codon  \n",
       "0         CGC  \n",
       "1         CCT  \n",
       "2         ATG  \n",
       "3         CAC  \n",
       "4         CCT  \n",
       "...       ...  \n",
       "5273679   CCT  \n",
       "5273680   CGC  \n",
       "5273681   CTT  \n",
       "5273683   AGA  \n",
       "5273684   GAG  \n",
       "\n",
       "[4511427 rows x 3 columns]"
      ]
     },
     "metadata": {},
     "output_type": "display_data"
    }
   ],
   "source": [
    "results_filtered = (\n",
    "    results_pairs\n",
    "    .query(\n",
    "        'missing_mate == False & '\n",
    "        'pair_mismatch == False & '\n",
    "        'R1 != \"failed_parse\" & '\n",
    "        'R2 != \"failed_parse\"')\n",
    "    [['sample_name', 'read_id', 'R1']]\n",
    "    .rename(columns={'R1': 'codon'})\n",
    ")\n",
    "\n",
    "display(results_filtered)"
   ]
  },
  {
   "cell_type": "markdown",
   "metadata": {},
   "source": [
    "## Plot codon frequencies"
   ]
  },
  {
   "cell_type": "markdown",
   "metadata": {},
   "source": [
    "Label WT codons"
   ]
  },
  {
   "cell_type": "code",
   "execution_count": 17,
   "metadata": {},
   "outputs": [
    {
     "data": {
      "text/html": [
       "<div>\n",
       "<style scoped>\n",
       "    .dataframe tbody tr th:only-of-type {\n",
       "        vertical-align: middle;\n",
       "    }\n",
       "\n",
       "    .dataframe tbody tr th {\n",
       "        vertical-align: top;\n",
       "    }\n",
       "\n",
       "    .dataframe thead th {\n",
       "        text-align: right;\n",
       "    }\n",
       "</style>\n",
       "<table border=\"1\" class=\"dataframe\">\n",
       "  <thead>\n",
       "    <tr style=\"text-align: right;\">\n",
       "      <th>read</th>\n",
       "      <th>sample_name</th>\n",
       "      <th>read_id</th>\n",
       "      <th>codon</th>\n",
       "      <th>wt</th>\n",
       "    </tr>\n",
       "  </thead>\n",
       "  <tbody>\n",
       "    <tr>\n",
       "      <th>0</th>\n",
       "      <td>Mut_NS5_Sample</td>\n",
       "      <td>M04866:509:000000000-JW58W:1:1101:10000:22059</td>\n",
       "      <td>CGC</td>\n",
       "      <td>False</td>\n",
       "    </tr>\n",
       "    <tr>\n",
       "      <th>1</th>\n",
       "      <td>Mut_NS5_Sample</td>\n",
       "      <td>M04866:509:000000000-JW58W:1:1101:10000:26661</td>\n",
       "      <td>CCT</td>\n",
       "      <td>False</td>\n",
       "    </tr>\n",
       "    <tr>\n",
       "      <th>2</th>\n",
       "      <td>Mut_NS5_Sample</td>\n",
       "      <td>M04866:509:000000000-JW58W:1:1101:10000:26942</td>\n",
       "      <td>ATG</td>\n",
       "      <td>False</td>\n",
       "    </tr>\n",
       "    <tr>\n",
       "      <th>3</th>\n",
       "      <td>Mut_NS5_Sample</td>\n",
       "      <td>M04866:509:000000000-JW58W:1:1101:10000:4907</td>\n",
       "      <td>CAC</td>\n",
       "      <td>False</td>\n",
       "    </tr>\n",
       "    <tr>\n",
       "      <th>4</th>\n",
       "      <td>Mut_NS5_Sample</td>\n",
       "      <td>M04866:509:000000000-JW58W:1:1101:10000:6247</td>\n",
       "      <td>CCT</td>\n",
       "      <td>False</td>\n",
       "    </tr>\n",
       "    <tr>\n",
       "      <th>...</th>\n",
       "      <td>...</td>\n",
       "      <td>...</td>\n",
       "      <td>...</td>\n",
       "      <td>...</td>\n",
       "    </tr>\n",
       "    <tr>\n",
       "      <th>5273679</th>\n",
       "      <td>Mut_Rnd1_mCherry_pos</td>\n",
       "      <td>M04866:509:000000000-JW58W:1:2114:9999:11275</td>\n",
       "      <td>CCT</td>\n",
       "      <td>False</td>\n",
       "    </tr>\n",
       "    <tr>\n",
       "      <th>5273680</th>\n",
       "      <td>Mut_Rnd1_mCherry_pos</td>\n",
       "      <td>M04866:509:000000000-JW58W:1:2114:9999:22490</td>\n",
       "      <td>CGC</td>\n",
       "      <td>False</td>\n",
       "    </tr>\n",
       "    <tr>\n",
       "      <th>5273681</th>\n",
       "      <td>Mut_Rnd1_mCherry_pos</td>\n",
       "      <td>M04866:509:000000000-JW58W:1:2114:9999:24398</td>\n",
       "      <td>CTT</td>\n",
       "      <td>False</td>\n",
       "    </tr>\n",
       "    <tr>\n",
       "      <th>5273683</th>\n",
       "      <td>Mut_Rnd1_mCherry_pos</td>\n",
       "      <td>M04866:509:000000000-JW58W:1:2114:9999:2979</td>\n",
       "      <td>AGA</td>\n",
       "      <td>False</td>\n",
       "    </tr>\n",
       "    <tr>\n",
       "      <th>5273684</th>\n",
       "      <td>Mut_Rnd1_mCherry_pos</td>\n",
       "      <td>M04866:509:000000000-JW58W:1:2114:9999:9226</td>\n",
       "      <td>GAG</td>\n",
       "      <td>False</td>\n",
       "    </tr>\n",
       "  </tbody>\n",
       "</table>\n",
       "<p>4511427 rows × 4 columns</p>\n",
       "</div>"
      ],
      "text/plain": [
       "read              sample_name                                        read_id  \\\n",
       "0              Mut_NS5_Sample  M04866:509:000000000-JW58W:1:1101:10000:22059   \n",
       "1              Mut_NS5_Sample  M04866:509:000000000-JW58W:1:1101:10000:26661   \n",
       "2              Mut_NS5_Sample  M04866:509:000000000-JW58W:1:1101:10000:26942   \n",
       "3              Mut_NS5_Sample   M04866:509:000000000-JW58W:1:1101:10000:4907   \n",
       "4              Mut_NS5_Sample   M04866:509:000000000-JW58W:1:1101:10000:6247   \n",
       "...                       ...                                            ...   \n",
       "5273679  Mut_Rnd1_mCherry_pos   M04866:509:000000000-JW58W:1:2114:9999:11275   \n",
       "5273680  Mut_Rnd1_mCherry_pos   M04866:509:000000000-JW58W:1:2114:9999:22490   \n",
       "5273681  Mut_Rnd1_mCherry_pos   M04866:509:000000000-JW58W:1:2114:9999:24398   \n",
       "5273683  Mut_Rnd1_mCherry_pos    M04866:509:000000000-JW58W:1:2114:9999:2979   \n",
       "5273684  Mut_Rnd1_mCherry_pos    M04866:509:000000000-JW58W:1:2114:9999:9226   \n",
       "\n",
       "read    codon     wt  \n",
       "0         CGC  False  \n",
       "1         CCT  False  \n",
       "2         ATG  False  \n",
       "3         CAC  False  \n",
       "4         CCT  False  \n",
       "...       ...    ...  \n",
       "5273679   CCT  False  \n",
       "5273680   CGC  False  \n",
       "5273681   CTT  False  \n",
       "5273683   AGA  False  \n",
       "5273684   GAG  False  \n",
       "\n",
       "[4511427 rows x 4 columns]"
      ]
     },
     "metadata": {},
     "output_type": "display_data"
    }
   ],
   "source": [
    "results_filtered['wt'] = (results_filtered['codon'] == 'GAT')\n",
    "display(results_filtered)"
   ]
  },
  {
   "cell_type": "markdown",
   "metadata": {},
   "source": [
    "WT vs mutant codons"
   ]
  },
  {
   "cell_type": "code",
   "execution_count": 18,
   "metadata": {},
   "outputs": [
    {
     "data": {
      "image/png": "[encoded data removed]",
      "text/plain": [
       "<Figure size 600x200 with 1 Axes>"
      ]
     },
     "metadata": {},
     "output_type": "display_data"
    },
    {
     "data": {
      "text/plain": [
       "<ggplot: (8745725592842)>"
      ]
     },
     "metadata": {},
     "output_type": "display_data"
    }
   ],
   "source": [
    "wt_freq = (p9.ggplot(results_filtered) +\n",
    "              p9.aes(x='sample_name',\n",
    "                     fill='wt') +\n",
    "              p9.geom_bar(stat='count') +\n",
    "              p9.ggtitle('WT Codon counts') +\n",
    "              p9.labs(x='sample',\n",
    "                      y='reads',\n",
    "                      fill='WT Codon') +\n",
    "              p9.theme(figure_size=(6, 2),\n",
    "                       plot_title=p9.element_text(size=11),\n",
    "                       axis_title=p9.element_text(size=10),\n",
    "                       axis_text_x=p9.element_text(rotation=45, hjust=1),\n",
    "                       legend_position='right',\n",
    "                       legend_title=p9.element_text(size=10),\n",
    "                       legend_title_align='center') +\n",
    "              p9.scale_fill_manual(CBPALETTE_RICH[0:])\n",
    "              )\n",
    "\n",
    "display(wt_freq)"
   ]
  },
  {
   "cell_type": "markdown",
   "metadata": {},
   "source": [
    "## Count codons and calculate freuqencies"
   ]
  },
  {
   "cell_type": "markdown",
   "metadata": {},
   "source": [
    "Count codons in each sample"
   ]
  },
  {
   "cell_type": "code",
   "execution_count": 19,
   "metadata": {},
   "outputs": [
    {
     "data": {
      "text/html": [
       "<div>\n",
       "<style scoped>\n",
       "    .dataframe tbody tr th:only-of-type {\n",
       "        vertical-align: middle;\n",
       "    }\n",
       "\n",
       "    .dataframe tbody tr th {\n",
       "        vertical-align: top;\n",
       "    }\n",
       "\n",
       "    .dataframe thead th {\n",
       "        text-align: right;\n",
       "    }\n",
       "</style>\n",
       "<table border=\"1\" class=\"dataframe\">\n",
       "  <thead>\n",
       "    <tr style=\"text-align: right;\">\n",
       "      <th></th>\n",
       "      <th>sample_name</th>\n",
       "      <th>codon</th>\n",
       "      <th>count</th>\n",
       "      <th>sample_total</th>\n",
       "      <th>frequency</th>\n",
       "    </tr>\n",
       "  </thead>\n",
       "  <tbody>\n",
       "    <tr>\n",
       "      <th>0</th>\n",
       "      <td>Mut_NS5_Sample</td>\n",
       "      <td>ATT</td>\n",
       "      <td>169080</td>\n",
       "      <td>1808248</td>\n",
       "      <td>0.093505</td>\n",
       "    </tr>\n",
       "    <tr>\n",
       "      <th>1</th>\n",
       "      <td>Mut_NS5_Sample</td>\n",
       "      <td>CGC</td>\n",
       "      <td>162366</td>\n",
       "      <td>1808248</td>\n",
       "      <td>0.089792</td>\n",
       "    </tr>\n",
       "    <tr>\n",
       "      <th>2</th>\n",
       "      <td>Mut_NS5_Sample</td>\n",
       "      <td>TAG</td>\n",
       "      <td>136769</td>\n",
       "      <td>1808248</td>\n",
       "      <td>0.075636</td>\n",
       "    </tr>\n",
       "    <tr>\n",
       "      <th>3</th>\n",
       "      <td>Mut_NS5_Sample</td>\n",
       "      <td>CCT</td>\n",
       "      <td>112566</td>\n",
       "      <td>1808248</td>\n",
       "      <td>0.062251</td>\n",
       "    </tr>\n",
       "    <tr>\n",
       "      <th>4</th>\n",
       "      <td>Mut_NS5_Sample</td>\n",
       "      <td>ATG</td>\n",
       "      <td>110051</td>\n",
       "      <td>1808248</td>\n",
       "      <td>0.060861</td>\n",
       "    </tr>\n",
       "    <tr>\n",
       "      <th>...</th>\n",
       "      <td>...</td>\n",
       "      <td>...</td>\n",
       "      <td>...</td>\n",
       "      <td>...</td>\n",
       "      <td>...</td>\n",
       "    </tr>\n",
       "    <tr>\n",
       "      <th>187</th>\n",
       "      <td>Mut_Rnd1_mCherry_pos</td>\n",
       "      <td>TCG</td>\n",
       "      <td>94</td>\n",
       "      <td>1456164</td>\n",
       "      <td>0.000065</td>\n",
       "    </tr>\n",
       "    <tr>\n",
       "      <th>188</th>\n",
       "      <td>Mut_Rnd1_mCherry_pos</td>\n",
       "      <td>CAA</td>\n",
       "      <td>91</td>\n",
       "      <td>1456164</td>\n",
       "      <td>0.000062</td>\n",
       "    </tr>\n",
       "    <tr>\n",
       "      <th>189</th>\n",
       "      <td>Mut_Rnd1_mCherry_pos</td>\n",
       "      <td>TAA</td>\n",
       "      <td>46</td>\n",
       "      <td>1456164</td>\n",
       "      <td>0.000032</td>\n",
       "    </tr>\n",
       "    <tr>\n",
       "      <th>190</th>\n",
       "      <td>Mut_Rnd1_mCherry_pos</td>\n",
       "      <td>CTA</td>\n",
       "      <td>10</td>\n",
       "      <td>1456164</td>\n",
       "      <td>0.000007</td>\n",
       "    </tr>\n",
       "    <tr>\n",
       "      <th>191</th>\n",
       "      <td>Mut_Rnd1_mCherry_pos</td>\n",
       "      <td>TTA</td>\n",
       "      <td>9</td>\n",
       "      <td>1456164</td>\n",
       "      <td>0.000006</td>\n",
       "    </tr>\n",
       "  </tbody>\n",
       "</table>\n",
       "<p>192 rows × 5 columns</p>\n",
       "</div>"
      ],
      "text/plain": [
       "              sample_name codon   count  sample_total  frequency\n",
       "0          Mut_NS5_Sample   ATT  169080       1808248   0.093505\n",
       "1          Mut_NS5_Sample   CGC  162366       1808248   0.089792\n",
       "2          Mut_NS5_Sample   TAG  136769       1808248   0.075636\n",
       "3          Mut_NS5_Sample   CCT  112566       1808248   0.062251\n",
       "4          Mut_NS5_Sample   ATG  110051       1808248   0.060861\n",
       "..                    ...   ...     ...           ...        ...\n",
       "187  Mut_Rnd1_mCherry_pos   TCG      94       1456164   0.000065\n",
       "188  Mut_Rnd1_mCherry_pos   CAA      91       1456164   0.000062\n",
       "189  Mut_Rnd1_mCherry_pos   TAA      46       1456164   0.000032\n",
       "190  Mut_Rnd1_mCherry_pos   CTA      10       1456164   0.000007\n",
       "191  Mut_Rnd1_mCherry_pos   TTA       9       1456164   0.000006\n",
       "\n",
       "[192 rows x 5 columns]"
      ]
     },
     "metadata": {},
     "output_type": "display_data"
    }
   ],
   "source": [
    "codon_counts = (\n",
    "    results_filtered\n",
    "    .groupby(['sample_name'])\n",
    "    ['codon']\n",
    "    .value_counts()\n",
    "    .reset_index(name='count')\n",
    ")\n",
    "\n",
    "counts_per_sample = (\n",
    "    codon_counts\n",
    "    .groupby('sample_name')\n",
    "    ['count']\n",
    "    .sum()\n",
    "    .reset_index(name='sample_total')\n",
    ")\n",
    "\n",
    "codon_counts = pd.merge(\n",
    "    left=codon_counts,\n",
    "    right=counts_per_sample,\n",
    "    on='sample_name',\n",
    "    how='left',\n",
    "    validate='many_to_one'\n",
    ")\n",
    "\n",
    "codon_counts['frequency'] = (\n",
    "    codon_counts['count'] / codon_counts['sample_total']\n",
    ")\n",
    "\n",
    "display(codon_counts)"
   ]
  },
  {
   "cell_type": "markdown",
   "metadata": {},
   "source": [
    "# Plot codon counts and frequencies per sample"
   ]
  },
  {
   "cell_type": "code",
   "execution_count": 20,
   "metadata": {},
   "outputs": [
    {
     "data": {
      "image/png": "[encoded data removed]",
      "text/plain": [
       "<Figure size 1000x800 with 3 Axes>"
      ]
     },
     "metadata": {},
     "output_type": "display_data"
    },
    {
     "data": {
      "text/plain": [
       "<ggplot: (8745724401764)>"
      ]
     },
     "metadata": {},
     "output_type": "display_data"
    }
   ],
   "source": [
    "codon_counts_plot = (p9.ggplot(codon_counts) +\n",
    "                p9.aes(x='codon',\n",
    "                       y='count') +\n",
    "                p9.geom_bar(stat='identity') +\n",
    "                p9.facet_grid('sample_name~') +\n",
    "                p9.ggtitle('Codon counts') +\n",
    "                p9.labs(x='codon',\n",
    "                        y='reads') +\n",
    "                p9.theme(figure_size=(10, 8),\n",
    "                         plot_title=p9.element_text(size=11),\n",
    "                         axis_title=p9.element_text(size=10),\n",
    "                         axis_text_x=p9.element_text(rotation=90),\n",
    "                         strip_text_y=p9.element_text(angle=0))\n",
    "               )\n",
    "\n",
    "display(codon_counts_plot)"
   ]
  },
  {
   "cell_type": "code",
   "execution_count": 21,
   "metadata": {},
   "outputs": [
    {
     "data": {
      "image/png": "[encoded data removed]",
      "text/plain": [
       "<Figure size 1000x800 with 3 Axes>"
      ]
     },
     "metadata": {},
     "output_type": "display_data"
    },
    {
     "data": {
      "text/plain": [
       "<ggplot: (8745722455068)>"
      ]
     },
     "metadata": {},
     "output_type": "display_data"
    }
   ],
   "source": [
    "codon_frequency_plot = (p9.ggplot(codon_counts) +\n",
    "                p9.aes(x='codon',\n",
    "                       y='frequency') +\n",
    "                p9.geom_bar(stat='identity') +\n",
    "                p9.facet_grid('sample_name~') +\n",
    "                p9.ggtitle('Codon counts') +\n",
    "                p9.labs(x='codon',\n",
    "                        y='frequency') +\n",
    "                p9.theme(figure_size=(10, 8),\n",
    "                         plot_title=p9.element_text(size=11),\n",
    "                         axis_title=p9.element_text(size=10),\n",
    "                         axis_text_x=p9.element_text(rotation=90),\n",
    "                         strip_text_y=p9.element_text(angle = 0))\n",
    "               )\n",
    "\n",
    "display(codon_frequency_plot)"
   ]
  },
  {
   "cell_type": "markdown",
   "metadata": {},
   "source": [
    "## Calculate enrichment"
   ]
  },
  {
   "cell_type": "markdown",
   "metadata": {},
   "source": [
    "Bring in experiment info"
   ]
  },
  {
   "cell_type": "code",
   "execution_count": 22,
   "metadata": {},
   "outputs": [
    {
     "data": {
      "text/html": [
       "<div>\n",
       "<style scoped>\n",
       "    .dataframe tbody tr th:only-of-type {\n",
       "        vertical-align: middle;\n",
       "    }\n",
       "\n",
       "    .dataframe tbody tr th {\n",
       "        vertical-align: top;\n",
       "    }\n",
       "\n",
       "    .dataframe thead th {\n",
       "        text-align: right;\n",
       "    }\n",
       "</style>\n",
       "<table border=\"1\" class=\"dataframe\">\n",
       "  <thead>\n",
       "    <tr style=\"text-align: right;\">\n",
       "      <th></th>\n",
       "      <th>sample_name</th>\n",
       "      <th>infected</th>\n",
       "      <th>IFN</th>\n",
       "      <th>codon</th>\n",
       "      <th>frequency</th>\n",
       "    </tr>\n",
       "  </thead>\n",
       "  <tbody>\n",
       "    <tr>\n",
       "      <th>0</th>\n",
       "      <td>Mut_NS5_Sample</td>\n",
       "      <td>True</td>\n",
       "      <td>None</td>\n",
       "      <td>ATT</td>\n",
       "      <td>0.093505</td>\n",
       "    </tr>\n",
       "    <tr>\n",
       "      <th>1</th>\n",
       "      <td>Mut_NS5_Sample</td>\n",
       "      <td>True</td>\n",
       "      <td>None</td>\n",
       "      <td>CGC</td>\n",
       "      <td>0.089792</td>\n",
       "    </tr>\n",
       "    <tr>\n",
       "      <th>2</th>\n",
       "      <td>Mut_NS5_Sample</td>\n",
       "      <td>True</td>\n",
       "      <td>None</td>\n",
       "      <td>TAG</td>\n",
       "      <td>0.075636</td>\n",
       "    </tr>\n",
       "    <tr>\n",
       "      <th>3</th>\n",
       "      <td>Mut_NS5_Sample</td>\n",
       "      <td>True</td>\n",
       "      <td>None</td>\n",
       "      <td>CCT</td>\n",
       "      <td>0.062251</td>\n",
       "    </tr>\n",
       "    <tr>\n",
       "      <th>4</th>\n",
       "      <td>Mut_NS5_Sample</td>\n",
       "      <td>True</td>\n",
       "      <td>None</td>\n",
       "      <td>ATG</td>\n",
       "      <td>0.060861</td>\n",
       "    </tr>\n",
       "    <tr>\n",
       "      <th>...</th>\n",
       "      <td>...</td>\n",
       "      <td>...</td>\n",
       "      <td>...</td>\n",
       "      <td>...</td>\n",
       "      <td>...</td>\n",
       "    </tr>\n",
       "    <tr>\n",
       "      <th>187</th>\n",
       "      <td>Mut_Rnd1_mCherry_pos</td>\n",
       "      <td>True</td>\n",
       "      <td>True</td>\n",
       "      <td>TCG</td>\n",
       "      <td>0.000065</td>\n",
       "    </tr>\n",
       "    <tr>\n",
       "      <th>188</th>\n",
       "      <td>Mut_Rnd1_mCherry_pos</td>\n",
       "      <td>True</td>\n",
       "      <td>True</td>\n",
       "      <td>CAA</td>\n",
       "      <td>0.000062</td>\n",
       "    </tr>\n",
       "    <tr>\n",
       "      <th>189</th>\n",
       "      <td>Mut_Rnd1_mCherry_pos</td>\n",
       "      <td>True</td>\n",
       "      <td>True</td>\n",
       "      <td>TAA</td>\n",
       "      <td>0.000032</td>\n",
       "    </tr>\n",
       "    <tr>\n",
       "      <th>190</th>\n",
       "      <td>Mut_Rnd1_mCherry_pos</td>\n",
       "      <td>True</td>\n",
       "      <td>True</td>\n",
       "      <td>CTA</td>\n",
       "      <td>0.000007</td>\n",
       "    </tr>\n",
       "    <tr>\n",
       "      <th>191</th>\n",
       "      <td>Mut_Rnd1_mCherry_pos</td>\n",
       "      <td>True</td>\n",
       "      <td>True</td>\n",
       "      <td>TTA</td>\n",
       "      <td>0.000006</td>\n",
       "    </tr>\n",
       "  </tbody>\n",
       "</table>\n",
       "<p>192 rows × 5 columns</p>\n",
       "</div>"
      ],
      "text/plain": [
       "              sample_name  infected   IFN codon  frequency\n",
       "0          Mut_NS5_Sample      True  None   ATT   0.093505\n",
       "1          Mut_NS5_Sample      True  None   CGC   0.089792\n",
       "2          Mut_NS5_Sample      True  None   TAG   0.075636\n",
       "3          Mut_NS5_Sample      True  None   CCT   0.062251\n",
       "4          Mut_NS5_Sample      True  None   ATG   0.060861\n",
       "..                    ...       ...   ...   ...        ...\n",
       "187  Mut_Rnd1_mCherry_pos      True  True   TCG   0.000065\n",
       "188  Mut_Rnd1_mCherry_pos      True  True   CAA   0.000062\n",
       "189  Mut_Rnd1_mCherry_pos      True  True   TAA   0.000032\n",
       "190  Mut_Rnd1_mCherry_pos      True  True   CTA   0.000007\n",
       "191  Mut_Rnd1_mCherry_pos      True  True   TTA   0.000006\n",
       "\n",
       "[192 rows x 5 columns]"
      ]
     },
     "metadata": {},
     "output_type": "display_data"
    }
   ],
   "source": [
    "codon_counts_annotated = pd.merge(\n",
    "    left=samples[['sample_name', 'infected', 'IFN']].drop_duplicates(),\n",
    "    right=codon_counts[['sample_name', 'codon', 'frequency']],\n",
    "    on='sample_name',\n",
    "    how='right',\n",
    "    validate='one_to_many'\n",
    ")\n",
    "\n",
    "display(codon_counts_annotated)"
   ]
  },
  {
   "cell_type": "markdown",
   "metadata": {},
   "source": [
    "Define enrichment\n",
    "\n",
    "```Enrichment = log2(frequency in selected condition / frequency in reference condition)```"
   ]
  },
  {
   "cell_type": "code",
   "execution_count": 23,
   "metadata": {},
   "outputs": [],
   "source": [
    "def calculate_enrichment(selected_sample, reference_sample):\n",
    "    selected_freqs = (codon_counts\n",
    "                      .query(f'sample_name == \"{selected_sample}\"')\n",
    "                      [['codon', 'frequency']])\n",
    "    reference_freqs = (codon_counts\n",
    "                       .query(f'sample_name == \"{reference_sample}\"')\n",
    "                       [['codon', 'frequency']])\n",
    "    enrichment_df = pd.merge(\n",
    "        left=reference_freqs,\n",
    "        right=selected_freqs,\n",
    "        on=['codon'],\n",
    "        how='left',\n",
    "        validate='one_to_one')\n",
    "    enrichment_df.columns = ['codon', 'reference_frequency', 'selected_frequency']\n",
    "    enrichment_df['enrichment'] = (\n",
    "        np.log2(enrichment_df['selected_frequency'] / \n",
    "                enrichment_df['reference_frequency']))\n",
    "    return(enrichment_df)"
   ]
  },
  {
   "cell_type": "markdown",
   "metadata": {},
   "source": [
    "Plot IFN agonist population (NS5+, IFN-)"
   ]
  },
  {
   "cell_type": "code",
   "execution_count": 24,
   "metadata": {},
   "outputs": [
    {
     "data": {
      "text/html": [
       "<div>\n",
       "<style scoped>\n",
       "    .dataframe tbody tr th:only-of-type {\n",
       "        vertical-align: middle;\n",
       "    }\n",
       "\n",
       "    .dataframe tbody tr th {\n",
       "        vertical-align: top;\n",
       "    }\n",
       "\n",
       "    .dataframe thead th {\n",
       "        text-align: right;\n",
       "    }\n",
       "</style>\n",
       "<table border=\"1\" class=\"dataframe\">\n",
       "  <thead>\n",
       "    <tr style=\"text-align: right;\">\n",
       "      <th></th>\n",
       "      <th>codon</th>\n",
       "      <th>reference_frequency</th>\n",
       "      <th>selected_frequency</th>\n",
       "      <th>enrichment</th>\n",
       "    </tr>\n",
       "  </thead>\n",
       "  <tbody>\n",
       "    <tr>\n",
       "      <th>0</th>\n",
       "      <td>ATT</td>\n",
       "      <td>0.093505</td>\n",
       "      <td>0.064330</td>\n",
       "      <td>-0.539558</td>\n",
       "    </tr>\n",
       "    <tr>\n",
       "      <th>1</th>\n",
       "      <td>CGC</td>\n",
       "      <td>0.089792</td>\n",
       "      <td>0.063735</td>\n",
       "      <td>-0.494508</td>\n",
       "    </tr>\n",
       "    <tr>\n",
       "      <th>2</th>\n",
       "      <td>TAG</td>\n",
       "      <td>0.075636</td>\n",
       "      <td>0.054712</td>\n",
       "      <td>-0.467213</td>\n",
       "    </tr>\n",
       "    <tr>\n",
       "      <th>3</th>\n",
       "      <td>CCT</td>\n",
       "      <td>0.062251</td>\n",
       "      <td>0.022619</td>\n",
       "      <td>-1.460583</td>\n",
       "    </tr>\n",
       "    <tr>\n",
       "      <th>4</th>\n",
       "      <td>ATG</td>\n",
       "      <td>0.060861</td>\n",
       "      <td>0.035912</td>\n",
       "      <td>-0.761035</td>\n",
       "    </tr>\n",
       "    <tr>\n",
       "      <th>...</th>\n",
       "      <td>...</td>\n",
       "      <td>...</td>\n",
       "      <td>...</td>\n",
       "      <td>...</td>\n",
       "    </tr>\n",
       "    <tr>\n",
       "      <th>59</th>\n",
       "      <td>TAA</td>\n",
       "      <td>0.000062</td>\n",
       "      <td>0.000031</td>\n",
       "      <td>-0.985839</td>\n",
       "    </tr>\n",
       "    <tr>\n",
       "      <th>60</th>\n",
       "      <td>CCA</td>\n",
       "      <td>0.000059</td>\n",
       "      <td>0.000037</td>\n",
       "      <td>-0.681791</td>\n",
       "    </tr>\n",
       "    <tr>\n",
       "      <th>61</th>\n",
       "      <td>CCG</td>\n",
       "      <td>0.000038</td>\n",
       "      <td>0.000033</td>\n",
       "      <td>-0.214859</td>\n",
       "    </tr>\n",
       "    <tr>\n",
       "      <th>62</th>\n",
       "      <td>CTA</td>\n",
       "      <td>0.000014</td>\n",
       "      <td>0.000006</td>\n",
       "      <td>-1.107742</td>\n",
       "    </tr>\n",
       "    <tr>\n",
       "      <th>63</th>\n",
       "      <td>TTA</td>\n",
       "      <td>0.000007</td>\n",
       "      <td>0.000004</td>\n",
       "      <td>-0.842398</td>\n",
       "    </tr>\n",
       "  </tbody>\n",
       "</table>\n",
       "<p>64 rows × 4 columns</p>\n",
       "</div>"
      ],
      "text/plain": [
       "   codon  reference_frequency  selected_frequency  enrichment\n",
       "0    ATT             0.093505            0.064330   -0.539558\n",
       "1    CGC             0.089792            0.063735   -0.494508\n",
       "2    TAG             0.075636            0.054712   -0.467213\n",
       "3    CCT             0.062251            0.022619   -1.460583\n",
       "4    ATG             0.060861            0.035912   -0.761035\n",
       "..   ...                  ...                 ...         ...\n",
       "59   TAA             0.000062            0.000031   -0.985839\n",
       "60   CCA             0.000059            0.000037   -0.681791\n",
       "61   CCG             0.000038            0.000033   -0.214859\n",
       "62   CTA             0.000014            0.000006   -1.107742\n",
       "63   TTA             0.000007            0.000004   -0.842398\n",
       "\n",
       "[64 rows x 4 columns]"
      ]
     },
     "metadata": {},
     "output_type": "display_data"
    }
   ],
   "source": [
    "IFN_agonist_enrichment = calculate_enrichment(\"Mut_Rnd1_mCherry_neg\",\"Mut_NS5_Sample\")\n",
    "display(IFN_agonist_enrichment)"
   ]
  },
  {
   "cell_type": "code",
   "execution_count": 25,
   "metadata": {
    "scrolled": true
   },
   "outputs": [
    {
     "data": {
      "image/png": "[encoded data removed]",
      "text/plain": [
       "<Figure size 1000x400 with 1 Axes>"
      ]
     },
     "metadata": {},
     "output_type": "display_data"
    },
    {
     "data": {
      "text/plain": [
       "<ggplot: (8745720496466)>"
      ]
     },
     "metadata": {},
     "output_type": "display_data"
    }
   ],
   "source": [
    "IFN_agonist_plot = (p9.ggplot(IFN_agonist_enrichment) +\n",
    "                p9.aes(x='codon',\n",
    "                       y='enrichment') +\n",
    "                p9.geom_bar(stat='identity') +\n",
    "                p9.ggtitle('Enrichment:\\n'\n",
    "                           'Mut_Rnd1_mCherry_neg v Mut_NS5_Sample') +\n",
    "                p9.labs(x='codon',\n",
    "                        y='enrichment') +\n",
    "                p9.theme(figure_size=(10, 4),\n",
    "                         plot_title=p9.element_text(size=11),\n",
    "                         axis_title=p9.element_text(size=10),\n",
    "                         axis_text_x=p9.element_text(rotation=90),\n",
    "                         strip_text_y=p9.element_text(angle = 0))\n",
    "               )\n",
    "\n",
    "display(IFN_agonist_plot)"
   ]
  },
  {
   "cell_type": "markdown",
   "metadata": {},
   "source": [
    "Plot **FAILED** IFN agonist population (NS5+, IFN+)"
   ]
  },
  {
   "cell_type": "code",
   "execution_count": 28,
   "metadata": {},
   "outputs": [
    {
     "data": {
      "text/html": [
       "<div>\n",
       "<style scoped>\n",
       "    .dataframe tbody tr th:only-of-type {\n",
       "        vertical-align: middle;\n",
       "    }\n",
       "\n",
       "    .dataframe tbody tr th {\n",
       "        vertical-align: top;\n",
       "    }\n",
       "\n",
       "    .dataframe thead th {\n",
       "        text-align: right;\n",
       "    }\n",
       "</style>\n",
       "<table border=\"1\" class=\"dataframe\">\n",
       "  <thead>\n",
       "    <tr style=\"text-align: right;\">\n",
       "      <th></th>\n",
       "      <th>codon</th>\n",
       "      <th>reference_frequency</th>\n",
       "      <th>selected_frequency</th>\n",
       "      <th>enrichment</th>\n",
       "    </tr>\n",
       "  </thead>\n",
       "  <tbody>\n",
       "    <tr>\n",
       "      <th>0</th>\n",
       "      <td>ATT</td>\n",
       "      <td>0.093505</td>\n",
       "      <td>0.048220</td>\n",
       "      <td>-0.955415</td>\n",
       "    </tr>\n",
       "    <tr>\n",
       "      <th>1</th>\n",
       "      <td>CGC</td>\n",
       "      <td>0.089792</td>\n",
       "      <td>0.061605</td>\n",
       "      <td>-0.543537</td>\n",
       "    </tr>\n",
       "    <tr>\n",
       "      <th>2</th>\n",
       "      <td>TAG</td>\n",
       "      <td>0.075636</td>\n",
       "      <td>0.034927</td>\n",
       "      <td>-1.114747</td>\n",
       "    </tr>\n",
       "    <tr>\n",
       "      <th>3</th>\n",
       "      <td>CCT</td>\n",
       "      <td>0.062251</td>\n",
       "      <td>0.069776</td>\n",
       "      <td>0.164634</td>\n",
       "    </tr>\n",
       "    <tr>\n",
       "      <th>4</th>\n",
       "      <td>ATG</td>\n",
       "      <td>0.060861</td>\n",
       "      <td>0.063925</td>\n",
       "      <td>0.070884</td>\n",
       "    </tr>\n",
       "    <tr>\n",
       "      <th>...</th>\n",
       "      <td>...</td>\n",
       "      <td>...</td>\n",
       "      <td>...</td>\n",
       "      <td>...</td>\n",
       "    </tr>\n",
       "    <tr>\n",
       "      <th>59</th>\n",
       "      <td>TAA</td>\n",
       "      <td>0.000062</td>\n",
       "      <td>0.000032</td>\n",
       "      <td>-0.971373</td>\n",
       "    </tr>\n",
       "    <tr>\n",
       "      <th>60</th>\n",
       "      <td>CCA</td>\n",
       "      <td>0.000059</td>\n",
       "      <td>0.000078</td>\n",
       "      <td>0.403843</td>\n",
       "    </tr>\n",
       "    <tr>\n",
       "      <th>61</th>\n",
       "      <td>CCG</td>\n",
       "      <td>0.000038</td>\n",
       "      <td>0.000066</td>\n",
       "      <td>0.788858</td>\n",
       "    </tr>\n",
       "    <tr>\n",
       "      <th>62</th>\n",
       "      <td>CTA</td>\n",
       "      <td>0.000014</td>\n",
       "      <td>0.000007</td>\n",
       "      <td>-1.009508</td>\n",
       "    </tr>\n",
       "    <tr>\n",
       "      <th>63</th>\n",
       "      <td>TTA</td>\n",
       "      <td>0.000007</td>\n",
       "      <td>0.000006</td>\n",
       "      <td>-0.218095</td>\n",
       "    </tr>\n",
       "  </tbody>\n",
       "</table>\n",
       "<p>64 rows × 4 columns</p>\n",
       "</div>"
      ],
      "text/plain": [
       "   codon  reference_frequency  selected_frequency  enrichment\n",
       "0    ATT             0.093505            0.048220   -0.955415\n",
       "1    CGC             0.089792            0.061605   -0.543537\n",
       "2    TAG             0.075636            0.034927   -1.114747\n",
       "3    CCT             0.062251            0.069776    0.164634\n",
       "4    ATG             0.060861            0.063925    0.070884\n",
       "..   ...                  ...                 ...         ...\n",
       "59   TAA             0.000062            0.000032   -0.971373\n",
       "60   CCA             0.000059            0.000078    0.403843\n",
       "61   CCG             0.000038            0.000066    0.788858\n",
       "62   CTA             0.000014            0.000007   -1.009508\n",
       "63   TTA             0.000007            0.000006   -0.218095\n",
       "\n",
       "[64 rows x 4 columns]"
      ]
     },
     "metadata": {},
     "output_type": "display_data"
    }
   ],
   "source": [
    "failed_agonist_enrichment = calculate_enrichment(\"Mut_Rnd1_mCherry_pos\",\"Mut_NS5_Sample\")\n",
    "display(failed_agonist_enrichment)"
   ]
  },
  {
   "cell_type": "code",
   "execution_count": 29,
   "metadata": {},
   "outputs": [
    {
     "data": {
      "image/png": "[encoded data removed]",
      "text/plain": [
       "<Figure size 1000x400 with 1 Axes>"
      ]
     },
     "metadata": {},
     "output_type": "display_data"
    },
    {
     "data": {
      "text/plain": [
       "<ggplot: (8745718985870)>"
      ]
     },
     "metadata": {},
     "output_type": "display_data"
    }
   ],
   "source": [
    "failed_agonist_plot = (p9.ggplot(failed_agonist_enrichment) +\n",
    "                p9.aes(x='codon',\n",
    "                       y='enrichment') +\n",
    "                p9.geom_bar(stat='identity') +\n",
    "                p9.ggtitle('Enrichment:\\n'\n",
    "                           'Mut_Rnd1_mCherry_pos v Mut_NS5_Sample') +\n",
    "                p9.labs(x='codon',\n",
    "                        y='enrichment') +\n",
    "                p9.theme(figure_size=(10, 4),\n",
    "                         plot_title=p9.element_text(size=11),\n",
    "                         axis_title=p9.element_text(size=10),\n",
    "                         axis_text_x=p9.element_text(rotation=90),\n",
    "                         strip_text_y=p9.element_text(angle = 0))\n",
    "               )\n",
    "\n",
    "display(failed_agonist_plot)"
   ]
  },
  {
   "cell_type": "code",
   "execution_count": 30,
   "metadata": {},
   "outputs": [
    {
     "data": {
      "text/html": [
       "<div>\n",
       "<style scoped>\n",
       "    .dataframe tbody tr th:only-of-type {\n",
       "        vertical-align: middle;\n",
       "    }\n",
       "\n",
       "    .dataframe tbody tr th {\n",
       "        vertical-align: top;\n",
       "    }\n",
       "\n",
       "    .dataframe thead th {\n",
       "        text-align: right;\n",
       "    }\n",
       "</style>\n",
       "<table border=\"1\" class=\"dataframe\">\n",
       "  <thead>\n",
       "    <tr style=\"text-align: right;\">\n",
       "      <th></th>\n",
       "      <th>codon</th>\n",
       "      <th>reference_frequency</th>\n",
       "      <th>selected_frequency</th>\n",
       "      <th>enrichment</th>\n",
       "    </tr>\n",
       "  </thead>\n",
       "  <tbody>\n",
       "    <tr>\n",
       "      <th>0</th>\n",
       "      <td>CCT</td>\n",
       "      <td>0.069776</td>\n",
       "      <td>0.022619</td>\n",
       "      <td>-1.625218</td>\n",
       "    </tr>\n",
       "    <tr>\n",
       "      <th>1</th>\n",
       "      <td>ATG</td>\n",
       "      <td>0.063925</td>\n",
       "      <td>0.035912</td>\n",
       "      <td>-0.831919</td>\n",
       "    </tr>\n",
       "    <tr>\n",
       "      <th>2</th>\n",
       "      <td>CGC</td>\n",
       "      <td>0.061605</td>\n",
       "      <td>0.063735</td>\n",
       "      <td>0.049029</td>\n",
       "    </tr>\n",
       "    <tr>\n",
       "      <th>3</th>\n",
       "      <td>CAG</td>\n",
       "      <td>0.061180</td>\n",
       "      <td>0.031547</td>\n",
       "      <td>-0.955540</td>\n",
       "    </tr>\n",
       "    <tr>\n",
       "      <th>4</th>\n",
       "      <td>GAT</td>\n",
       "      <td>0.053164</td>\n",
       "      <td>0.059565</td>\n",
       "      <td>0.163997</td>\n",
       "    </tr>\n",
       "    <tr>\n",
       "      <th>...</th>\n",
       "      <td>...</td>\n",
       "      <td>...</td>\n",
       "      <td>...</td>\n",
       "      <td>...</td>\n",
       "    </tr>\n",
       "    <tr>\n",
       "      <th>59</th>\n",
       "      <td>TCG</td>\n",
       "      <td>0.000065</td>\n",
       "      <td>0.000045</td>\n",
       "      <td>-0.523540</td>\n",
       "    </tr>\n",
       "    <tr>\n",
       "      <th>60</th>\n",
       "      <td>CAA</td>\n",
       "      <td>0.000062</td>\n",
       "      <td>0.000028</td>\n",
       "      <td>-1.154818</td>\n",
       "    </tr>\n",
       "    <tr>\n",
       "      <th>61</th>\n",
       "      <td>TAA</td>\n",
       "      <td>0.000032</td>\n",
       "      <td>0.000031</td>\n",
       "      <td>-0.014466</td>\n",
       "    </tr>\n",
       "    <tr>\n",
       "      <th>62</th>\n",
       "      <td>CTA</td>\n",
       "      <td>0.000007</td>\n",
       "      <td>0.000006</td>\n",
       "      <td>-0.098234</td>\n",
       "    </tr>\n",
       "    <tr>\n",
       "      <th>63</th>\n",
       "      <td>TTA</td>\n",
       "      <td>0.000006</td>\n",
       "      <td>0.000004</td>\n",
       "      <td>-0.624303</td>\n",
       "    </tr>\n",
       "  </tbody>\n",
       "</table>\n",
       "<p>64 rows × 4 columns</p>\n",
       "</div>"
      ],
      "text/plain": [
       "   codon  reference_frequency  selected_frequency  enrichment\n",
       "0    CCT             0.069776            0.022619   -1.625218\n",
       "1    ATG             0.063925            0.035912   -0.831919\n",
       "2    CGC             0.061605            0.063735    0.049029\n",
       "3    CAG             0.061180            0.031547   -0.955540\n",
       "4    GAT             0.053164            0.059565    0.163997\n",
       "..   ...                  ...                 ...         ...\n",
       "59   TCG             0.000065            0.000045   -0.523540\n",
       "60   CAA             0.000062            0.000028   -1.154818\n",
       "61   TAA             0.000032            0.000031   -0.014466\n",
       "62   CTA             0.000007            0.000006   -0.098234\n",
       "63   TTA             0.000006            0.000004   -0.624303\n",
       "\n",
       "[64 rows x 4 columns]"
      ]
     },
     "metadata": {},
     "output_type": "display_data"
    }
   ],
   "source": [
    "relative = calculate_enrichment(\"Mut_Rnd1_mCherry_neg\",\"Mut_Rnd1_mCherry_pos\")\n",
    "display(relative)"
   ]
  },
  {
   "cell_type": "code",
   "execution_count": 32,
   "metadata": {},
   "outputs": [
    {
     "data": {
      "image/png": "[encoded data removed]",
      "text/plain": [
       "<Figure size 1000x400 with 1 Axes>"
      ]
     },
     "metadata": {},
     "output_type": "display_data"
    },
    {
     "data": {
      "text/plain": [
       "<ggplot: (8745722519754)>"
      ]
     },
     "metadata": {},
     "output_type": "display_data"
    }
   ],
   "source": [
    "failed_agonist_plot = (p9.ggplot(relative) +\n",
    "                p9.aes(x='codon',\n",
    "                       y='enrichment') +\n",
    "                p9.geom_bar(stat='identity') +\n",
    "                p9.ggtitle('Enrichment:\\n'\n",
    "                           'Mut_Rnd1_mCherry_neg v Mut_Rnd1_mCherry_pos') +\n",
    "                p9.labs(x='codon',\n",
    "                        y='enrichment') +\n",
    "                p9.theme(figure_size=(10, 4),\n",
    "                         plot_title=p9.element_text(size=11),\n",
    "                         axis_title=p9.element_text(size=10),\n",
    "                         axis_text_x=p9.element_text(rotation=90),\n",
    "                         strip_text_y=p9.element_text(angle = 0))\n",
    "               )\n",
    "\n",
    "display(failed_agonist_plot)"
   ]
  },
  {
   "cell_type": "code",
   "execution_count": null,
   "metadata": {},
   "outputs": [],
   "source": []
  }
 ],
 "metadata": {
  "kernelspec": {
   "display_name": "Python 3",
   "language": "python",
   "name": "python3"
  },
  "language_info": {
   "codemirror_mode": {
    "name": "ipython",
    "version": 3
   },
   "file_extension": ".py",
   "mimetype": "text/x-python",
   "name": "python",
   "nbconvert_exporter": "python",
   "pygments_lexer": "ipython3",
   "version": "3.8.5"
  }
 },
 "nbformat": 4,
 "nbformat_minor": 5
}
