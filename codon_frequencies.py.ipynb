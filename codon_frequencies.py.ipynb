{
 "cells": [
  {
   "cell_type": "markdown",
   "id": "184c6714",
   "metadata": {},
   "source": [
    "# Codon Frequencies\n",
    "This notebook parses FASTQ files and calculates the frequency of codons at site 734 in Zika Virus NS5 protein.\n",
    "\n",
    "FASTQ files for each cell population are specified in `samplesheet.csv`"
   ]
  },
  {
   "cell_type": "markdown",
   "id": "a23e6340",
   "metadata": {},
   "source": [
    "## Notebook setup\n",
    "Imports"
   ]
  },
  {
   "cell_type": "code",
   "execution_count": 1,
   "id": "35328079",
   "metadata": {},
   "outputs": [
    {
     "name": "stdout",
     "output_type": "stream",
     "text": [
      "numpy==1.19.5\n",
      "pandas==1.1.5\n",
      "plotnine==0.8.0\n",
      "regex==2.4.104\n"
     ]
    }
   ],
   "source": [
    "import numpy as np\n",
    "import pandas as pd\n",
    "import plotnine as p9\n",
    "import regex\n",
    "from Bio import SeqIO\n",
    "\n",
    "# print imports and versions\n",
    "# copied from https://stackoverflow.com/questions/40428931/package-for-listing-version-of-packages-used-in-a-jupyter-notebook\n",
    "print('\\n'.join(f'{m.__name__}=={m.__version__}' \\\n",
    "                for m in globals().values() if getattr(m, '__version__', None)))"
   ]
  },
  {
   "cell_type": "markdown",
   "id": "4adfa8c4",
   "metadata": {},
   "source": [
    "Input data"
   ]
  },
  {
   "cell_type": "code",
   "execution_count": 2,
   "id": "f69d0d83",
   "metadata": {},
   "outputs": [],
   "source": [
    "samplesheet = 'samplesheet.csv'\n",
    "reference_file = 'ns5.fasta'"
   ]
  },
  {
   "cell_type": "markdown",
   "id": "402b4cb5",
   "metadata": {},
   "source": [
    "Analysis parameters"
   ]
  },
  {
   "cell_type": "code",
   "execution_count": 3,
   "id": "645c2d10",
   "metadata": {},
   "outputs": [],
   "source": [
    "codon_start = 2203  # nposition in reference for first codon nt\n",
    "upstream_length = 15  # length of sequence before codon to search for\n",
    "downstream_length = 15  # length of sequence after codon to search for\n",
    "mismatches = 1  # number of mismatches allowed (per upstream/downstream sequence)\n",
    "nucleotides_allowed = 'ACGT'"
   ]
  },
  {
   "cell_type": "markdown",
   "id": "820910a5",
   "metadata": {},
   "source": [
    "Notebook aesthetics"
   ]
  },
  {
   "cell_type": "code",
   "execution_count": 4,
   "id": "6edbb9d1",
   "metadata": {},
   "outputs": [],
   "source": [
    "p9.theme_set(p9.theme_classic())\n",
    "CBPALETTE_RICH = ['#648FFF', '#FFB000', '#DC267F', '#785EF0', '#FE6100']"
   ]
  },
  {
   "cell_type": "markdown",
   "id": "466c0262",
   "metadata": {},
   "source": [
    "## Load data\n",
    "Load samples"
   ]
  },
  {
   "cell_type": "code",
   "execution_count": 5,
   "id": "b6651123",
   "metadata": {},
   "outputs": [
    {
     "data": {
      "text/html": [
       "<div>\n",
       "<style scoped>\n",
       "    .dataframe tbody tr th:only-of-type {\n",
       "        vertical-align: middle;\n",
       "    }\n",
       "\n",
       "    .dataframe tbody tr th {\n",
       "        vertical-align: top;\n",
       "    }\n",
       "\n",
       "    .dataframe thead th {\n",
       "        text-align: right;\n",
       "    }\n",
       "</style>\n",
       "<table border=\"1\" class=\"dataframe\">\n",
       "  <thead>\n",
       "    <tr style=\"text-align: right;\">\n",
       "      <th></th>\n",
       "      <th>sample_name</th>\n",
       "      <th>infected</th>\n",
       "      <th>IFN</th>\n",
       "      <th>IFN_antagonism</th>\n",
       "      <th>fastq_file</th>\n",
       "    </tr>\n",
       "  </thead>\n",
       "  <tbody>\n",
       "    <tr>\n",
       "      <th>0</th>\n",
       "      <td>BR_1</td>\n",
       "      <td>True</td>\n",
       "      <td>False</td>\n",
       "      <td>True</td>\n",
       "      <td>tmp_ifn_YESantagonism.fasta</td>\n",
       "    </tr>\n",
       "    <tr>\n",
       "      <th>1</th>\n",
       "      <td>BR_2</td>\n",
       "      <td>True</td>\n",
       "      <td>True</td>\n",
       "      <td>False</td>\n",
       "      <td>tmp_ifn_NOantagonism.fasta</td>\n",
       "    </tr>\n",
       "  </tbody>\n",
       "</table>\n",
       "</div>"
      ],
      "text/plain": [
       "  sample_name  infected    IFN  IFN_antagonism                   fastq_file\n",
       "0        BR_1      True  False            True  tmp_ifn_YESantagonism.fasta\n",
       "1        BR_2      True   True           False   tmp_ifn_NOantagonism.fasta"
      ]
     },
     "metadata": {},
     "output_type": "display_data"
    }
   ],
   "source": [
    "samples = pd.read_csv(samplesheet)\n",
    "display(samples)"
   ]
  },
  {
   "cell_type": "markdown",
   "id": "94d3b44b",
   "metadata": {},
   "source": [
    "Load reference sequence"
   ]
  },
  {
   "cell_type": "code",
   "execution_count": 6,
   "id": "d751fff4",
   "metadata": {},
   "outputs": [
    {
     "name": "stdout",
     "output_type": "stream",
     "text": [
      "NS5\n",
      "CGTGGAGGTGGGACGGGAGAGACTCTGGGAGAGAAGTGGAAAGCTCGTCTGAATCAGATGTCGGCCCTGGAGTTCTACTCTTATAAAAAGTCAGGTATCACTGAAGTGTGTAGAGAGGAGGCTCGCCGTGCCCTCAAGGATGGAGTGGCCACAGGAGGACATGCCGTATCCCGGGGAAGTGCAAAGCTCAGATGGTTGGTGGAGAGAGGATATCTGCAGCCCTATGGGAAGGTTGTTGACCTCGGATGTGGCAGAGGGGGCTGGAGCTATTATGCCGCCACCATCCGCAAAGTGCAGGAGGTGAGAGGATACACAAAGGGAGGTCCCGGTCATGAAGAACCCATGCTGGTGCAAAGCTATGGGTGGAACATAGTTCGTCTCAAGAGTGGAGTGGACGTCTTCCACATGGCGGCTGAGCCGTGTGACACTCTGCTGTGTGACATAGGTGAGTCATCATCTAGTCCTGAAGTGGAAGAGACACGAACACTCAGAGTGCTCTCTATGGTGGGGGACTGGCTTGAAAAAAGACCAGGGGCCTTCTGTATAAAGGTGCTGTGCCCATACACCAGCACTATGATGGAAACCATGGAGCGACTGCAACGTAGGCATGGGGGAGGATTAGTCAGAGTGCCATTGTCTCGCAACTCCACACATGAGATGTACTGGGTCTCTGGGGCAAAGAGCAACATCATAAAAAGTGTGTCCACCACAAGTCAGCTCCTCCTGGGACGCATGGATGGCCCCAGGAGGCCAGTGAAATATGAGGAGGATGTGAACCTCGGCTCGGGTACACGAGCTGTGGCAAGCTGTGCTGAGGCTCCTAACATGAAAATCATCGGCAGGCGCATTGAGAGAATCCGCAATGAACATGCAGAAACATGGTTTCTTGATGAAAACCACCCATACAGGACATGGGCCTACCATGGGAGCTACGAAGCCCCCACGCAAGGATCAGCGTCTTCCCTCGTGAACGGGGTTGTTAGACTCCTGTCAAAGCCTTGGGACGTGGTGACTGGAGTTACAGGAATAGCCATGACTGACACCACACCATACGGCCAACAAAGAGTCTTCAAAGAAAAAGTGGACACCAGGGTGCCAGATCCCCAAGAAGGCACTCGCCAGGTAATGAACATAGTCTCTTCCTGGCTGTGGAAGGAGCTGGGGAAACGCAAGCGGCCACGCGTCTGCACCAAAGAAGAGTTTATCAACAAGGTGCGCAGCAATGCAGCACTGGGAGCAATATTTGAAGAGGAAAAAGAATGGAAGACGGCTGTGGAAGCTGTGAATGATCCAAGGTTTTGGGCCCTAGTGGATAGGGAGAGAGAACACCACCTGAGAGGAGAGTGTCACAGCTGTGTGTACAACATGATGGGAAAAAGAGAAAAGAAGCAAGGAGAGTTCGGGAAAGCAAAAGGTAGCCGCGCCATCTGGTACATGTGGTTGGGAGCCAGATTCTTGGAGTTTGAAGCTCTTGGATTCTTGAACGAGGACCATTGGATGGGAAGAGAAAACTCAGGAGGTGGAGTCGAAGGGTTAGGATTGCAAAGACTTGGATACATTCTAGAAGAAATGAATCGGGCACCAGGAGGAAAGATGTACGCAGATGACACTGCTGGCTGGGACACCCGCATTAGTAAGTTTGATCTGGAGAATGAAGCTCTGATTACCAACCAAATGGAGGAAGGGCACAGAACTCTGGCGTTGGCCGTGATTAAATACACATACCAAAACAAAGTGGTGAAGGTTCTCAGACCAGCTGAAGGAGGAAAAACAGTTATGGACATCATTTCAAGACAAGACCAGAGAGGGAGTGGACAAGTTGTCACTTATGCTCTCAACACATTCACCAACTTGGTGGTGCAGCTTATCCGGAACATGGAAGCTGAGGAAGTGTTAGAGATGCAAGACTTATGGTTGTTGAGGAAGCCAGAGAAAGTGACCAGATGGTTGCAGAGCAATGGATGGGATAGACTCAAACGAATGGCGGTCAGTGGAGATGACTGCGTTGTGAAGCCAATCGATGATAGGTTTGCACATGCCCTCAGGTTCTTGAATGACATGGGAAAAGTTAGGAAAGACACACAGGAGTGGAAACCCTCGACTGGATGGAGCAATTGGGAAGAAGTCCCGTTCTGCTCCCACCACTTCAACAAGCTGTACCTCAAGGATGGGAGATCCATTGTGGTCCCTTGCCGCCACCAAGATGAACTGATTGGCCGAGCTCGCGTCTCACCAGGGGCAGGATGGAGCATCCGGGAGACTGCCTGTCTTGCAAAATCATATGCGCAGATGTGGCAGCTCCTTTATTTCCACAGAAGAGACCTTCGACTGATGGCTAATGCCATTTGCTCGGCTGTGCCAGTTGACTGGGTACCAACTGGGAGAACCACCTGGTCAATCCATGGAAAGGGAGAATGGATGACCACTGAGGACATGCTCATGGTGTGGAATAGAGTGTGGATTGAGGAGAACGACCATATGGAGGACAAGACTCCTGTAACAAAATGGACAGACATTCCCTATCTAGGAAAAAGGGAGGACTTATGGTGTGGATCCCTTATAGGGCACAGACCCCGCACCACTTGGGCTGAAAACATCAAAGACACAGTCAACATGGTGCGCAGGATCATAGGTGATGAAGAAAAGTACATGGACTATCTATCCACCCAAGTCCGCTACTTGGGTGAGGAAGGGTCCACACCCGGAGTGTTGTAA\n"
     ]
    }
   ],
   "source": [
    "reference = SeqIO.read(reference_file, 'fasta')\n",
    "print(reference.id)\n",
    "print(reference.seq)"
   ]
  },
  {
   "cell_type": "markdown",
   "id": "09c07309",
   "metadata": {},
   "source": [
    "## Parse codon sequence"
   ]
  },
  {
   "cell_type": "markdown",
   "id": "60c4ea7a",
   "metadata": {},
   "source": [
    "Extract sequences upstream and downstream of codon"
   ]
  },
  {
   "cell_type": "code",
   "execution_count": 7,
   "id": "4276f0aa",
   "metadata": {},
   "outputs": [
    {
     "name": "stdout",
     "output_type": "stream",
     "text": [
      "The codon starts at position 2203 and ends at position 2205 in the reference.\n",
      "The codon sequence in the reference is: GAT\n",
      "\n",
      "The upstream search sequence starts at position 2188 and ends at position 2202 in the reference.\n",
      "The upstream search sequence is: CCTTGCCGCCACCAA\n",
      "\n",
      "The downstream search sequence starts at position 2206 and ends at position 2220 in the reference.\n",
      "The downstream search sequence is: GAACTGATTGGCCGA\n"
     ]
    }
   ],
   "source": [
    "# feature positions in reference sequence\n",
    "codon_end = codon_start + 2\n",
    "upstream_start = codon_start - upstream_length\n",
    "upstream_end = codon_start - 1\n",
    "downstream_start = codon_end + 1\n",
    "downstream_end = codon_end + downstream_length\n",
    "\n",
    "# feature values\n",
    "# python indexing is not inclusive of first coordinate, so\n",
    "# all start positions are adjusted by -1\n",
    "codon_reference = reference.seq[(codon_start-1):codon_end]\n",
    "upstream = reference.seq[(upstream_start-1):upstream_end]\n",
    "downstream = reference.seq[(downstream_start-1):downstream_end]\n",
    "\n",
    "# print\n",
    "print(f'The codon starts at position {codon_start} and '\n",
    "      f'ends at position {codon_end} in the reference.')\n",
    "print(f'The codon sequence in the reference is: {codon_reference}\\n')\n",
    "print(f'The upstream search sequence starts at position {upstream_start} '\n",
    "      f'and ends at position {upstream_end} in the reference.')\n",
    "print(f'The upstream search sequence is: {upstream}\\n')\n",
    "print(f'The downstream search sequence starts at position {downstream_start} '\n",
    "      f'and ends at position {downstream_end} in the reference.')\n",
    "print(f'The downstream search sequence is: {downstream}')"
   ]
  },
  {
   "cell_type": "markdown",
   "id": "67a0b08e",
   "metadata": {},
   "source": [
    "Build regex search"
   ]
  },
  {
   "cell_type": "code",
   "execution_count": 8,
   "id": "7b09d7fd",
   "metadata": {},
   "outputs": [
    {
     "name": "stdout",
     "output_type": "stream",
     "text": [
      "The search pattern will be:\n",
      "(?:CCTTGCCGCCACCAA){e<=1}([ACGT]{3})(?:GAACTGATTGGCCGA){e<=1}\n"
     ]
    }
   ],
   "source": [
    "pattern = (f'(?:{upstream}){{e<={mismatches}}}' +  # match upstream\n",
    "           f'([{nucleotides_allowed}]{{3}})' +  # match and capture codon\n",
    "           f'(?:{downstream}){{e<={mismatches}}}')  # match downstream\n",
    "print(f'The search pattern will be:\\n{pattern}')"
   ]
  },
  {
   "cell_type": "markdown",
   "id": "ff8f4f41",
   "metadata": {},
   "source": [
    "Iterate through reads and store codons:"
   ]
  },
  {
   "cell_type": "code",
   "execution_count": 9,
   "id": "54db9c39",
   "metadata": {},
   "outputs": [
    {
     "data": {
      "text/html": [
       "<div>\n",
       "<style scoped>\n",
       "    .dataframe tbody tr th:only-of-type {\n",
       "        vertical-align: middle;\n",
       "    }\n",
       "\n",
       "    .dataframe tbody tr th {\n",
       "        vertical-align: top;\n",
       "    }\n",
       "\n",
       "    .dataframe thead th {\n",
       "        text-align: right;\n",
       "    }\n",
       "</style>\n",
       "<table border=\"1\" class=\"dataframe\">\n",
       "  <thead>\n",
       "    <tr style=\"text-align: right;\">\n",
       "      <th></th>\n",
       "      <th>sample_name</th>\n",
       "      <th>IFN_antagonism</th>\n",
       "      <th>read_id</th>\n",
       "      <th>match_string</th>\n",
       "      <th>codon</th>\n",
       "    </tr>\n",
       "  </thead>\n",
       "  <tbody>\n",
       "    <tr>\n",
       "      <th>0</th>\n",
       "      <td>BR_1</td>\n",
       "      <td>True</td>\n",
       "      <td>a1</td>\n",
       "      <td>CCCTTGCCGCCACCAAGATGAACTGATTGGCCGA</td>\n",
       "      <td>GAT</td>\n",
       "    </tr>\n",
       "    <tr>\n",
       "      <th>1</th>\n",
       "      <td>BR_1</td>\n",
       "      <td>True</td>\n",
       "      <td>a2</td>\n",
       "      <td>CCCTTGCCGCCACCAAGATGACTGATTGGCCGA</td>\n",
       "      <td>GAT</td>\n",
       "    </tr>\n",
       "    <tr>\n",
       "      <th>2</th>\n",
       "      <td>BR_1</td>\n",
       "      <td>True</td>\n",
       "      <td>a3</td>\n",
       "      <td>CCCTTGCCGCCACCAAGATGAACTGATTGGCCGA</td>\n",
       "      <td>GAT</td>\n",
       "    </tr>\n",
       "    <tr>\n",
       "      <th>3</th>\n",
       "      <td>BR_1</td>\n",
       "      <td>True</td>\n",
       "      <td>a4</td>\n",
       "      <td>CCTTGCCGCACCAAAAAGATCTGATTGGCCGA</td>\n",
       "      <td>AAA</td>\n",
       "    </tr>\n",
       "    <tr>\n",
       "      <th>4</th>\n",
       "      <td>BR_1</td>\n",
       "      <td>True</td>\n",
       "      <td>a5</td>\n",
       "      <td>CCCTTGCCGCCACCAAGATAACTGATTGGCCGA</td>\n",
       "      <td>GAT</td>\n",
       "    </tr>\n",
       "    <tr>\n",
       "      <th>5</th>\n",
       "      <td>BR_1</td>\n",
       "      <td>True</td>\n",
       "      <td>a6</td>\n",
       "      <td>CCCTTGCCGCCACCAAGATGAACTGATTGGCCGA</td>\n",
       "      <td>GAT</td>\n",
       "    </tr>\n",
       "    <tr>\n",
       "      <th>6</th>\n",
       "      <td>BR_2</td>\n",
       "      <td>False</td>\n",
       "      <td>b1</td>\n",
       "      <td>CCCTTGCCGCCACCAAGATGAACTGATTGGCCGA</td>\n",
       "      <td>GAT</td>\n",
       "    </tr>\n",
       "    <tr>\n",
       "      <th>7</th>\n",
       "      <td>BR_2</td>\n",
       "      <td>False</td>\n",
       "      <td>b2</td>\n",
       "      <td>CCCTTGCCGCCACCAAACCGACTGATTGGCCGA</td>\n",
       "      <td>ACC</td>\n",
       "    </tr>\n",
       "    <tr>\n",
       "      <th>8</th>\n",
       "      <td>BR_2</td>\n",
       "      <td>False</td>\n",
       "      <td>b3</td>\n",
       "      <td>CCCTTGCCGCCACCAATAGGAACTGATTGGCCGA</td>\n",
       "      <td>TAG</td>\n",
       "    </tr>\n",
       "    <tr>\n",
       "      <th>9</th>\n",
       "      <td>BR_2</td>\n",
       "      <td>False</td>\n",
       "      <td>b4</td>\n",
       "      <td>CCTTGCCGCACCAAAAAGAACTGATTGGCCGA</td>\n",
       "      <td>AAA</td>\n",
       "    </tr>\n",
       "    <tr>\n",
       "      <th>10</th>\n",
       "      <td>BR_2</td>\n",
       "      <td>False</td>\n",
       "      <td>b5</td>\n",
       "      <td>None</td>\n",
       "      <td>None</td>\n",
       "    </tr>\n",
       "    <tr>\n",
       "      <th>11</th>\n",
       "      <td>BR_2</td>\n",
       "      <td>False</td>\n",
       "      <td>b6</td>\n",
       "      <td>CCCTTGCCGCCACCAAGGGGAACTGATTGGCCGA</td>\n",
       "      <td>GGG</td>\n",
       "    </tr>\n",
       "  </tbody>\n",
       "</table>\n",
       "</div>"
      ],
      "text/plain": [
       "   sample_name  IFN_antagonism read_id                        match_string  \\\n",
       "0         BR_1            True      a1  CCCTTGCCGCCACCAAGATGAACTGATTGGCCGA   \n",
       "1         BR_1            True      a2   CCCTTGCCGCCACCAAGATGACTGATTGGCCGA   \n",
       "2         BR_1            True      a3  CCCTTGCCGCCACCAAGATGAACTGATTGGCCGA   \n",
       "3         BR_1            True      a4    CCTTGCCGCACCAAAAAGATCTGATTGGCCGA   \n",
       "4         BR_1            True      a5   CCCTTGCCGCCACCAAGATAACTGATTGGCCGA   \n",
       "5         BR_1            True      a6  CCCTTGCCGCCACCAAGATGAACTGATTGGCCGA   \n",
       "6         BR_2           False      b1  CCCTTGCCGCCACCAAGATGAACTGATTGGCCGA   \n",
       "7         BR_2           False      b2   CCCTTGCCGCCACCAAACCGACTGATTGGCCGA   \n",
       "8         BR_2           False      b3  CCCTTGCCGCCACCAATAGGAACTGATTGGCCGA   \n",
       "9         BR_2           False      b4    CCTTGCCGCACCAAAAAGAACTGATTGGCCGA   \n",
       "10        BR_2           False      b5                                None   \n",
       "11        BR_2           False      b6  CCCTTGCCGCCACCAAGGGGAACTGATTGGCCGA   \n",
       "\n",
       "   codon  \n",
       "0    GAT  \n",
       "1    GAT  \n",
       "2    GAT  \n",
       "3    AAA  \n",
       "4    GAT  \n",
       "5    GAT  \n",
       "6    GAT  \n",
       "7    ACC  \n",
       "8    TAG  \n",
       "9    AAA  \n",
       "10  None  \n",
       "11   GGG  "
      ]
     },
     "metadata": {},
     "output_type": "display_data"
    }
   ],
   "source": [
    "read1_results = list()\n",
    "\n",
    "for index, sample in samples.iterrows():\n",
    "    with open(sample['fastq_file']) as handle:\n",
    "        reads = SeqIO.parse(handle, 'fasta')\n",
    "        for read in reads:\n",
    "            result = regex.search(pattern, str(read.seq))\n",
    "            if result == None:\n",
    "                match = None\n",
    "                codon = None\n",
    "            else:\n",
    "                match = result.group(0)\n",
    "                codon = result.group(1)\n",
    "            read1_results.append((sample['sample_name'],\n",
    "                                  sample['IFN_antagonism'],\n",
    "                                  read.id,\n",
    "                                  match,\n",
    "                                  codon))\n",
    "\n",
    "results = pd.DataFrame(read1_results,\n",
    "                       columns=['sample_name',\n",
    "                                'IFN_antagonism',\n",
    "                                'read_id',\n",
    "                                'match_string',\n",
    "                                'codon'])\n",
    "display(results)"
   ]
  },
  {
   "cell_type": "markdown",
   "id": "07389ad9",
   "metadata": {},
   "source": [
    "## Plot quality control"
   ]
  },
  {
   "cell_type": "markdown",
   "id": "0ae28d29",
   "metadata": {},
   "source": [
    "Number of reads with codon successfully parsed per sample:"
   ]
  },
  {
   "cell_type": "code",
   "execution_count": 10,
   "id": "2bfb47f5",
   "metadata": {},
   "outputs": [
    {
     "data": {
      "image/png": "[encoded data removed]",
      "text/plain": [
       "<Figure size 200x200 with 1 Axes>"
      ]
     },
     "metadata": {},
     "output_type": "display_data"
    },
    {
     "data": {
      "text/plain": [
       "<ggplot: (324036819)>"
      ]
     },
     "metadata": {},
     "output_type": "display_data"
    }
   ],
   "source": [
    "parsing_qc = (p9.ggplot(results) +\n",
    "              p9.aes(x='sample_name',\n",
    "                     fill='codon.notnull()') +\n",
    "              p9.geom_bar(stat='count') +\n",
    "              p9.ggtitle('Codon parsing') +\n",
    "              p9.labs(x='sample',\n",
    "                      y='reads',\n",
    "                      fill='codon successfully parsed') +\n",
    "              p9.theme(figure_size=(2, 2),\n",
    "                       plot_title=p9.element_text(size=11),\n",
    "                       axis_title=p9.element_text(size=10),\n",
    "                       axis_text_x=p9.element_text(rotation=45, hjust=1),\n",
    "                       legend_position='bottom',\n",
    "                       legend_title=p9.element_text(size=10),\n",
    "                       legend_title_align='center') +\n",
    "              p9.scale_fill_manual(CBPALETTE_RICH[0:])\n",
    "              )\n",
    "\n",
    "display(parsing_qc)"
   ]
  },
  {
   "cell_type": "markdown",
   "id": "8806a37c",
   "metadata": {},
   "source": [
    "Codon counts per sample"
   ]
  },
  {
   "cell_type": "code",
   "execution_count": 11,
   "id": "4e0b5dec",
   "metadata": {},
   "outputs": [
    {
     "data": {
      "image/png": "[encoded data removed]",
      "text/plain": [
       "<Figure size 800x200 with 2 Axes>"
      ]
     },
     "metadata": {},
     "output_type": "display_data"
    },
    {
     "data": {
      "text/plain": [
       "<ggplot: (286201103)>"
      ]
     },
     "metadata": {},
     "output_type": "display_data"
    }
   ],
   "source": [
    "codon_counts = (p9.ggplot(results\n",
    "                          .query('codon.notnull()',\n",
    "                                 engine='python')) +\n",
    "                p9.aes(x='codon',) +\n",
    "                p9.geom_bar(stat='count') +\n",
    "                p9.facet_grid('~sample_name') +\n",
    "                p9.ggtitle('Codon counts') +\n",
    "                p9.labs(x='codon',\n",
    "                        y='reads') +\n",
    "                p9.theme(figure_size=(8, 2),\n",
    "                         plot_title=p9.element_text(size=11),\n",
    "                         axis_title=p9.element_text(size=10),\n",
    "                         axis_text_x=p9.element_text(rotation=90))\n",
    "               )\n",
    "\n",
    "display(codon_counts)"
   ]
  },
  {
   "cell_type": "markdown",
   "id": "a73ad859",
   "metadata": {},
   "source": [
    "Codon frequencies per sample"
   ]
  },
  {
   "cell_type": "code",
   "execution_count": 12,
   "id": "eb0d6845",
   "metadata": {},
   "outputs": [
    {
     "data": {
      "image/png": "[encoded data removed]",
      "text/plain": [
       "<Figure size 800x200 with 2 Axes>"
      ]
     },
     "metadata": {},
     "output_type": "display_data"
    },
    {
     "data": {
      "text/plain": [
       "<ggplot: (324025145)>"
      ]
     },
     "metadata": {},
     "output_type": "display_data"
    }
   ],
   "source": [
    "codon_freqs = (p9.ggplot(results\n",
    "                          .query('codon.notnull()',\n",
    "                                 engine='python')) +\n",
    "               p9.aes(x='codon',\n",
    "                      y=p9.after_stat('count / np.sum(count)')) +\n",
    "               p9.geom_bar() +\n",
    "               p9.facet_grid('~sample_name') +\n",
    "               p9.ggtitle('Codon frequencies') +\n",
    "               p9.labs(x='codon',\n",
    "                       y='proportion of reads') +\n",
    "               p9.theme(figure_size=(8, 2),\n",
    "                        plot_title=p9.element_text(size=11),\n",
    "                        axis_title=p9.element_text(size=10),\n",
    "                        axis_text_x=p9.element_text(rotation=90))\n",
    "              )\n",
    "\n",
    "display(codon_freqs)"
   ]
  },
  {
   "cell_type": "code",
   "execution_count": null,
   "id": "c57b569c",
   "metadata": {},
   "outputs": [],
   "source": []
  }
 ],
 "metadata": {
  "kernelspec": {
   "display_name": "Python 3",
   "language": "python",
   "name": "python3"
  },
  "language_info": {
   "codemirror_mode": {
    "name": "ipython",
    "version": 3
   },
   "file_extension": ".py",
   "mimetype": "text/x-python",
   "name": "python",
   "nbconvert_exporter": "python",
   "pygments_lexer": "ipython3",
   "version": "3.6.7"
  }
 },
 "nbformat": 4,
 "nbformat_minor": 5
}
