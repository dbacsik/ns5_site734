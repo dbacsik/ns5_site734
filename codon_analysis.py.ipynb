{
 "cells": [
  {
   "cell_type": "markdown",
   "metadata": {},
   "source": [
    "# Codon Frequencies\n",
    "This notebook parses FASTQ files and calculates the frequency of codons at site 734 in Zika Virus NS5 protein.\n",
    "\n",
    "FASTQ files for each cell population are specified in `samplesheet.csv`"
   ]
  },
  {
   "cell_type": "markdown",
   "metadata": {},
   "source": [
    "### Notebook setup\n",
    "Imports"
   ]
  },
  {
   "cell_type": "code",
   "execution_count": 1,
   "metadata": {},
   "outputs": [
    {
     "name": "stdout",
     "output_type": "stream",
     "text": [
      "numpy==1.19.1\n",
      "pandas==1.3.2\n",
      "plotnine==0.8.0\n",
      "regex==2.5.83\n"
     ]
    }
   ],
   "source": [
    "import gzip\n",
    "import os.path\n",
    "import numpy as np\n",
    "import pandas as pd\n",
    "import plotnine as p9\n",
    "import regex\n",
    "from Bio import SeqIO\n",
    "\n",
    "# print imports and versions\n",
    "# copied from https://stackoverflow.com/questions/40428931/package-for-listing-version-of-packages-used-in-a-jupyter-notebook\n",
    "print('\\n'.join(f'{m.__name__}=={m.__version__}' \\\n",
    "                for m in globals().values() if getattr(m, '__version__', None)))"
   ]
  },
  {
   "cell_type": "markdown",
   "metadata": {},
   "source": [
    "Input data"
   ]
  },
  {
   "cell_type": "code",
   "execution_count": 2,
   "metadata": {},
   "outputs": [],
   "source": [
    "samplesheet = 'samplesheet.csv'\n",
    "reference_file = 'ns5.fasta'\n",
    "stat2_luciferase_file = 'STAT2_luciferase_results.csv'\n",
    "permitted_codons_file = 'permitted_codons.txt'\n",
    "codon_lookup_file = 'codon_lookup_table.csv'\n",
    "codons_file = 'codons_parsed.csv.gz'\n",
    "codon_counts_file = 'results/codon_counts.csv'"
   ]
  },
  {
   "cell_type": "markdown",
   "metadata": {},
   "source": [
    "Analysis parameters"
   ]
  },
  {
   "cell_type": "code",
   "execution_count": 3,
   "metadata": {},
   "outputs": [],
   "source": [
    "codon_start = 2203  # nposition in reference for first codon nt\n",
    "upstream_length = 15  # length of sequence before codon to search for\n",
    "downstream_length = 15  # length of sequence after codon to search for\n",
    "mismatches = 1  # number of mismatches allowed (per upstream/downstream sequence)\n",
    "nucleotides_allowed = 'ACGT'  # bases permitted in parsed codon"
   ]
  },
  {
   "cell_type": "markdown",
   "metadata": {},
   "source": [
    "Notebook aesthetics"
   ]
  },
  {
   "cell_type": "code",
   "execution_count": 4,
   "metadata": {},
   "outputs": [],
   "source": [
    "p9.theme_set(p9.theme_classic())\n",
    "CBPALETTE_RICH = ['#648FFF', '#FFB000', '#DC267F', '#785EF0', '#FE6100']"
   ]
  },
  {
   "cell_type": "markdown",
   "metadata": {},
   "source": [
    "### Load data\n",
    "Load samples"
   ]
  },
  {
   "cell_type": "code",
   "execution_count": 5,
   "metadata": {},
   "outputs": [
    {
     "data": {
      "text/html": [
       "<div>\n",
       "<style scoped>\n",
       "    .dataframe tbody tr th:only-of-type {\n",
       "        vertical-align: middle;\n",
       "    }\n",
       "\n",
       "    .dataframe tbody tr th {\n",
       "        vertical-align: top;\n",
       "    }\n",
       "\n",
       "    .dataframe thead th {\n",
       "        text-align: right;\n",
       "    }\n",
       "</style>\n",
       "<table border=\"1\" class=\"dataframe\">\n",
       "  <thead>\n",
       "    <tr style=\"text-align: right;\">\n",
       "      <th></th>\n",
       "      <th>sample_name</th>\n",
       "      <th>infected</th>\n",
       "      <th>IFN</th>\n",
       "      <th>read</th>\n",
       "      <th>fastq_file</th>\n",
       "    </tr>\n",
       "  </thead>\n",
       "  <tbody>\n",
       "    <tr>\n",
       "      <th>0</th>\n",
       "      <td>WT_NS5_Sample</td>\n",
       "      <td>True</td>\n",
       "      <td>None</td>\n",
       "      <td>R1</td>\n",
       "      <td>/shared/ngs/illumina/bloom_lab/210917_M04866_0...</td>\n",
       "    </tr>\n",
       "    <tr>\n",
       "      <th>1</th>\n",
       "      <td>Mut_NS5_Sample</td>\n",
       "      <td>True</td>\n",
       "      <td>None</td>\n",
       "      <td>R1</td>\n",
       "      <td>/shared/ngs/illumina/bloom_lab/210917_M04866_0...</td>\n",
       "    </tr>\n",
       "    <tr>\n",
       "      <th>2</th>\n",
       "      <td>Mut_Rnd1_mCherry_neg</td>\n",
       "      <td>True</td>\n",
       "      <td>False</td>\n",
       "      <td>R1</td>\n",
       "      <td>/shared/ngs/illumina/bloom_lab/210917_M04866_0...</td>\n",
       "    </tr>\n",
       "    <tr>\n",
       "      <th>3</th>\n",
       "      <td>Mut_Rnd1_mCherry_pos</td>\n",
       "      <td>True</td>\n",
       "      <td>True</td>\n",
       "      <td>R1</td>\n",
       "      <td>/shared/ngs/illumina/bloom_lab/210917_M04866_0...</td>\n",
       "    </tr>\n",
       "    <tr>\n",
       "      <th>4</th>\n",
       "      <td>Mut_Rnd2_mCherry_neg</td>\n",
       "      <td>True</td>\n",
       "      <td>False</td>\n",
       "      <td>R1</td>\n",
       "      <td>/shared/ngs/illumina/bloom_lab/210917_M04866_0...</td>\n",
       "    </tr>\n",
       "    <tr>\n",
       "      <th>5</th>\n",
       "      <td>Mut_Rnd2_mCherry_pos</td>\n",
       "      <td>True</td>\n",
       "      <td>True</td>\n",
       "      <td>R1</td>\n",
       "      <td>/shared/ngs/illumina/bloom_lab/210917_M04866_0...</td>\n",
       "    </tr>\n",
       "    <tr>\n",
       "      <th>6</th>\n",
       "      <td>WT_Plasmid</td>\n",
       "      <td>None</td>\n",
       "      <td>None</td>\n",
       "      <td>R1</td>\n",
       "      <td>/shared/ngs/illumina/bloom_lab/210917_M04866_0...</td>\n",
       "    </tr>\n",
       "    <tr>\n",
       "      <th>7</th>\n",
       "      <td>Mut_Plasmid</td>\n",
       "      <td>None</td>\n",
       "      <td>None</td>\n",
       "      <td>R1</td>\n",
       "      <td>/shared/ngs/illumina/bloom_lab/210917_M04866_0...</td>\n",
       "    </tr>\n",
       "    <tr>\n",
       "      <th>8</th>\n",
       "      <td>WT_NS5_Sample</td>\n",
       "      <td>True</td>\n",
       "      <td>None</td>\n",
       "      <td>R2</td>\n",
       "      <td>/shared/ngs/illumina/bloom_lab/210917_M04866_0...</td>\n",
       "    </tr>\n",
       "    <tr>\n",
       "      <th>9</th>\n",
       "      <td>Mut_NS5_Sample</td>\n",
       "      <td>True</td>\n",
       "      <td>None</td>\n",
       "      <td>R2</td>\n",
       "      <td>/shared/ngs/illumina/bloom_lab/210917_M04866_0...</td>\n",
       "    </tr>\n",
       "    <tr>\n",
       "      <th>10</th>\n",
       "      <td>Mut_Rnd1_mCherry_neg</td>\n",
       "      <td>True</td>\n",
       "      <td>False</td>\n",
       "      <td>R2</td>\n",
       "      <td>/shared/ngs/illumina/bloom_lab/210917_M04866_0...</td>\n",
       "    </tr>\n",
       "    <tr>\n",
       "      <th>11</th>\n",
       "      <td>Mut_Rnd1_mCherry_pos</td>\n",
       "      <td>True</td>\n",
       "      <td>True</td>\n",
       "      <td>R2</td>\n",
       "      <td>/shared/ngs/illumina/bloom_lab/210917_M04866_0...</td>\n",
       "    </tr>\n",
       "    <tr>\n",
       "      <th>12</th>\n",
       "      <td>Mut_Rnd2_mCherry_neg</td>\n",
       "      <td>True</td>\n",
       "      <td>False</td>\n",
       "      <td>R2</td>\n",
       "      <td>/shared/ngs/illumina/bloom_lab/210917_M04866_0...</td>\n",
       "    </tr>\n",
       "    <tr>\n",
       "      <th>13</th>\n",
       "      <td>Mut_Rnd2_mCherry_pos</td>\n",
       "      <td>True</td>\n",
       "      <td>True</td>\n",
       "      <td>R2</td>\n",
       "      <td>/shared/ngs/illumina/bloom_lab/210917_M04866_0...</td>\n",
       "    </tr>\n",
       "    <tr>\n",
       "      <th>14</th>\n",
       "      <td>WT_Plasmid</td>\n",
       "      <td>None</td>\n",
       "      <td>None</td>\n",
       "      <td>R2</td>\n",
       "      <td>/shared/ngs/illumina/bloom_lab/210917_M04866_0...</td>\n",
       "    </tr>\n",
       "    <tr>\n",
       "      <th>15</th>\n",
       "      <td>Mut_Plasmid</td>\n",
       "      <td>None</td>\n",
       "      <td>None</td>\n",
       "      <td>R2</td>\n",
       "      <td>/shared/ngs/illumina/bloom_lab/210917_M04866_0...</td>\n",
       "    </tr>\n",
       "  </tbody>\n",
       "</table>\n",
       "</div>"
      ],
      "text/plain": [
       "             sample_name infected    IFN read  \\\n",
       "0          WT_NS5_Sample     True   None   R1   \n",
       "1         Mut_NS5_Sample     True   None   R1   \n",
       "2   Mut_Rnd1_mCherry_neg     True  False   R1   \n",
       "3   Mut_Rnd1_mCherry_pos     True   True   R1   \n",
       "4   Mut_Rnd2_mCherry_neg     True  False   R1   \n",
       "5   Mut_Rnd2_mCherry_pos     True   True   R1   \n",
       "6             WT_Plasmid     None   None   R1   \n",
       "7            Mut_Plasmid     None   None   R1   \n",
       "8          WT_NS5_Sample     True   None   R2   \n",
       "9         Mut_NS5_Sample     True   None   R2   \n",
       "10  Mut_Rnd1_mCherry_neg     True  False   R2   \n",
       "11  Mut_Rnd1_mCherry_pos     True   True   R2   \n",
       "12  Mut_Rnd2_mCherry_neg     True  False   R2   \n",
       "13  Mut_Rnd2_mCherry_pos     True   True   R2   \n",
       "14            WT_Plasmid     None   None   R2   \n",
       "15           Mut_Plasmid     None   None   R2   \n",
       "\n",
       "                                           fastq_file  \n",
       "0   /shared/ngs/illumina/bloom_lab/210917_M04866_0...  \n",
       "1   /shared/ngs/illumina/bloom_lab/210917_M04866_0...  \n",
       "2   /shared/ngs/illumina/bloom_lab/210917_M04866_0...  \n",
       "3   /shared/ngs/illumina/bloom_lab/210917_M04866_0...  \n",
       "4   /shared/ngs/illumina/bloom_lab/210917_M04866_0...  \n",
       "5   /shared/ngs/illumina/bloom_lab/210917_M04866_0...  \n",
       "6   /shared/ngs/illumina/bloom_lab/210917_M04866_0...  \n",
       "7   /shared/ngs/illumina/bloom_lab/210917_M04866_0...  \n",
       "8   /shared/ngs/illumina/bloom_lab/210917_M04866_0...  \n",
       "9   /shared/ngs/illumina/bloom_lab/210917_M04866_0...  \n",
       "10  /shared/ngs/illumina/bloom_lab/210917_M04866_0...  \n",
       "11  /shared/ngs/illumina/bloom_lab/210917_M04866_0...  \n",
       "12  /shared/ngs/illumina/bloom_lab/210917_M04866_0...  \n",
       "13  /shared/ngs/illumina/bloom_lab/210917_M04866_0...  \n",
       "14  /shared/ngs/illumina/bloom_lab/210917_M04866_0...  \n",
       "15  /shared/ngs/illumina/bloom_lab/210917_M04866_0...  "
      ]
     },
     "metadata": {},
     "output_type": "display_data"
    }
   ],
   "source": [
    "samples = pd.read_csv(samplesheet)\n",
    "display(samples)"
   ]
  },
  {
   "cell_type": "markdown",
   "metadata": {},
   "source": [
    "Load reference sequence"
   ]
  },
  {
   "cell_type": "code",
   "execution_count": 6,
   "metadata": {},
   "outputs": [
    {
     "name": "stdout",
     "output_type": "stream",
     "text": [
      "NS5\n",
      "CGTGGAGGTGGGACGGGAGAGACTCTGGGAGAGAAGTGGAAAGCTCGTCTGAATCAGATGTCGGCCCTGGAGTTCTACTCTTATAAAAAGTCAGGTATCACTGAAGTGTGTAGAGAGGAGGCTCGCCGTGCCCTCAAGGATGGAGTGGCCACAGGAGGACATGCCGTATCCCGGGGAAGTGCAAAGCTCAGATGGTTGGTGGAGAGAGGATATCTGCAGCCCTATGGGAAGGTTGTTGACCTCGGATGTGGCAGAGGGGGCTGGAGCTATTATGCCGCCACCATCCGCAAAGTGCAGGAGGTGAGAGGATACACAAAGGGAGGTCCCGGTCATGAAGAACCCATGCTGGTGCAAAGCTATGGGTGGAACATAGTTCGTCTCAAGAGTGGAGTGGACGTCTTCCACATGGCGGCTGAGCCGTGTGACACTCTGCTGTGTGACATAGGTGAGTCATCATCTAGTCCTGAAGTGGAAGAGACACGAACACTCAGAGTGCTCTCTATGGTGGGGGACTGGCTTGAAAAAAGACCAGGGGCCTTCTGTATAAAGGTGCTGTGCCCATACACCAGCACTATGATGGAAACCATGGAGCGACTGCAACGTAGGCATGGGGGAGGATTAGTCAGAGTGCCATTGTCTCGCAACTCCACACATGAGATGTACTGGGTCTCTGGGGCAAAGAGCAACATCATAAAAAGTGTGTCCACCACAAGTCAGCTCCTCCTGGGACGCATGGATGGCCCCAGGAGGCCAGTGAAATATGAGGAGGATGTGAACCTCGGCTCGGGTACACGAGCTGTGGCAAGCTGTGCTGAGGCTCCTAACATGAAAATCATCGGCAGGCGCATTGAGAGAATCCGCAATGAACATGCAGAAACATGGTTTCTTGATGAAAACCACCCATACAGGACATGGGCCTACCATGGGAGCTACGAAGCCCCCACGCAAGGATCAGCGTCTTCCCTCGTGAACGGGGTTGTTAGACTCCTGTCAAAGCCTTGGGACGTGGTGACTGGAGTTACAGGAATAGCCATGACTGACACCACACCATACGGCCAACAAAGAGTCTTCAAAGAAAAAGTGGACACCAGGGTGCCAGATCCCCAAGAAGGCACTCGCCAGGTAATGAACATAGTCTCTTCCTGGCTGTGGAAGGAGCTGGGGAAACGCAAGCGGCCACGCGTCTGCACCAAAGAAGAGTTTATCAACAAGGTGCGCAGCAATGCAGCACTGGGAGCAATATTTGAAGAGGAAAAAGAATGGAAGACGGCTGTGGAAGCTGTGAATGATCCAAGGTTTTGGGCCCTAGTGGATAGGGAGAGAGAACACCACCTGAGAGGAGAGTGTCACAGCTGTGTGTACAACATGATGGGAAAAAGAGAAAAGAAGCAAGGAGAGTTCGGGAAAGCAAAAGGTAGCCGCGCCATCTGGTACATGTGGTTGGGAGCCAGATTCTTGGAGTTTGAAGCTCTTGGATTCTTGAACGAGGACCATTGGATGGGAAGAGAAAACTCAGGAGGTGGAGTCGAAGGGTTAGGATTGCAAAGACTTGGATACATTCTAGAAGAAATGAATCGGGCACCAGGAGGAAAGATGTACGCAGATGACACTGCTGGCTGGGACACCCGCATTAGTAAGTTTGATCTGGAGAATGAAGCTCTGATTACCAACCAAATGGAGGAAGGGCACAGAACTCTGGCGTTGGCCGTGATTAAATACACATACCAAAACAAAGTGGTGAAGGTTCTCAGACCAGCTGAAGGAGGAAAAACAGTTATGGACATCATTTCAAGACAAGACCAGAGAGGGAGTGGACAAGTTGTCACTTATGCTCTCAACACATTCACCAACTTGGTGGTGCAGCTTATCCGGAACATGGAAGCTGAGGAAGTGTTAGAGATGCAAGACTTATGGTTGTTGAGGAAGCCAGAGAAAGTGACCAGATGGTTGCAGAGCAATGGATGGGATAGACTCAAACGAATGGCGGTCAGTGGAGATGACTGCGTTGTGAAGCCAATCGATGATAGGTTTGCACATGCCCTCAGGTTCTTGAATGACATGGGAAAAGTTAGGAAAGACACACAGGAGTGGAAACCCTCGACTGGATGGAGCAATTGGGAAGAAGTCCCGTTCTGCTCCCACCACTTCAACAAGCTGTACCTCAAGGATGGGAGATCCATTGTGGTCCCTTGCCGCCACCAAGATGAACTGATTGGCCGAGCTCGCGTCTCACCAGGGGCAGGATGGAGCATCCGGGAGACTGCCTGTCTTGCAAAATCATATGCGCAGATGTGGCAGCTCCTTTATTTCCACAGAAGAGACCTTCGACTGATGGCTAATGCCATTTGCTCGGCTGTGCCAGTTGACTGGGTACCAACTGGGAGAACCACCTGGTCAATCCATGGAAAGGGAGAATGGATGACCACTGAGGACATGCTCATGGTGTGGAATAGAGTGTGGATTGAGGAGAACGACCATATGGAGGACAAGACTCCTGTAACAAAATGGACAGACATTCCCTATCTAGGAAAAAGGGAGGACTTATGGTGTGGATCCCTTATAGGGCACAGACCCCGCACCACTTGGGCTGAAAACATCAAAGACACAGTCAACATGGTGCGCAGGATCATAGGTGATGAAGAAAAGTACATGGACTATCTATCCACCCAAGTCCGCTACTTGGGTGAGGAAGGGTCCACACCCGGAGTGTTGTAA\n"
     ]
    }
   ],
   "source": [
    "reference = SeqIO.read(reference_file, 'fasta')\n",
    "print(reference.id)\n",
    "print(reference.seq)"
   ]
  },
  {
   "cell_type": "markdown",
   "metadata": {},
   "source": [
    "### Parse codon sequence\n",
    "If codons file is present, open codon counts.\n",
    "\n",
    "Otherwise, parse codons from FASTQ files listed in samplesheet."
   ]
  },
  {
   "cell_type": "markdown",
   "metadata": {},
   "source": [
    "Open codons file if present"
   ]
  },
  {
   "cell_type": "code",
   "execution_count": null,
   "metadata": {},
   "outputs": [
    {
     "name": "stdout",
     "output_type": "stream",
     "text": [
      "Loading results from codons_parsed.csv.gz\n"
     ]
    }
   ],
   "source": [
    "if os.path.isfile(codons_file):\n",
    "    print(f'Loading results from {codons_file}')\n",
    "    results = pd.read_csv(codons_file)\n",
    "    print('Done.')\n",
    "else:\n",
    "    pass"
   ]
  },
  {
   "cell_type": "markdown",
   "metadata": {},
   "source": [
    "Extract sequences upstream and downstream of codon"
   ]
  },
  {
   "cell_type": "code",
   "execution_count": null,
   "metadata": {},
   "outputs": [],
   "source": [
    "# feature positions in reference sequence\n",
    "codon_end = codon_start + 2\n",
    "upstream_start = codon_start - upstream_length\n",
    "upstream_end = codon_start - 1\n",
    "downstream_start = codon_end + 1\n",
    "downstream_end = codon_end + downstream_length\n",
    "\n",
    "# feature values\n",
    "# python indexing is not inclusive of first coordinate, so\n",
    "# all start positions are adjusted by -1\n",
    "codon_reference = reference.seq[(codon_start-1):codon_end]\n",
    "upstream = reference.seq[(upstream_start-1):upstream_end]\n",
    "downstream = reference.seq[(downstream_start-1):downstream_end]\n",
    "\n",
    "# print\n",
    "print(f'The codon starts at position {codon_start} and '\n",
    "      f'ends at position {codon_end} in the reference.')\n",
    "print(f'The WT codon sequence in the reference is: {codon_reference}\\n')\n",
    "print(f'The upstream search sequence starts at position {upstream_start} '\n",
    "      f'and ends at position {upstream_end} in the reference.')\n",
    "print(f'The upstream search sequence is: {upstream}\\n')\n",
    "print(f'The downstream search sequence starts at position {downstream_start} '\n",
    "      f'and ends at position {downstream_end} in the reference.')\n",
    "print(f'The downstream search sequence is: {downstream}')"
   ]
  },
  {
   "cell_type": "markdown",
   "metadata": {},
   "source": [
    "Build regex search"
   ]
  },
  {
   "cell_type": "code",
   "execution_count": null,
   "metadata": {},
   "outputs": [],
   "source": [
    "pattern = (f'(?:{upstream}){{e<={mismatches}}}' +  # match upstream\n",
    "              f'([{nucleotides_allowed}]{{3}})' +  # match and capture codon\n",
    "              f'(?:{downstream}){{e<={mismatches}}}')  # match downstream\n",
    "print(f'The search pattern for will be:\\n{pattern}')"
   ]
  },
  {
   "cell_type": "markdown",
   "metadata": {},
   "source": [
    "Iterate through reads and store codons:"
   ]
  },
  {
   "cell_type": "code",
   "execution_count": null,
   "metadata": {},
   "outputs": [],
   "source": [
    "if os.path.isfile(codons_file):\n",
    "    pass\n",
    "else:\n",
    "    results = list()\n",
    "\n",
    "    for index, sample in samples.iterrows():\n",
    "        assert sample['read'] in ['R1', 'R2'], \"unrecognized read\"\n",
    "        with gzip.open(sample['fastq_file'], mode='rt') as handle:\n",
    "            print(f'Parsing data for {sample[\"sample_name\"]} {sample[\"read\"]}')\n",
    "            print(f'File is:  {sample[\"fastq_file\"]}')\n",
    "            seqs = SeqIO.parse(handle, 'fastq')\n",
    "            for sequence in seqs:\n",
    "                if(sample['read'] == 'R1'):\n",
    "                    search_seq = sequence.seq\n",
    "                elif(sample['read'] == 'R2'):\n",
    "                    search_seq = sequence.seq.reverse_complement()\n",
    "                result = regex.search(pattern, str(search_seq))\n",
    "                if result == None:\n",
    "                    match = 'failed_parse'\n",
    "                    codon = 'failed_parse'\n",
    "                else:\n",
    "                    match = result.group(0)\n",
    "                    codon = result.group(1)\n",
    "                results.append((sample['sample_name'],\n",
    "                                sample['read'],\n",
    "                                sequence.id,\n",
    "                                match,\n",
    "                                codon))\n",
    "            print('\\n')\n",
    "\n",
    "    results = pd.DataFrame(results)\n",
    "    results.columns = ['sample_name','read','read_id','match_string','codon']\n",
    "    print(f'Saving results to {codons_file}')\n",
    "    results.to_csv(codons_file, index=False)"
   ]
  },
  {
   "cell_type": "code",
   "execution_count": null,
   "metadata": {},
   "outputs": [],
   "source": [
    "display(results)"
   ]
  },
  {
   "cell_type": "markdown",
   "metadata": {},
   "source": [
    "### Quality control"
   ]
  },
  {
   "cell_type": "markdown",
   "metadata": {},
   "source": [
    "Plot number of reads with codon successfully parsed per sample"
   ]
  },
  {
   "cell_type": "code",
   "execution_count": null,
   "metadata": {},
   "outputs": [],
   "source": [
    "parsing_qc = (p9.ggplot(results) +\n",
    "              p9.aes(x='sample_name',\n",
    "                     fill='codon != \"failed_parse\"') +\n",
    "              p9.geom_bar(stat='count') +\n",
    "              p9.facet_grid('read~') +\n",
    "              p9.ggtitle('Codon parsing') +\n",
    "              p9.labs(x='sample',\n",
    "                      y='reads',\n",
    "                      fill='codon successfully parsed') +\n",
    "              p9.theme(figure_size=(0.5*samples['sample_name'].nunique(), \n",
    "                                    1.5*samples['read'].nunique()),\n",
    "                       plot_title=p9.element_text(size=11),\n",
    "                       axis_title=p9.element_text(size=10),\n",
    "                       axis_text_x=p9.element_text(rotation=45, hjust=1),\n",
    "                       legend_position='right',\n",
    "                       legend_title=p9.element_text(size=10),\n",
    "                       legend_title_align='center') +\n",
    "              p9.scale_fill_manual(CBPALETTE_RICH[0:])\n",
    "              )\n",
    "\n",
    "display(parsing_qc)"
   ]
  },
  {
   "cell_type": "markdown",
   "metadata": {},
   "source": [
    "Pair reads by read_id"
   ]
  },
  {
   "cell_type": "code",
   "execution_count": null,
   "metadata": {},
   "outputs": [],
   "source": [
    "results_pairs = (\n",
    "    results\n",
    "    .pivot(index=['sample_name','read_id'], columns='read', values='codon')\n",
    "    .reset_index())\n",
    "\n",
    "#  Check for missing mate\n",
    "results_pairs['missing_mate'] = (\n",
    "    results_pairs['R1'].isnull() | results_pairs['R2'].isnull()\n",
    ")\n",
    "\n",
    "#  Check for mismatch\n",
    "results_pairs['pair_mismatch'] = (\n",
    "    results_pairs['R1'] != results_pairs['R2']\n",
    ")\n",
    "\n",
    "display(results_pairs)"
   ]
  },
  {
   "cell_type": "markdown",
   "metadata": {},
   "source": [
    "Plot missing mates"
   ]
  },
  {
   "cell_type": "code",
   "execution_count": null,
   "metadata": {},
   "outputs": [],
   "source": [
    "mate_pair_qc = (p9.ggplot(results_pairs) +\n",
    "              p9.aes(x='sample_name',\n",
    "                     fill='missing_mate') +\n",
    "              p9.geom_bar(stat='count') +\n",
    "              p9.ggtitle('Missing read mate pairs') +\n",
    "              p9.labs(x='sample',\n",
    "                      y='reads',\n",
    "                      fill='missing mate pair') +\n",
    "              p9.theme(figure_size=(0.5*samples['sample_name'].nunique(), \n",
    "                                    1.5*samples['read'].nunique()),\n",
    "                       plot_title=p9.element_text(size=11),\n",
    "                       axis_title=p9.element_text(size=10),\n",
    "                       axis_text_x=p9.element_text(rotation=45, hjust=1),\n",
    "                       legend_position='right',\n",
    "                       legend_title=p9.element_text(size=10),\n",
    "                       legend_title_align='center') +\n",
    "              p9.scale_fill_manual(CBPALETTE_RICH[0:])\n",
    "              )\n",
    "\n",
    "display(mate_pair_qc)"
   ]
  },
  {
   "cell_type": "markdown",
   "metadata": {},
   "source": [
    "Plot mismatched codon values from paired reads"
   ]
  },
  {
   "cell_type": "code",
   "execution_count": null,
   "metadata": {},
   "outputs": [],
   "source": [
    "mismatched_pairs_qc = (p9.ggplot(results_pairs) +\n",
    "              p9.aes(x='sample_name',\n",
    "                     fill='pair_mismatch') +\n",
    "              p9.geom_bar(stat='count') +\n",
    "              p9.ggtitle('Mismatched codon in read mate pairs') +\n",
    "              p9.labs(x='sample',\n",
    "                      y='reads',\n",
    "                      fill='mismatched mate pair') +\n",
    "              p9.theme(figure_size=(0.5*samples['sample_name'].nunique(), \n",
    "                                    1.5*samples['read'].nunique()),\n",
    "                       plot_title=p9.element_text(size=11),\n",
    "                       axis_title=p9.element_text(size=10),\n",
    "                       axis_text_x=p9.element_text(rotation=45, hjust=1),\n",
    "                       legend_position='right',\n",
    "                       legend_title=p9.element_text(size=10),\n",
    "                       legend_title_align='center') +\n",
    "              p9.scale_fill_manual(CBPALETTE_RICH[0:])\n",
    "              )\n",
    "\n",
    "display(mismatched_pairs_qc)"
   ]
  },
  {
   "cell_type": "markdown",
   "metadata": {},
   "source": [
    "### Error rate\n",
    "Calculate the error rate for this system. Simply calculate the fraction of reads that are *not WT* for samples expected to be 100% WT.\n"
   ]
  },
  {
   "cell_type": "markdown",
   "metadata": {},
   "source": [
    "Label WT codons"
   ]
  },
  {
   "cell_type": "code",
   "execution_count": null,
   "metadata": {},
   "outputs": [],
   "source": [
    "results['wt'] = (results['codon'] == 'GAT')\n",
    "display(results)"
   ]
  },
  {
   "cell_type": "markdown",
   "metadata": {},
   "source": [
    "WT vs mutant codons"
   ]
  },
  {
   "cell_type": "code",
   "execution_count": null,
   "metadata": {},
   "outputs": [],
   "source": [
    "wt_counts = (p9.ggplot(results) +\n",
    "              p9.aes(x='sample_name',\n",
    "                     fill='wt') +\n",
    "              p9.geom_bar(stat='count') +\n",
    "              p9.ggtitle('WT Codon counts') +\n",
    "              p9.labs(x='sample',\n",
    "                      y='reads',\n",
    "                      fill='WT Codon') +\n",
    "              p9.theme(figure_size=(0.5*samples['sample_name'].nunique(), \n",
    "                                    1.5*samples['read'].nunique()),\n",
    "                       plot_title=p9.element_text(size=11),\n",
    "                       axis_title=p9.element_text(size=10),\n",
    "                       axis_text_x=p9.element_text(rotation=45, hjust=1),\n",
    "                       legend_position='right',\n",
    "                       legend_title=p9.element_text(size=10),\n",
    "                       legend_title_align='center') +\n",
    "              p9.scale_fill_manual(CBPALETTE_RICH[0:])\n",
    "              )\n",
    "\n",
    "display(wt_counts)"
   ]
  },
  {
   "cell_type": "code",
   "execution_count": null,
   "metadata": {},
   "outputs": [],
   "source": [
    "wt_freq = (\n",
    "    results\n",
    "    .query('sample_name.str.contains(\"WT\")', engine='python')\n",
    "    .groupby('sample_name')\n",
    "    ['wt']\n",
    "    .value_counts(normalize=True)\n",
    "    .reset_index(name='wt_frac')\n",
    ")\n",
    "\n",
    "print('The error rate observed in WT samples is:')\n",
    "display(wt_freq.query('wt == False'))"
   ]
  },
  {
   "cell_type": "markdown",
   "metadata": {},
   "source": [
    "### Filter data\n",
    "Filter the data based on the QC metrics above."
   ]
  },
  {
   "cell_type": "code",
   "execution_count": null,
   "metadata": {},
   "outputs": [],
   "source": [
    "results_filtered = (\n",
    "    results_pairs\n",
    "    .query(\n",
    "        'missing_mate == False & '\n",
    "        'pair_mismatch == False & '\n",
    "        'R1 != \"failed_parse\" & '\n",
    "        'R2 != \"failed_parse\"')\n",
    "    [['sample_name', 'read_id', 'R1']]\n",
    "    .rename(columns={'R1': 'codon'})\n",
    ")\n",
    "\n",
    "display(results_filtered)"
   ]
  },
  {
   "cell_type": "markdown",
   "metadata": {},
   "source": [
    "#### Restrict analysis to codons designed to be in library\n",
    "\n",
    "Only 21 codons (of 64 possible) were designed to be included in the `Mut_Plasmid` library. Restrict the analysis to these codons."
   ]
  },
  {
   "cell_type": "code",
   "execution_count": null,
   "metadata": {},
   "outputs": [],
   "source": [
    "permitted_codons = pd.read_csv(permitted_codons_file, squeeze=True, header=None).values.tolist()\n",
    "assert len(permitted_codons) == 21, \\\n",
    "    \"Length of codons does not match library size\"\n",
    "display(permitted_codons)"
   ]
  },
  {
   "cell_type": "code",
   "execution_count": null,
   "metadata": {},
   "outputs": [],
   "source": [
    "boolean_filter = results_filtered['codon'].isin(permitted_codons)\n",
    "results_filtered = results_filtered[boolean_filter]\n",
    "assert results_filtered['codon'].isin(permitted_codons).all(), \\\n",
    "    \"Codons not in original library\"\n",
    "display(results_filtered)"
   ]
  },
  {
   "cell_type": "markdown",
   "metadata": {},
   "source": [
    "### Plot codon counts"
   ]
  },
  {
   "cell_type": "markdown",
   "metadata": {},
   "source": [
    "Count codons in each sample"
   ]
  },
  {
   "cell_type": "code",
   "execution_count": null,
   "metadata": {},
   "outputs": [],
   "source": [
    "codon_counts = (\n",
    "    results_filtered\n",
    "    .groupby(['sample_name'])\n",
    "    ['codon']\n",
    "    .value_counts()\n",
    "    .reset_index(name='count')\n",
    ")\n",
    "\n",
    "counts_per_sample = (\n",
    "    codon_counts\n",
    "    .groupby('sample_name')\n",
    "    ['count']\n",
    "    .sum()\n",
    "    .reset_index(name='sample_total')\n",
    ")\n",
    "\n",
    "codon_counts = pd.merge(\n",
    "    left=codon_counts,\n",
    "    right=counts_per_sample,\n",
    "    on='sample_name',\n",
    "    how='left',\n",
    "    validate='many_to_one'\n",
    ")\n",
    "\n",
    "codon_counts['frequency'] = (\n",
    "    codon_counts['count'] / codon_counts['sample_total']\n",
    ")\n",
    "\n",
    "display(codon_counts)"
   ]
  },
  {
   "cell_type": "markdown",
   "metadata": {},
   "source": [
    "Translate codons to amino acids"
   ]
  },
  {
   "cell_type": "code",
   "execution_count": null,
   "metadata": {},
   "outputs": [],
   "source": [
    "codon_lookup_table = pd.read_csv(codon_lookup_file)\n",
    "display(codon_lookup_table)\n",
    "\n",
    "codon_counts = pd.merge(\n",
    "    left=codon_counts,\n",
    "    right=codon_lookup_table[['codon', 'letter']],\n",
    "    on='codon',\n",
    "    how='left',\n",
    "    validate='many_to_one'\n",
    ")\n",
    "\n",
    "display(codon_counts)"
   ]
  },
  {
   "cell_type": "markdown",
   "metadata": {},
   "source": [
    "Export filtered codon counts to CSV"
   ]
  },
  {
   "cell_type": "code",
   "execution_count": null,
   "metadata": {},
   "outputs": [],
   "source": [
    "print(f'Saving counts to {codon_counts_file}')\n",
    "codon_counts.to_csv(codon_counts_file, index=False)"
   ]
  },
  {
   "cell_type": "markdown",
   "metadata": {},
   "source": [
    "### Plot codon counts and frequencies by sample"
   ]
  },
  {
   "cell_type": "code",
   "execution_count": null,
   "metadata": {},
   "outputs": [],
   "source": [
    "codon_counts_plot = (p9.ggplot(codon_counts) +\n",
    "                p9.aes(x='codon',\n",
    "                       y='count') +\n",
    "                p9.geom_bar(stat='identity') +\n",
    "                p9.facet_grid('sample_name~', scales='free_y') +\n",
    "                p9.ggtitle('Codon counts') +\n",
    "                p9.labs(x='codon',\n",
    "                        y='reads') +\n",
    "                p9.theme(figure_size=(9, 5),\n",
    "                         plot_title=p9.element_text(size=11),\n",
    "                         axis_title=p9.element_text(size=10),\n",
    "                         axis_text_x=p9.element_text(size=8, rotation=90),\n",
    "                         axis_text_y=p9.element_text(size=8),\n",
    "                         strip_text_y=p9.element_text(size=8,angle=0, ha='left'),\n",
    "                         strip_background_y=p9.element_text(width=0.22))\n",
    "               )\n",
    "\n",
    "display(codon_counts_plot)"
   ]
  },
  {
   "cell_type": "markdown",
   "metadata": {},
   "source": [
    "Plot relative ratio of codons in mutant plasmid pool and mutant cell population"
   ]
  },
  {
   "cell_type": "code",
   "execution_count": null,
   "metadata": {},
   "outputs": [],
   "source": [
    "mut_codon_freqs = (\n",
    "    results_filtered\n",
    "    .query('(codon != \"failed_parse\") and '\n",
    "           '(sample_name == \"Mut_NS5_Sample\" or '\n",
    "           'sample_name == \"Mut_Plasmid\")')\n",
    "    .groupby('sample_name')\n",
    "    ['codon']\n",
    "    .value_counts(normalize=True)\n",
    "    .reset_index(name='frequency')\n",
    ")"
   ]
  },
  {
   "cell_type": "code",
   "execution_count": null,
   "metadata": {},
   "outputs": [],
   "source": [
    "mut_codon_freqs_plot = (p9.ggplot(mut_codon_freqs) +\n",
    "                p9.aes(x='codon',\n",
    "                       y='frequency') +\n",
    "                p9.geom_bar(stat='identity') +\n",
    "                p9.facet_grid('sample_name~', scales='free_y') +\n",
    "                p9.ggtitle('Codon frequencies') +\n",
    "                p9.labs(x='codon',\n",
    "                        y='frequency') +\n",
    "                p9.theme(figure_size=(6, 2),\n",
    "                         plot_title=p9.element_text(size=10),\n",
    "                         axis_title=p9.element_text(size=9),\n",
    "                         axis_text_x=p9.element_text(size=8, rotation=90),\n",
    "                         axis_text_y=p9.element_text(size=8),\n",
    "                         strip_text_y=p9.element_text(size=8,angle=0, ha='left'),\n",
    "                         strip_background_y=p9.element_text(width=0.25))\n",
    "               )\n",
    "\n",
    "mut_codon_freqs_plot"
   ]
  },
  {
   "cell_type": "markdown",
   "metadata": {},
   "source": [
    "### Enrichment calculation function\n",
    "\n",
    "To calculate enrichment, I will follow some of the general principals used to calculate [DMS amino acid preferences](https://jbloomlab.github.io/dms_tools2/prefs.html#prefs).\n",
    "\n",
    "Conceptually, I am calculating the ratio of codon frequency in the selected condition compared to codon frequency in the reference condition. I add a pseudocount to accomodate missing codons in one of the two conditions. I take the log2 of the ratio.\n",
    "\n",
    "**I am not normalizing codon frequency to the WT codon**, because I want to detect and display strong enrichment of the WT codon in the selected condition.\n",
    "\n",
    "```Enrichment = log2( ((codon_count_selected + pseudocount) / (total_codon_count_selected)) /  \n",
    "                   ((codon_count_reference + pseudocount) / (total_codon_count_reference)) )```"
   ]
  },
  {
   "cell_type": "code",
   "execution_count": null,
   "metadata": {},
   "outputs": [],
   "source": [
    "def calculate_enrichment(selected_sample,\n",
    "                         reference_sample=\"Mut_NS5_Sample\",\n",
    "                         pseudocount=0.1):\n",
    "    selected_freqs = (codon_counts\n",
    "                      .query(f'sample_name == \"{selected_sample}\"')\n",
    "                      [['codon', 'letter', 'count']])\n",
    "    selected_freqs['count_pseudo'] = selected_freqs['count'] + pseudocount\n",
    "    selected_total = float(selected_freqs['count_pseudo'].sum())\n",
    "    \n",
    "    reference_freqs = (codon_counts\n",
    "                       .query(f'sample_name == \"{reference_sample}\"')\n",
    "                       [['codon', 'letter', 'count']])\n",
    "    reference_freqs['count_pseudo'] = reference_freqs['count'] + pseudocount\n",
    "    reference_total = float(reference_freqs['count_pseudo'].sum())\n",
    "    \n",
    "    enrichment_df = pd.merge(\n",
    "        left=selected_freqs,\n",
    "        right=reference_freqs,\n",
    "        on=['codon', 'letter'],\n",
    "        how='outer',\n",
    "        validate='one_to_one',\n",
    "        suffixes=['_selected','_reference'])\n",
    "    enrichment_df['count_pseudo_selected'] = (enrichment_df['count_pseudo_selected']\n",
    "                                              .fillna(pseudocount))\n",
    "    enrichment_df['count_pseudo_reference'] = (enrichment_df['count_pseudo_reference']\n",
    "                                              .fillna(pseudocount))\n",
    "    \n",
    "    enrichment_df['enrichment'] = (\n",
    "        np.log2((enrichment_df['count_pseudo_selected'] / selected_total) /\n",
    "                (enrichment_df['count_pseudo_reference'] / reference_total)))\n",
    "    \n",
    "    return(enrichment_df)"
   ]
  },
  {
   "cell_type": "markdown",
   "metadata": {},
   "source": [
    "### Experiment Results\n",
    "\n",
    "#### Codon tolerance\n",
    "\n",
    "Calculate the enrichment of codons in the integrated cell popuation (\"Mut_NS5_Sample\") compared to the plasmid library (\"Mut_Plasmid\"). This should give an indication of how codons are tolerated when integrated into these cells."
   ]
  },
  {
   "cell_type": "code",
   "execution_count": null,
   "metadata": {},
   "outputs": [],
   "source": [
    "tolerance = calculate_enrichment(selected_sample='Mut_NS5_Sample',\n",
    "                                 reference_sample='Mut_Plasmid')\n",
    "display(tolerance)\n",
    "\n",
    "tolerance_plot = (p9.ggplot(tolerance) +\n",
    "                p9.aes(x='codon',\n",
    "                       y='enrichment') +\n",
    "                p9.geom_bar(stat='identity') +\n",
    "                p9.ggtitle('Codon tolerance:\\n'\n",
    "                           f'Mut_NS5_Sample v Mut_Plasmid') +\n",
    "                p9.labs(x='codon',\n",
    "                        y='enrichment') +\n",
    "                p9.theme(figure_size=(6, 2),\n",
    "                         plot_title=p9.element_text(size=10),\n",
    "                         axis_title=p9.element_text(size=9),\n",
    "                         axis_text_x=p9.element_text(size=8, rotation=90),\n",
    "                         axis_text_y=p9.element_text(size=8))\n",
    "               )\n",
    "\n",
    "display(tolerance_plot)\n",
    "\n",
    "tolerance_file = 'results/tolerance.csv'\n",
    "print(f'Saving tolerance data to {tolerance_file}')\n",
    "tolerance.to_csv(tolerance_file, index=False)\n",
    "print('Done.')"
   ]
  },
  {
   "cell_type": "markdown",
   "metadata": {},
   "source": [
    "#### IFN antagonism\n",
    "\n",
    "**Rnd1 IFN- population (\"Mut_Rnd1_mCherry_neg\")**  \n",
    "Calculate codon enrichment in the population of NS5-expressing cells that successfully antagonize IFN.  \n"
   ]
  },
  {
   "cell_type": "code",
   "execution_count": null,
   "metadata": {},
   "outputs": [],
   "source": [
    "selected_pop = \"Mut_Rnd1_mCherry_neg\"\n",
    "\n",
    "Rnd1_IFN_neg_enrichment = calculate_enrichment(selected_pop)\n",
    "display(Rnd1_IFN_neg_enrichment)\n",
    "\n",
    "Rnd1_IFN_neg_plot = (p9.ggplot(Rnd1_IFN_neg_enrichment) +\n",
    "                p9.aes(x='codon',\n",
    "                       y='enrichment') +\n",
    "                p9.geom_bar(stat='identity') +\n",
    "                p9.ggtitle('Enrichment:\\n'\n",
    "                           f'{selected_pop} v Mut_NS5_Sample') +\n",
    "                p9.labs(x='codon',\n",
    "                        y='enrichment') +\n",
    "                p9.theme(figure_size=(6, 2),\n",
    "                         plot_title=p9.element_text(size=10),\n",
    "                         axis_title=p9.element_text(size=9),\n",
    "                         axis_text_x=p9.element_text(size=8, rotation=90),\n",
    "                         axis_text_y=p9.element_text(size=8))\n",
    "               )\n",
    "\n",
    "display(Rnd1_IFN_neg_plot)\n",
    "\n",
    "Rnd1_IFN_neg_file = 'results/enrichment_Rnd1_IFN_neg.csv'\n",
    "print(f'Saving tolerance data to {Rnd1_IFN_neg_file}')\n",
    "tolerance.to_csv(Rnd1_IFN_neg_file, index=False)\n",
    "print('Done.')"
   ]
  },
  {
   "cell_type": "markdown",
   "metadata": {},
   "source": [
    "**Rnd2 IFN- population (\"Mut_Rnd2_mCherry_neg\")**  \n",
    "Calculate codon enrichment in the population of NS5-expressing cells that successfully antagonize IFN.  "
   ]
  },
  {
   "cell_type": "code",
   "execution_count": null,
   "metadata": {},
   "outputs": [],
   "source": [
    "selected_pop = \"Mut_Rnd2_mCherry_neg\"\n",
    "\n",
    "Rnd2_IFN_neg_enrichment = calculate_enrichment(selected_pop)\n",
    "display(Rnd2_IFN_neg_enrichment)\n",
    "\n",
    "Rnd2_IFN_neg_plot = (p9.ggplot(Rnd2_IFN_neg_enrichment) +\n",
    "                p9.aes(x='codon',\n",
    "                       y='enrichment') +\n",
    "                p9.geom_bar(stat='identity') +\n",
    "                p9.ggtitle('Enrichment:\\n'\n",
    "                           f'{selected_pop} v Mut_NS5_Sample') +\n",
    "                p9.labs(x='codon',\n",
    "                        y='enrichment') +\n",
    "                p9.theme(figure_size=(6, 2),\n",
    "                         plot_title=p9.element_text(size=10),\n",
    "                         axis_title=p9.element_text(size=9),\n",
    "                         axis_text_x=p9.element_text(size=8, rotation=90),\n",
    "                         axis_text_y=p9.element_text(size=8))\n",
    "               )\n",
    "\n",
    "display(Rnd2_IFN_neg_plot)"
   ]
  },
  {
   "cell_type": "markdown",
   "metadata": {},
   "source": [
    "**Single round vs two rounds of selection**  \n",
    "Do the results differe if the cell population is sorted once, or sorted and then sorted again?"
   ]
  },
  {
   "cell_type": "code",
   "execution_count": null,
   "metadata": {},
   "outputs": [],
   "source": [
    "corr_two_rounds = pd.merge(\n",
    "    left=Rnd1_IFN_neg_enrichment[['codon','enrichment']],\n",
    "    right=Rnd2_IFN_neg_enrichment[['codon','enrichment']],\n",
    "    on='codon',\n",
    "    how='outer',\n",
    "    validate='one_to_one',\n",
    "    suffixes=['_Rnd1', '_Rnd2']\n",
    ")\n",
    "display(corr_two_rounds)\n",
    "\n",
    "corr_plot = (p9.ggplot(corr_two_rounds) +\n",
    "              p9.aes(x='enrichment_Rnd1',\n",
    "                     y='enrichment_Rnd2') +\n",
    "              p9.geom_point(alpha=0.75) +\n",
    "              p9.ggtitle('Correlation between 1 and 2 rounds of flow sorting') +\n",
    "              p9.labs(x='1 round of flow sorting',\n",
    "                      y='2 rounds of flow sorting') +\n",
    "              p9.theme(figure_size=(3,3),\n",
    "                       plot_title=p9.element_text(size=10),\n",
    "                       axis_title=p9.element_text(size=9),\n",
    "                       axis_text_x=p9.element_text(rotation=45, hjust=1),\n",
    "                       legend_position='right',\n",
    "                       legend_title=p9.element_text(size=10),\n",
    "                       legend_title_align='center')\n",
    "              )\n",
    "\n",
    "display(corr_plot)"
   ]
  },
  {
   "cell_type": "markdown",
   "metadata": {},
   "source": [
    "**Failed agonist codons  \n",
    "Rnd1 IFN+ population (\"Mut_Rnd1_mCherry_pos\")**  \n",
    "What does the population that expresses NS5 mutants but still expresses IFN look like?  \n",
    "Calculate codon enrichment in the population of NS5-expressing cells that **fail to antagonize IFN**.  "
   ]
  },
  {
   "cell_type": "code",
   "execution_count": null,
   "metadata": {
    "scrolled": true
   },
   "outputs": [],
   "source": [
    "selected_pop = \"Mut_Rnd1_mCherry_pos\"\n",
    "\n",
    "Rnd1_IFN_pos_enrichment = calculate_enrichment(selected_pop)\n",
    "display(Rnd1_IFN_pos_enrichment)\n",
    "\n",
    "Rnd1_IFN_pos_plot = (p9.ggplot(Rnd1_IFN_pos_enrichment) +\n",
    "                p9.aes(x='codon',\n",
    "                       y='enrichment') +\n",
    "                p9.geom_bar(stat='identity') +\n",
    "                p9.ggtitle('Enrichment:\\n'\n",
    "                           f'{selected_pop} v Mut_NS5_Sample') +\n",
    "                p9.labs(x='codon',\n",
    "                        y='enrichment') +\n",
    "                p9.theme(figure_size=(6, 2),\n",
    "                         plot_title=p9.element_text(size=10),\n",
    "                         axis_title=p9.element_text(size=9),\n",
    "                         axis_text_x=p9.element_text(size=8, rotation=90),\n",
    "                         axis_text_y=p9.element_text(size=8))\n",
    "               )\n",
    "\n",
    "display(Rnd1_IFN_pos_plot)"
   ]
  },
  {
   "cell_type": "markdown",
   "metadata": {},
   "source": [
    "**Correlation between IFN+ and IFN- populations**  \n",
    "Are certain codons enriched through the act of sorting and passaging cells, independent of IFN antagonism?"
   ]
  },
  {
   "cell_type": "code",
   "execution_count": null,
   "metadata": {},
   "outputs": [],
   "source": [
    "Rnd1_pos_neg = pd.merge(\n",
    "    left=Rnd1_IFN_neg_enrichment[['codon','enrichment']],\n",
    "    right=Rnd1_IFN_pos_enrichment[['codon','enrichment']],\n",
    "    on='codon',\n",
    "    how='outer',\n",
    "    validate='one_to_one',\n",
    "    suffixes=['_IFN_neg', '_IFN_pos']\n",
    ")\n",
    "display(Rnd1_pos_neg)\n",
    "\n",
    "Rnd1_pos_neg_plot = (p9.ggplot(Rnd1_pos_neg) +\n",
    "              p9.aes(x='enrichment_IFN_neg',\n",
    "                     y='enrichment_IFN_pos') +\n",
    "              p9.geom_point(alpha=0.75) +\n",
    "              p9.ggtitle('Correlation between IFN neg and IFN pos Rnd1 populations') +\n",
    "              p9.labs(x='IFN_neg population',\n",
    "                      y='IFN_pos population') +\n",
    "              p9.theme(figure_size=(3,3),\n",
    "                       plot_title=p9.element_text(size=11),\n",
    "                       axis_title=p9.element_text(size=10),\n",
    "                       axis_text_x=p9.element_text(rotation=45, hjust=1),\n",
    "                       legend_position='right',\n",
    "                       legend_title=p9.element_text(size=10),\n",
    "                       legend_title_align='center')\n",
    "              )\n",
    "\n",
    "display(Rnd1_pos_neg_plot)"
   ]
  },
  {
   "cell_type": "markdown",
   "metadata": {},
   "source": [
    "## Comparison to STAT2 antagonism luciferase assay\n",
    "Each of these amino acids has previously been tested for ability to antagonize STAT2 in a luciferase assay. How do the sequencing-based enrichment scores correlate with the luciferase assay results?"
   ]
  },
  {
   "cell_type": "code",
   "execution_count": null,
   "metadata": {},
   "outputs": [],
   "source": [
    "stat2_results = pd.read_csv(stat2_luciferase_file)\n",
    "display(stat2_results.sort_values(by='FLUC_RLUC'))"
   ]
  },
  {
   "cell_type": "markdown",
   "metadata": {},
   "source": [
    "#### Correlation between codon tolerance and STAT2 antagonism  \n",
    "Does tolerance in the cell population correlate with known antagonism of STAT2?"
   ]
  },
  {
   "cell_type": "code",
   "execution_count": null,
   "metadata": {},
   "outputs": [],
   "source": [
    "tolerance_stat2_corr = (pd.merge(\n",
    "    left=tolerance[['letter','enrichment']],\n",
    "    right=stat2_results,\n",
    "    left_on='letter',\n",
    "    right_on='amino_acid',\n",
    "    how='outer',\n",
    "    validate='one_to_one')\n",
    "    .drop(columns='letter'))\n",
    "display(tolerance_stat2_corr.sort_values(by='FLUC_RLUC'))\n",
    "\n",
    "tolerance_stat2_corr_plot = (\n",
    "    p9.ggplot(tolerance_stat2_corr) +\n",
    "    p9.aes(x='enrichment',\n",
    "           y='FLUC_RLUC') +\n",
    "    p9.geom_point() +\n",
    "    p9.ggtitle('Correlation between tolerance and\\nSTAT2 antagonism') +\n",
    "    p9.labs(x='codon tolerance\\n(enrichment cell v. plasmid)',\n",
    "            y='STAT2 antagonism\\n(FLUC/RLUC)') +\n",
    "    p9.scale_y_log10() +\n",
    "    p9.theme(figure_size=(3,3),\n",
    "             plot_title=p9.element_text(size=10),\n",
    "             axis_title=p9.element_text(size=9),\n",
    "             axis_text_x=p9.element_text(rotation=45, hjust=1),\n",
    "             legend_position='right',\n",
    "             legend_title=p9.element_text(size=10),\n",
    "             legend_title_align='center'))\n",
    "\n",
    "display(tolerance_stat2_corr_plot)\n",
    "\n",
    "tolerance_stat2_corr_censored_plot = (\n",
    "    p9.ggplot(tolerance_stat2_corr\n",
    "              .query('enrichment > -1')) +\n",
    "    p9.aes(x='enrichment',\n",
    "           y='FLUC_RLUC') +\n",
    "    p9.geom_point() +\n",
    "    p9.ggtitle('Correlation between tolerance and\\nSTAT2 antagonism\\n**outliers censored**') +\n",
    "    p9.labs(x='codon tolerance\\n(enrichment cell v. plasmid)',\n",
    "            y='STAT2 antagonism\\n(FLUC/RLUC)') +\n",
    "    p9.theme(figure_size=(3,3),\n",
    "             plot_title=p9.element_text(size=10),\n",
    "             axis_title=p9.element_text(size=9),\n",
    "             axis_text_x=p9.element_text(rotation=45, hjust=1),\n",
    "             legend_position='right',\n",
    "             legend_title=p9.element_text(size=10),\n",
    "             legend_title_align='center')\n",
    "              )\n",
    "\n",
    "display(tolerance_stat2_corr_censored_plot)"
   ]
  },
  {
   "cell_type": "markdown",
   "metadata": {},
   "source": [
    "#### Correlation between IFN- enrichment and STAT2 antagonism\n",
    "How does enrichment in the IFN- cell population correlate with known antagonism of STAT2?"
   ]
  },
  {
   "cell_type": "code",
   "execution_count": null,
   "metadata": {},
   "outputs": [],
   "source": [
    "Rnd1_IFN_neg_stat2_corr = (pd.merge(\n",
    "    left=Rnd1_IFN_neg_enrichment[['letter','enrichment']],\n",
    "    right=stat2_results,\n",
    "    left_on='letter',\n",
    "    right_on='amino_acid',\n",
    "    how='outer',\n",
    "    validate='one_to_one')\n",
    "    .drop(columns='letter'))\n",
    "display(Rnd1_IFN_neg_stat2_corr.sort_values(by='FLUC_RLUC'))\n",
    "\n",
    "Rnd1_IFN_neg_stat2_corr_plot = (\n",
    "    p9.ggplot(Rnd1_IFN_neg_stat2_corr) +\n",
    "    p9.aes(x='enrichment',\n",
    "           y='FLUC_RLUC') +\n",
    "    p9.geom_point() +\n",
    "    p9.ggtitle('Correlation between IFN- enrichment and\\nSTAT2 antagonism') +\n",
    "    p9.labs(x='IFN- enrichment',\n",
    "            y='STAT2 antagonism\\n(FLUC/RLUC)') +\n",
    "    p9.scale_y_log10() +\n",
    "    p9.theme(figure_size=(3,3),\n",
    "             plot_title=p9.element_text(size=10),\n",
    "             axis_title=p9.element_text(size=9),\n",
    "             axis_text_x=p9.element_text(rotation=45, hjust=1),\n",
    "             legend_position='right',\n",
    "             legend_title=p9.element_text(size=10),\n",
    "             legend_title_align='center'))\n",
    "\n",
    "display(Rnd1_IFN_neg_stat2_corr_plot)\n",
    "\n",
    "Rnd1_IFN_neg_stat2_corr_censored_plot = (\n",
    "    p9.ggplot(Rnd1_IFN_neg_stat2_corr\n",
    "              .query('enrichment < 1')) +\n",
    "    p9.aes(x='enrichment',\n",
    "           y='FLUC_RLUC') +\n",
    "    p9.geom_point() +\n",
    "    p9.ggtitle('Correlation between IFN- enrichment and\\nSTAT2 antagonism\\n**outliers censored**') +\n",
    "    p9.labs(x='IFN- enrichment',\n",
    "            y='STAT2 antagonism\\n(FLUC/RLUC)') +\n",
    "    p9.theme(figure_size=(3,3),\n",
    "             plot_title=p9.element_text(size=10),\n",
    "             axis_title=p9.element_text(size=9),\n",
    "             axis_text_x=p9.element_text(rotation=45, hjust=1),\n",
    "             legend_position='right',\n",
    "             legend_title=p9.element_text(size=10),\n",
    "             legend_title_align='center')\n",
    "              )\n",
    "\n",
    "display(Rnd1_IFN_neg_stat2_corr_censored_plot)"
   ]
  },
  {
   "cell_type": "code",
   "execution_count": null,
   "metadata": {},
   "outputs": [],
   "source": []
  }
 ],
 "metadata": {
  "kernelspec": {
   "display_name": "Python 3 (ipykernel)",
   "language": "python",
   "name": "python3"
  },
  "language_info": {
   "codemirror_mode": {
    "name": "ipython",
    "version": 3
   },
   "file_extension": ".py",
   "mimetype": "text/x-python",
   "name": "python",
   "nbconvert_exporter": "python",
   "pygments_lexer": "ipython3",
   "version": "3.8.5"
  }
 },
 "nbformat": 4,
 "nbformat_minor": 5
}
